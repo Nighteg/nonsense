{
  "nbformat": 4,
  "nbformat_minor": 0,
  "metadata": {
    "colab": {
      "name": "Diplomat.ipynb",
      "provenance": [],
      "collapsed_sections": []
    },
    "kernelspec": {
      "name": "python3",
      "display_name": "Python 3"
    },
    "language_info": {
      "name": "python"
    }
  },
  "cells": [
    {
      "cell_type": "markdown",
      "source": [
        "# Diplomat python exam - Daniel Rodin"
      ],
      "metadata": {
        "id": "LuyBBI8Gau4R"
      }
    },
    {
      "cell_type": "code",
      "execution_count": 62,
      "metadata": {
        "id": "1oewwWM8denH"
      },
      "outputs": [],
      "source": [
        "import pandas as pd\n",
        "import numpy as np\n",
        "import matplotlib.pyplot as plt\n",
        "import seaborn as sns"
      ]
    },
    {
      "cell_type": "code",
      "source": [
        "# I saved the data in a data.xlsx excel file.\n",
        "df = pd.read_excel('data.xlsx')"
      ],
      "metadata": {
        "id": "QtxAKkZfdoFN"
      },
      "execution_count": 2,
      "outputs": []
    },
    {
      "cell_type": "code",
      "source": [
        "df.head(5)"
      ],
      "metadata": {
        "colab": {
          "base_uri": "https://localhost:8080/",
          "height": 206
        },
        "id": "VrD9yLO-dtWy",
        "outputId": "03e5e56e-a686-4fae-adfe-a14dcdb286f0"
      },
      "execution_count": 115,
      "outputs": [
        {
          "output_type": "execute_result",
          "data": {
            "text/html": [
              "\n",
              "  <div id=\"df-0d9add9b-2ef9-4f4a-9bf9-c4456feb8bc5\">\n",
              "    <div class=\"colab-df-container\">\n",
              "      <div>\n",
              "<style scoped>\n",
              "    .dataframe tbody tr th:only-of-type {\n",
              "        vertical-align: middle;\n",
              "    }\n",
              "\n",
              "    .dataframe tbody tr th {\n",
              "        vertical-align: top;\n",
              "    }\n",
              "\n",
              "    .dataframe thead th {\n",
              "        text-align: right;\n",
              "    }\n",
              "</style>\n",
              "<table border=\"1\" class=\"dataframe\">\n",
              "  <thead>\n",
              "    <tr style=\"text-align: right;\">\n",
              "      <th></th>\n",
              "      <th>ID_CUSTOMER</th>\n",
              "      <th>Biz</th>\n",
              "      <th>max_trans_buy</th>\n",
              "      <th>OrderCount</th>\n",
              "      <th>OrderCountLessThen100</th>\n",
              "      <th>ratio_100_bas</th>\n",
              "      <th>avg_NetSaleNoVAT_M</th>\n",
              "      <th>avg_bas_M</th>\n",
              "      <th>distinct_categ</th>\n",
              "      <th>IND_LOW_NUM_CTEGORY</th>\n",
              "      <th>IND_HIGH_FREQ</th>\n",
              "    </tr>\n",
              "  </thead>\n",
              "  <tbody>\n",
              "    <tr>\n",
              "      <th>0</th>\n",
              "      <td>1</td>\n",
              "      <td>1</td>\n",
              "      <td>2016-07-13</td>\n",
              "      <td>1</td>\n",
              "      <td>0</td>\n",
              "      <td>0</td>\n",
              "      <td>229.91</td>\n",
              "      <td>1</td>\n",
              "      <td>3</td>\n",
              "      <td>1</td>\n",
              "      <td>0</td>\n",
              "    </tr>\n",
              "    <tr>\n",
              "      <th>1</th>\n",
              "      <td>2</td>\n",
              "      <td>1</td>\n",
              "      <td>2018-07-11</td>\n",
              "      <td>2</td>\n",
              "      <td>0</td>\n",
              "      <td>0</td>\n",
              "      <td>173.03</td>\n",
              "      <td>1</td>\n",
              "      <td>4</td>\n",
              "      <td>1</td>\n",
              "      <td>0</td>\n",
              "    </tr>\n",
              "    <tr>\n",
              "      <th>2</th>\n",
              "      <td>3</td>\n",
              "      <td>1</td>\n",
              "      <td>2015-04-13</td>\n",
              "      <td>3</td>\n",
              "      <td>0</td>\n",
              "      <td>0</td>\n",
              "      <td>464.46</td>\n",
              "      <td>1</td>\n",
              "      <td>10</td>\n",
              "      <td>0</td>\n",
              "      <td>0</td>\n",
              "    </tr>\n",
              "    <tr>\n",
              "      <th>3</th>\n",
              "      <td>4</td>\n",
              "      <td>1</td>\n",
              "      <td>2020-04-29</td>\n",
              "      <td>1185</td>\n",
              "      <td>0</td>\n",
              "      <td>0</td>\n",
              "      <td>197875.57</td>\n",
              "      <td>592</td>\n",
              "      <td>13</td>\n",
              "      <td>0</td>\n",
              "      <td>1</td>\n",
              "    </tr>\n",
              "    <tr>\n",
              "      <th>4</th>\n",
              "      <td>5</td>\n",
              "      <td>1</td>\n",
              "      <td>2020-03-08</td>\n",
              "      <td>62</td>\n",
              "      <td>0</td>\n",
              "      <td>0</td>\n",
              "      <td>1681.91</td>\n",
              "      <td>3</td>\n",
              "      <td>11</td>\n",
              "      <td>0</td>\n",
              "      <td>0</td>\n",
              "    </tr>\n",
              "  </tbody>\n",
              "</table>\n",
              "</div>\n",
              "      <button class=\"colab-df-convert\" onclick=\"convertToInteractive('df-0d9add9b-2ef9-4f4a-9bf9-c4456feb8bc5')\"\n",
              "              title=\"Convert this dataframe to an interactive table.\"\n",
              "              style=\"display:none;\">\n",
              "        \n",
              "  <svg xmlns=\"http://www.w3.org/2000/svg\" height=\"24px\"viewBox=\"0 0 24 24\"\n",
              "       width=\"24px\">\n",
              "    <path d=\"M0 0h24v24H0V0z\" fill=\"none\"/>\n",
              "    <path d=\"M18.56 5.44l.94 2.06.94-2.06 2.06-.94-2.06-.94-.94-2.06-.94 2.06-2.06.94zm-11 1L8.5 8.5l.94-2.06 2.06-.94-2.06-.94L8.5 2.5l-.94 2.06-2.06.94zm10 10l.94 2.06.94-2.06 2.06-.94-2.06-.94-.94-2.06-.94 2.06-2.06.94z\"/><path d=\"M17.41 7.96l-1.37-1.37c-.4-.4-.92-.59-1.43-.59-.52 0-1.04.2-1.43.59L10.3 9.45l-7.72 7.72c-.78.78-.78 2.05 0 2.83L4 21.41c.39.39.9.59 1.41.59.51 0 1.02-.2 1.41-.59l7.78-7.78 2.81-2.81c.8-.78.8-2.07 0-2.86zM5.41 20L4 18.59l7.72-7.72 1.47 1.35L5.41 20z\"/>\n",
              "  </svg>\n",
              "      </button>\n",
              "      \n",
              "  <style>\n",
              "    .colab-df-container {\n",
              "      display:flex;\n",
              "      flex-wrap:wrap;\n",
              "      gap: 12px;\n",
              "    }\n",
              "\n",
              "    .colab-df-convert {\n",
              "      background-color: #E8F0FE;\n",
              "      border: none;\n",
              "      border-radius: 50%;\n",
              "      cursor: pointer;\n",
              "      display: none;\n",
              "      fill: #1967D2;\n",
              "      height: 32px;\n",
              "      padding: 0 0 0 0;\n",
              "      width: 32px;\n",
              "    }\n",
              "\n",
              "    .colab-df-convert:hover {\n",
              "      background-color: #E2EBFA;\n",
              "      box-shadow: 0px 1px 2px rgba(60, 64, 67, 0.3), 0px 1px 3px 1px rgba(60, 64, 67, 0.15);\n",
              "      fill: #174EA6;\n",
              "    }\n",
              "\n",
              "    [theme=dark] .colab-df-convert {\n",
              "      background-color: #3B4455;\n",
              "      fill: #D2E3FC;\n",
              "    }\n",
              "\n",
              "    [theme=dark] .colab-df-convert:hover {\n",
              "      background-color: #434B5C;\n",
              "      box-shadow: 0px 1px 3px 1px rgba(0, 0, 0, 0.15);\n",
              "      filter: drop-shadow(0px 1px 2px rgba(0, 0, 0, 0.3));\n",
              "      fill: #FFFFFF;\n",
              "    }\n",
              "  </style>\n",
              "\n",
              "      <script>\n",
              "        const buttonEl =\n",
              "          document.querySelector('#df-0d9add9b-2ef9-4f4a-9bf9-c4456feb8bc5 button.colab-df-convert');\n",
              "        buttonEl.style.display =\n",
              "          google.colab.kernel.accessAllowed ? 'block' : 'none';\n",
              "\n",
              "        async function convertToInteractive(key) {\n",
              "          const element = document.querySelector('#df-0d9add9b-2ef9-4f4a-9bf9-c4456feb8bc5');\n",
              "          const dataTable =\n",
              "            await google.colab.kernel.invokeFunction('convertToInteractive',\n",
              "                                                     [key], {});\n",
              "          if (!dataTable) return;\n",
              "\n",
              "          const docLinkHtml = 'Like what you see? Visit the ' +\n",
              "            '<a target=\"_blank\" href=https://colab.research.google.com/notebooks/data_table.ipynb>data table notebook</a>'\n",
              "            + ' to learn more about interactive tables.';\n",
              "          element.innerHTML = '';\n",
              "          dataTable['output_type'] = 'display_data';\n",
              "          await google.colab.output.renderOutput(dataTable, element);\n",
              "          const docLink = document.createElement('div');\n",
              "          docLink.innerHTML = docLinkHtml;\n",
              "          element.appendChild(docLink);\n",
              "        }\n",
              "      </script>\n",
              "    </div>\n",
              "  </div>\n",
              "  "
            ],
            "text/plain": [
              "   ID_CUSTOMER  Biz  ... IND_LOW_NUM_CTEGORY  IND_HIGH_FREQ\n",
              "0            1    1  ...                   1              0\n",
              "1            2    1  ...                   1              0\n",
              "2            3    1  ...                   0              0\n",
              "3            4    1  ...                   0              1\n",
              "4            5    1  ...                   0              0\n",
              "\n",
              "[5 rows x 11 columns]"
            ]
          },
          "metadata": {},
          "execution_count": 115
        }
      ]
    },
    {
      "cell_type": "code",
      "source": [
        "df.shape"
      ],
      "metadata": {
        "colab": {
          "base_uri": "https://localhost:8080/"
        },
        "id": "9m4v17BvduIC",
        "outputId": "51ec5d4d-fde6-459c-e31e-256d0531faa9"
      },
      "execution_count": 5,
      "outputs": [
        {
          "output_type": "execute_result",
          "data": {
            "text/plain": [
              "(4000, 9)"
            ]
          },
          "metadata": {},
          "execution_count": 5
        }
      ]
    },
    {
      "cell_type": "code",
      "source": [
        "df.describe()"
      ],
      "metadata": {
        "colab": {
          "base_uri": "https://localhost:8080/",
          "height": 300
        },
        "id": "U6cqUIRge9ae",
        "outputId": "e83d982b-883a-460b-e887-8b97b1dc040c"
      },
      "execution_count": 7,
      "outputs": [
        {
          "output_type": "execute_result",
          "data": {
            "text/html": [
              "\n",
              "  <div id=\"df-a869ee68-7d8d-4d51-a8de-b9cf915186a0\">\n",
              "    <div class=\"colab-df-container\">\n",
              "      <div>\n",
              "<style scoped>\n",
              "    .dataframe tbody tr th:only-of-type {\n",
              "        vertical-align: middle;\n",
              "    }\n",
              "\n",
              "    .dataframe tbody tr th {\n",
              "        vertical-align: top;\n",
              "    }\n",
              "\n",
              "    .dataframe thead th {\n",
              "        text-align: right;\n",
              "    }\n",
              "</style>\n",
              "<table border=\"1\" class=\"dataframe\">\n",
              "  <thead>\n",
              "    <tr style=\"text-align: right;\">\n",
              "      <th></th>\n",
              "      <th>ID_CUSTOMER</th>\n",
              "      <th>Biz</th>\n",
              "      <th>OrderCount</th>\n",
              "      <th>OrderCountLessThen100</th>\n",
              "      <th>avg_NetSaleNoVAT_M</th>\n",
              "      <th>avg_bas_M</th>\n",
              "      <th>distinct_categ</th>\n",
              "    </tr>\n",
              "  </thead>\n",
              "  <tbody>\n",
              "    <tr>\n",
              "      <th>count</th>\n",
              "      <td>4000.000000</td>\n",
              "      <td>4000.000000</td>\n",
              "      <td>4000.000000</td>\n",
              "      <td>4000.000000</td>\n",
              "      <td>4000.000000</td>\n",
              "      <td>4000.000000</td>\n",
              "      <td>4000.000000</td>\n",
              "    </tr>\n",
              "    <tr>\n",
              "      <th>mean</th>\n",
              "      <td>2000.500000</td>\n",
              "      <td>0.500000</td>\n",
              "      <td>83.368000</td>\n",
              "      <td>2.459250</td>\n",
              "      <td>1522.122270</td>\n",
              "      <td>2.938250</td>\n",
              "      <td>10.673500</td>\n",
              "    </tr>\n",
              "    <tr>\n",
              "      <th>std</th>\n",
              "      <td>1154.844867</td>\n",
              "      <td>0.500063</td>\n",
              "      <td>268.621869</td>\n",
              "      <td>24.954509</td>\n",
              "      <td>4235.539133</td>\n",
              "      <td>10.948374</td>\n",
              "      <td>5.218736</td>\n",
              "    </tr>\n",
              "    <tr>\n",
              "      <th>min</th>\n",
              "      <td>1.000000</td>\n",
              "      <td>0.000000</td>\n",
              "      <td>0.000000</td>\n",
              "      <td>0.000000</td>\n",
              "      <td>-2218.000000</td>\n",
              "      <td>0.000000</td>\n",
              "      <td>1.000000</td>\n",
              "    </tr>\n",
              "    <tr>\n",
              "      <th>25%</th>\n",
              "      <td>1000.750000</td>\n",
              "      <td>0.000000</td>\n",
              "      <td>1.000000</td>\n",
              "      <td>0.000000</td>\n",
              "      <td>286.250000</td>\n",
              "      <td>1.000000</td>\n",
              "      <td>7.000000</td>\n",
              "    </tr>\n",
              "    <tr>\n",
              "      <th>50%</th>\n",
              "      <td>2000.500000</td>\n",
              "      <td>0.500000</td>\n",
              "      <td>11.000000</td>\n",
              "      <td>0.000000</td>\n",
              "      <td>869.135000</td>\n",
              "      <td>2.000000</td>\n",
              "      <td>11.000000</td>\n",
              "    </tr>\n",
              "    <tr>\n",
              "      <th>75%</th>\n",
              "      <td>3000.250000</td>\n",
              "      <td>1.000000</td>\n",
              "      <td>109.000000</td>\n",
              "      <td>1.000000</td>\n",
              "      <td>1989.730000</td>\n",
              "      <td>4.000000</td>\n",
              "      <td>14.000000</td>\n",
              "    </tr>\n",
              "    <tr>\n",
              "      <th>max</th>\n",
              "      <td>4000.000000</td>\n",
              "      <td>1.000000</td>\n",
              "      <td>11149.000000</td>\n",
              "      <td>912.000000</td>\n",
              "      <td>197875.570000</td>\n",
              "      <td>592.000000</td>\n",
              "      <td>29.000000</td>\n",
              "    </tr>\n",
              "  </tbody>\n",
              "</table>\n",
              "</div>\n",
              "      <button class=\"colab-df-convert\" onclick=\"convertToInteractive('df-a869ee68-7d8d-4d51-a8de-b9cf915186a0')\"\n",
              "              title=\"Convert this dataframe to an interactive table.\"\n",
              "              style=\"display:none;\">\n",
              "        \n",
              "  <svg xmlns=\"http://www.w3.org/2000/svg\" height=\"24px\"viewBox=\"0 0 24 24\"\n",
              "       width=\"24px\">\n",
              "    <path d=\"M0 0h24v24H0V0z\" fill=\"none\"/>\n",
              "    <path d=\"M18.56 5.44l.94 2.06.94-2.06 2.06-.94-2.06-.94-.94-2.06-.94 2.06-2.06.94zm-11 1L8.5 8.5l.94-2.06 2.06-.94-2.06-.94L8.5 2.5l-.94 2.06-2.06.94zm10 10l.94 2.06.94-2.06 2.06-.94-2.06-.94-.94-2.06-.94 2.06-2.06.94z\"/><path d=\"M17.41 7.96l-1.37-1.37c-.4-.4-.92-.59-1.43-.59-.52 0-1.04.2-1.43.59L10.3 9.45l-7.72 7.72c-.78.78-.78 2.05 0 2.83L4 21.41c.39.39.9.59 1.41.59.51 0 1.02-.2 1.41-.59l7.78-7.78 2.81-2.81c.8-.78.8-2.07 0-2.86zM5.41 20L4 18.59l7.72-7.72 1.47 1.35L5.41 20z\"/>\n",
              "  </svg>\n",
              "      </button>\n",
              "      \n",
              "  <style>\n",
              "    .colab-df-container {\n",
              "      display:flex;\n",
              "      flex-wrap:wrap;\n",
              "      gap: 12px;\n",
              "    }\n",
              "\n",
              "    .colab-df-convert {\n",
              "      background-color: #E8F0FE;\n",
              "      border: none;\n",
              "      border-radius: 50%;\n",
              "      cursor: pointer;\n",
              "      display: none;\n",
              "      fill: #1967D2;\n",
              "      height: 32px;\n",
              "      padding: 0 0 0 0;\n",
              "      width: 32px;\n",
              "    }\n",
              "\n",
              "    .colab-df-convert:hover {\n",
              "      background-color: #E2EBFA;\n",
              "      box-shadow: 0px 1px 2px rgba(60, 64, 67, 0.3), 0px 1px 3px 1px rgba(60, 64, 67, 0.15);\n",
              "      fill: #174EA6;\n",
              "    }\n",
              "\n",
              "    [theme=dark] .colab-df-convert {\n",
              "      background-color: #3B4455;\n",
              "      fill: #D2E3FC;\n",
              "    }\n",
              "\n",
              "    [theme=dark] .colab-df-convert:hover {\n",
              "      background-color: #434B5C;\n",
              "      box-shadow: 0px 1px 3px 1px rgba(0, 0, 0, 0.15);\n",
              "      filter: drop-shadow(0px 1px 2px rgba(0, 0, 0, 0.3));\n",
              "      fill: #FFFFFF;\n",
              "    }\n",
              "  </style>\n",
              "\n",
              "      <script>\n",
              "        const buttonEl =\n",
              "          document.querySelector('#df-a869ee68-7d8d-4d51-a8de-b9cf915186a0 button.colab-df-convert');\n",
              "        buttonEl.style.display =\n",
              "          google.colab.kernel.accessAllowed ? 'block' : 'none';\n",
              "\n",
              "        async function convertToInteractive(key) {\n",
              "          const element = document.querySelector('#df-a869ee68-7d8d-4d51-a8de-b9cf915186a0');\n",
              "          const dataTable =\n",
              "            await google.colab.kernel.invokeFunction('convertToInteractive',\n",
              "                                                     [key], {});\n",
              "          if (!dataTable) return;\n",
              "\n",
              "          const docLinkHtml = 'Like what you see? Visit the ' +\n",
              "            '<a target=\"_blank\" href=https://colab.research.google.com/notebooks/data_table.ipynb>data table notebook</a>'\n",
              "            + ' to learn more about interactive tables.';\n",
              "          element.innerHTML = '';\n",
              "          dataTable['output_type'] = 'display_data';\n",
              "          await google.colab.output.renderOutput(dataTable, element);\n",
              "          const docLink = document.createElement('div');\n",
              "          docLink.innerHTML = docLinkHtml;\n",
              "          element.appendChild(docLink);\n",
              "        }\n",
              "      </script>\n",
              "    </div>\n",
              "  </div>\n",
              "  "
            ],
            "text/plain": [
              "       ID_CUSTOMER          Biz  ...    avg_bas_M  distinct_categ\n",
              "count  4000.000000  4000.000000  ...  4000.000000     4000.000000\n",
              "mean   2000.500000     0.500000  ...     2.938250       10.673500\n",
              "std    1154.844867     0.500063  ...    10.948374        5.218736\n",
              "min       1.000000     0.000000  ...     0.000000        1.000000\n",
              "25%    1000.750000     0.000000  ...     1.000000        7.000000\n",
              "50%    2000.500000     0.500000  ...     2.000000       11.000000\n",
              "75%    3000.250000     1.000000  ...     4.000000       14.000000\n",
              "max    4000.000000     1.000000  ...   592.000000       29.000000\n",
              "\n",
              "[8 rows x 7 columns]"
            ]
          },
          "metadata": {},
          "execution_count": 7
        }
      ]
    },
    {
      "cell_type": "code",
      "source": [
        "df.info()"
      ],
      "metadata": {
        "colab": {
          "base_uri": "https://localhost:8080/"
        },
        "id": "B7vtIFqLfAvF",
        "outputId": "ab7e3f33-67da-4966-b0d6-5e56841a703c"
      },
      "execution_count": 8,
      "outputs": [
        {
          "output_type": "stream",
          "name": "stdout",
          "text": [
            "<class 'pandas.core.frame.DataFrame'>\n",
            "RangeIndex: 4000 entries, 0 to 3999\n",
            "Data columns (total 9 columns):\n",
            " #   Column                 Non-Null Count  Dtype         \n",
            "---  ------                 --------------  -----         \n",
            " 0   ID_CUSTOMER            4000 non-null   int64         \n",
            " 1   Biz                    4000 non-null   int64         \n",
            " 2   max_trans_buy          4000 non-null   datetime64[ns]\n",
            " 3   OrderCount             4000 non-null   int64         \n",
            " 4   OrderCountLessThen100  4000 non-null   int64         \n",
            " 5   ratio_100_bas          4000 non-null   object        \n",
            " 6   avg_NetSaleNoVAT_M     4000 non-null   float64       \n",
            " 7   avg_bas_M              4000 non-null   int64         \n",
            " 8   distinct_categ         4000 non-null   int64         \n",
            "dtypes: datetime64[ns](1), float64(1), int64(6), object(1)\n",
            "memory usage: 281.4+ KB\n"
          ]
        }
      ]
    },
    {
      "cell_type": "code",
      "source": [
        "df.nunique()"
      ],
      "metadata": {
        "colab": {
          "base_uri": "https://localhost:8080/"
        },
        "id": "qf01fUJ5fTW0",
        "outputId": "66d01d14-b2ae-44ae-cbff-d022674aa03c"
      },
      "execution_count": 12,
      "outputs": [
        {
          "output_type": "execute_result",
          "data": {
            "text/plain": [
              "ID_CUSTOMER              4000\n",
              "Biz                         2\n",
              "max_trans_buy            1037\n",
              "OrderCount                410\n",
              "OrderCountLessThen100      55\n",
              "ratio_100_bas             418\n",
              "avg_NetSaleNoVAT_M       3888\n",
              "avg_bas_M                  36\n",
              "distinct_categ             29\n",
              "dtype: int64"
            ]
          },
          "metadata": {},
          "execution_count": 12
        }
      ]
    },
    {
      "cell_type": "code",
      "source": [
        "# There are no NaN values\n",
        "# If there were, there are a few ways of dealing with them:\n",
        "# 1) If the data is large enough and the number of NULLs is small, I'd consider discarding them.\n",
        "# 2) Replace them with 0\n",
        "# 3) Replace them with the most common occurrence ('mode()' method) or with the average/median of the feature.\n",
        "print(df.isnull().sum())"
      ],
      "metadata": {
        "colab": {
          "base_uri": "https://localhost:8080/"
        },
        "id": "qyaspZOchWnX",
        "outputId": "b3617fde-b566-4411-ba42-7b399cc4ab60"
      },
      "execution_count": 16,
      "outputs": [
        {
          "output_type": "stream",
          "name": "stdout",
          "text": [
            "ID_CUSTOMER              0\n",
            "Biz                      0\n",
            "max_trans_buy            0\n",
            "OrderCount               0\n",
            "OrderCountLessThen100    0\n",
            "ratio_100_bas            0\n",
            "avg_NetSaleNoVAT_M       0\n",
            "avg_bas_M                0\n",
            "distinct_categ           0\n",
            "dtype: int64\n"
          ]
        }
      ]
    },
    {
      "cell_type": "code",
      "source": [
        "# Zero values in the dataframe\n",
        "(df == 0).astype(int).sum(axis=0)"
      ],
      "metadata": {
        "colab": {
          "base_uri": "https://localhost:8080/"
        },
        "id": "jkcjwNKNjOhK",
        "outputId": "cbf5217e-9699-44ba-e61f-338bdb9b24fa"
      },
      "execution_count": 17,
      "outputs": [
        {
          "output_type": "execute_result",
          "data": {
            "text/plain": [
              "ID_CUSTOMER                 0\n",
              "Biz                      2000\n",
              "max_trans_buy               0\n",
              "OrderCount                 18\n",
              "OrderCountLessThen100    2075\n",
              "ratio_100_bas            2057\n",
              "avg_NetSaleNoVAT_M         11\n",
              "avg_bas_M                  53\n",
              "distinct_categ              0\n",
              "dtype: int64"
            ]
          },
          "metadata": {},
          "execution_count": 17
        }
      ]
    },
    {
      "cell_type": "code",
      "source": [
        "# Negative values in the monthly average sales, which probably indicates returned products. \n",
        "df.avg_NetSaleNoVAT_M.sort_values()"
      ],
      "metadata": {
        "colab": {
          "base_uri": "https://localhost:8080/"
        },
        "id": "sMZAzGbWn5fb",
        "outputId": "33a38405-2278-44dc-f61c-53a8c803dcdb"
      },
      "execution_count": 20,
      "outputs": [
        {
          "output_type": "execute_result",
          "data": {
            "text/plain": [
              "3125     -2218.00\n",
              "3968     -1959.97\n",
              "765      -1363.25\n",
              "2512      -934.53\n",
              "3822      -726.80\n",
              "          ...    \n",
              "528      42115.11\n",
              "697      49826.79\n",
              "597      56545.82\n",
              "1130     94924.30\n",
              "3       197875.57\n",
              "Name: avg_NetSaleNoVAT_M, Length: 4000, dtype: float64"
            ]
          },
          "metadata": {},
          "execution_count": 20
        }
      ]
    },
    {
      "cell_type": "code",
      "source": [
        "# Even distribution between business and regular customers\n",
        "df.Biz.value_counts()"
      ],
      "metadata": {
        "colab": {
          "base_uri": "https://localhost:8080/"
        },
        "id": "nNHK2H7XqbIl",
        "outputId": "abe3badd-8f07-4929-b004-6ba996568aae"
      },
      "execution_count": 22,
      "outputs": [
        {
          "output_type": "execute_result",
          "data": {
            "text/plain": [
              "1    2000\n",
              "0    2000\n",
              "Name: Biz, dtype: int64"
            ]
          },
          "metadata": {},
          "execution_count": 22
        }
      ]
    },
    {
      "cell_type": "code",
      "source": [
        "# Even distribution between negative monthly average values for business and regular customers\n",
        "df[df.avg_NetSaleNoVAT_M<0]['Biz'].value_counts(dropna=False)"
      ],
      "metadata": {
        "colab": {
          "base_uri": "https://localhost:8080/"
        },
        "id": "WZlu82TRoRUw",
        "outputId": "50be3766-113e-4496-9be7-cbe8540ab16c"
      },
      "execution_count": 21,
      "outputs": [
        {
          "output_type": "execute_result",
          "data": {
            "text/plain": [
              "0    23\n",
              "1    21\n",
              "Name: Biz, dtype: int64"
            ]
          },
          "metadata": {},
          "execution_count": 21
        }
      ]
    },
    {
      "cell_type": "code",
      "source": [
        "df.groupby('Biz')['OrderCount'].mean().plot.bar(figsize=(8,4))"
      ],
      "metadata": {
        "colab": {
          "base_uri": "https://localhost:8080/",
          "height": 295
        },
        "id": "v-PGl_yWqNcv",
        "outputId": "6cc96411-cd86-4d5b-8e69-d964c9931870"
      },
      "execution_count": 72,
      "outputs": [
        {
          "output_type": "execute_result",
          "data": {
            "text/plain": [
              "<matplotlib.axes._subplots.AxesSubplot at 0x7f6911956850>"
            ]
          },
          "metadata": {},
          "execution_count": 72
        },
        {
          "output_type": "display_data",
          "data": {
            "image/png": "[encoded data removed]",
            "text/plain": [
              "<Figure size 576x288 with 1 Axes>"
            ]
          },
          "metadata": {
            "needs_background": "light"
          }
        }
      ]
    },
    {
      "cell_type": "code",
      "source": [
        "df.OrderCount.mean()"
      ],
      "metadata": {
        "colab": {
          "base_uri": "https://localhost:8080/"
        },
        "id": "7NdyC5KG7lrA",
        "outputId": "754d3ce4-e5f8-433c-8aa6-e4fe981cad91"
      },
      "execution_count": 76,
      "outputs": [
        {
          "output_type": "execute_result",
          "data": {
            "text/plain": [
              "83.368"
            ]
          },
          "metadata": {},
          "execution_count": 76
        }
      ]
    },
    {
      "cell_type": "code",
      "source": [
        "# Business customers have slightly higher monthly average purchases\n",
        "df.groupby('Biz')['avg_NetSaleNoVAT_M'].mean().plot.bar(figsize=(8,4))"
      ],
      "metadata": {
        "colab": {
          "base_uri": "https://localhost:8080/",
          "height": 295
        },
        "id": "9O7LHtblq7-w",
        "outputId": "a06cad14-ce89-42de-8ab7-137fc32cd63b"
      },
      "execution_count": 71,
      "outputs": [
        {
          "output_type": "execute_result",
          "data": {
            "text/plain": [
              "<matplotlib.axes._subplots.AxesSubplot at 0x7f69118882d0>"
            ]
          },
          "metadata": {},
          "execution_count": 71
        },
        {
          "output_type": "display_data",
          "data": {
            "image/png": "[encoded data removed]",
            "text/plain": [
              "<Figure size 576x288 with 1 Axes>"
            ]
          },
          "metadata": {
            "needs_background": "light"
          }
        }
      ]
    },
    {
      "cell_type": "code",
      "source": [
        "# Business customers have significantly higher purchase ratio for small orders.\n",
        "df.groupby('Biz')['OrderCountLessThen100'].mean().plot.bar(figsize=(8,4))"
      ],
      "metadata": {
        "colab": {
          "base_uri": "https://localhost:8080/",
          "height": 295
        },
        "id": "FrPkY2MJrhLv",
        "outputId": "fabafa51-5b85-445e-865e-2aed9b556598"
      },
      "execution_count": 70,
      "outputs": [
        {
          "output_type": "execute_result",
          "data": {
            "text/plain": [
              "<matplotlib.axes._subplots.AxesSubplot at 0x7f69117f9d50>"
            ]
          },
          "metadata": {},
          "execution_count": 70
        },
        {
          "output_type": "display_data",
          "data": {
            "image/png": "[encoded data removed]",
            "text/plain": [
              "<Figure size 576x288 with 1 Axes>"
            ]
          },
          "metadata": {
            "needs_background": "light"
          }
        }
      ]
    },
    {
      "cell_type": "code",
      "source": [
        "df.groupby('Biz')['distinct_categ'].mean().plot.bar(figsize=(8,4))"
      ],
      "metadata": {
        "colab": {
          "base_uri": "https://localhost:8080/",
          "height": 295
        },
        "id": "Dl_901Jw8Pfo",
        "outputId": "56d5ca9f-155d-4ac9-9002-1c47f3ed2a95"
      },
      "execution_count": 83,
      "outputs": [
        {
          "output_type": "execute_result",
          "data": {
            "text/plain": [
              "<matplotlib.axes._subplots.AxesSubplot at 0x7f6910661fd0>"
            ]
          },
          "metadata": {},
          "execution_count": 83
        },
        {
          "output_type": "display_data",
          "data": {
            "image/png": "[encoded data removed]",
            "text/plain": [
              "<Figure size 576x288 with 1 Axes>"
            ]
          },
          "metadata": {
            "needs_background": "light"
          }
        }
      ]
    },
    {
      "cell_type": "code",
      "source": [
        "df.distinct_categ.mean()"
      ],
      "metadata": {
        "colab": {
          "base_uri": "https://localhost:8080/"
        },
        "id": "qQd2Gl_F8VbW",
        "outputId": "45aa493d-bb7d-4057-a68d-ab7d88d67c70"
      },
      "execution_count": 84,
      "outputs": [
        {
          "output_type": "execute_result",
          "data": {
            "text/plain": [
              "10.6735"
            ]
          },
          "metadata": {},
          "execution_count": 84
        }
      ]
    },
    {
      "cell_type": "code",
      "source": [
        "df.distinct_categ.median()"
      ],
      "metadata": {
        "colab": {
          "base_uri": "https://localhost:8080/"
        },
        "id": "vj90ruuq-0h5",
        "outputId": "d24572fb-66b8-4212-dc16-1358e12a6f4d"
      },
      "execution_count": 103,
      "outputs": [
        {
          "output_type": "execute_result",
          "data": {
            "text/plain": [
              "11.0"
            ]
          },
          "metadata": {},
          "execution_count": 103
        }
      ]
    },
    {
      "cell_type": "code",
      "source": [
        "# There seems to be a correlation between certain categories and business customers\n",
        "df.groupby(['distinct_categ', 'Biz']).size().unstack().plot(width = 0.7, kind='bar',figsize=(15, 5), color=['red', 'gold'], title='Unique categories by business association', rot=50);"
      ],
      "metadata": {
        "colab": {
          "base_uri": "https://localhost:8080/",
          "height": 357
        },
        "id": "Rs92zQRWr4i1",
        "outputId": "05eb5c95-9657-4c2d-86be-8d31657fc689"
      },
      "execution_count": 69,
      "outputs": [
        {
          "output_type": "display_data",
          "data": {
            "image/png": "[encoded data removed]",
            "text/plain": [
              "<Figure size 1080x360 with 1 Axes>"
            ]
          },
          "metadata": {
            "needs_background": "light"
          }
        }
      ]
    },
    {
      "cell_type": "code",
      "source": [
        "# Biz customers prefer <100 NIS baskets\n",
        "sns.relplot(x=\"distinct_categ\", y=\"OrderCount\", hue='OrderCountLessThen100',\n",
        "            col=\"Biz\", data=df, height=5);"
      ],
      "metadata": {
        "colab": {
          "base_uri": "https://localhost:8080/",
          "height": 370
        },
        "id": "kvQPd1AK2MVS",
        "outputId": "aad77105-b5b2-4bfa-ed45-9f12e929f80b"
      },
      "execution_count": 67,
      "outputs": [
        {
          "output_type": "display_data",
          "data": {
            "image/png": "[encoded data removed]",
            "text/plain": [
              "<Figure size 851.625x360 with 2 Axes>"
            ]
          },
          "metadata": {
            "needs_background": "light"
          }
        }
      ]
    },
    {
      "cell_type": "code",
      "source": [
        "# Distinct categories distribution\n",
        "df.groupby('distinct_categ')['ID_CUSTOMER'].count().plot.bar()"
      ],
      "metadata": {
        "colab": {
          "base_uri": "https://localhost:8080/",
          "height": 301
        },
        "id": "-iwK6sStsfLn",
        "outputId": "3b08ec17-a69b-4b86-b5fe-47162e9947d7"
      },
      "execution_count": 53,
      "outputs": [
        {
          "output_type": "execute_result",
          "data": {
            "text/plain": [
              "<matplotlib.axes._subplots.AxesSubplot at 0x7f6923884310>"
            ]
          },
          "metadata": {},
          "execution_count": 53
        },
        {
          "output_type": "display_data",
          "data": {
            "image/png": "[encoded data removed]",
            "text/plain": [
              "<Figure size 432x288 with 1 Axes>"
            ]
          },
          "metadata": {
            "needs_background": "light"
          }
        }
      ]
    },
    {
      "cell_type": "code",
      "source": [
        "df[df['Biz'] == 1].distinct_categ.mean()"
      ],
      "metadata": {
        "colab": {
          "base_uri": "https://localhost:8080/"
        },
        "id": "WiA50DiHzKLh",
        "outputId": "79e78979-646c-4a0f-99d1-025fa4a3d231"
      },
      "execution_count": 58,
      "outputs": [
        {
          "output_type": "execute_result",
          "data": {
            "text/plain": [
              "10.5785"
            ]
          },
          "metadata": {},
          "execution_count": 58
        }
      ]
    },
    {
      "cell_type": "code",
      "source": [
        "df[df['Biz'] == 0].distinct_categ.mean()"
      ],
      "metadata": {
        "colab": {
          "base_uri": "https://localhost:8080/"
        },
        "id": "68jkGVCC0KzI",
        "outputId": "53d4245a-86fa-44ae-a9d8-1823e7ea283a"
      },
      "execution_count": 59,
      "outputs": [
        {
          "output_type": "execute_result",
          "data": {
            "text/plain": [
              "10.7685"
            ]
          },
          "metadata": {},
          "execution_count": 59
        }
      ]
    },
    {
      "cell_type": "code",
      "source": [
        "# The average number of categories for business and none business customer is almost identical."
      ],
      "metadata": {
        "id": "03OGhCis0a8t"
      },
      "execution_count": 60,
      "outputs": []
    },
    {
      "cell_type": "markdown",
      "source": [
        "# IND_LOW_NUM_CTEGORY\n",
        "\n",
        "**1 = buy less categories (under 30th percentile)**\n",
        "---\n",
        "**0 = rest of the customers**"
      ],
      "metadata": {
        "id": "QPqsUSYm_wTR"
      }
    },
    {
      "cell_type": "code",
      "source": [
        "df.distinct_categ.quantile(0.3)"
      ],
      "metadata": {
        "colab": {
          "base_uri": "https://localhost:8080/"
        },
        "id": "ucSAGpZl8qmE",
        "outputId": "b784ef7d-e9c4-4826-acd8-faac5959823f"
      },
      "execution_count": 104,
      "outputs": [
        {
          "output_type": "execute_result",
          "data": {
            "text/plain": [
              "8.0"
            ]
          },
          "metadata": {},
          "execution_count": 104
        }
      ]
    },
    {
      "cell_type": "code",
      "source": [
        "df['IND_LOW_NUM_CTEGORY'] = df['distinct_categ'].apply(lambda x: 1 if x < 8 else 0)"
      ],
      "metadata": {
        "id": "v2uKiZLx0nkU"
      },
      "execution_count": 106,
      "outputs": []
    },
    {
      "cell_type": "code",
      "source": [
        "df.IND_LOW_NUM_CTEGORY.value_counts()"
      ],
      "metadata": {
        "colab": {
          "base_uri": "https://localhost:8080/"
        },
        "id": "gXjLw4I819cv",
        "outputId": "3daea8d0-4ff7-4281-92b3-b9e7f6486e4e"
      },
      "execution_count": 107,
      "outputs": [
        {
          "output_type": "execute_result",
          "data": {
            "text/plain": [
              "0    2826\n",
              "1    1174\n",
              "Name: IND_LOW_NUM_CTEGORY, dtype: int64"
            ]
          },
          "metadata": {},
          "execution_count": 107
        }
      ]
    },
    {
      "cell_type": "markdown",
      "source": [
        "# IND_HIGH_FREQ\n",
        "\n",
        "**1 = high monthly acquisition rate (70th percentile and above)**\n",
        "---\n",
        "**0 = rest of the customers**"
      ],
      "metadata": {
        "id": "nNglvi4aBBhJ"
      }
    },
    {
      "cell_type": "code",
      "source": [
        "df.avg_bas_M.quantile(0.7)"
      ],
      "metadata": {
        "colab": {
          "base_uri": "https://localhost:8080/"
        },
        "id": "QsaQa_97Ag7k",
        "outputId": "3cb976b4-93ca-4730-cfae-eb6950b682d4"
      },
      "execution_count": 114,
      "outputs": [
        {
          "output_type": "execute_result",
          "data": {
            "text/plain": [
              "4.0"
            ]
          },
          "metadata": {},
          "execution_count": 114
        }
      ]
    },
    {
      "cell_type": "code",
      "source": [
        "df.drop('IND_HIGH_FREQ', axis=1, inplace=True)"
      ],
      "metadata": {
        "id": "yQbAfYrBB0OH"
      },
      "execution_count": 119,
      "outputs": []
    },
    {
      "cell_type": "code",
      "source": [
        "df['IND_HIGH_FREQ'] = df['avg_bas_M'].apply(lambda x: 1 if x > 4 else 0)"
      ],
      "metadata": {
        "id": "kUQQrtMe61A5"
      },
      "execution_count": 120,
      "outputs": []
    },
    {
      "cell_type": "code",
      "source": [
        "df.IND_HIGH_FREQ.value_counts()"
      ],
      "metadata": {
        "colab": {
          "base_uri": "https://localhost:8080/"
        },
        "id": "iAaxJqh4AqkV",
        "outputId": "af521b46-49a6-4e60-fdac-6bb1a4043bca"
      },
      "execution_count": 121,
      "outputs": [
        {
          "output_type": "execute_result",
          "data": {
            "text/plain": [
              "0    3627\n",
              "1     373\n",
              "Name: IND_HIGH_FREQ, dtype: int64"
            ]
          },
          "metadata": {},
          "execution_count": 121
        }
      ]
    },
    {
      "cell_type": "markdown",
      "source": [
        "# IND_HIGH_RATIO_SMALL_BAS\n",
        "\n",
        "**1 = high quantity of small baskets (70th percentile and above)**\n",
        "---\n",
        "**0 = rest of the customers**"
      ],
      "metadata": {
        "id": "N_qlhSXaDSB2"
      }
    },
    {
      "cell_type": "code",
      "source": [
        "# The question marks in the ratio_100_bas column will be transformed into 0 (they all come from customers with negative avg_NetSaleNoVAT_M)\n",
        "df[~df.applymap(np.isreal).all(1)]"
      ],
      "metadata": {
        "colab": {
          "base_uri": "https://localhost:8080/",
          "height": 657
        },
        "id": "5GDiwi2BAugV",
        "outputId": "4d93f762-cc16-46ba-ad1d-187ed968cc03"
      },
      "execution_count": 130,
      "outputs": [
        {
          "output_type": "execute_result",
          "data": {
            "text/html": [
              "\n",
              "  <div id=\"df-11503842-2167-474d-b0da-ec9b7d4bae9f\">\n",
              "    <div class=\"colab-df-container\">\n",
              "      <div>\n",
              "<style scoped>\n",
              "    .dataframe tbody tr th:only-of-type {\n",
              "        vertical-align: middle;\n",
              "    }\n",
              "\n",
              "    .dataframe tbody tr th {\n",
              "        vertical-align: top;\n",
              "    }\n",
              "\n",
              "    .dataframe thead th {\n",
              "        text-align: right;\n",
              "    }\n",
              "</style>\n",
              "<table border=\"1\" class=\"dataframe\">\n",
              "  <thead>\n",
              "    <tr style=\"text-align: right;\">\n",
              "      <th></th>\n",
              "      <th>ID_CUSTOMER</th>\n",
              "      <th>Biz</th>\n",
              "      <th>max_trans_buy</th>\n",
              "      <th>OrderCount</th>\n",
              "      <th>OrderCountLessThen100</th>\n",
              "      <th>ratio_100_bas</th>\n",
              "      <th>avg_NetSaleNoVAT_M</th>\n",
              "      <th>avg_bas_M</th>\n",
              "      <th>distinct_categ</th>\n",
              "      <th>IND_LOW_NUM_CTEGORY</th>\n",
              "      <th>IND_HIGH_FREQ</th>\n",
              "    </tr>\n",
              "  </thead>\n",
              "  <tbody>\n",
              "    <tr>\n",
              "      <th>83</th>\n",
              "      <td>84</td>\n",
              "      <td>1</td>\n",
              "      <td>2016-11-22</td>\n",
              "      <td>0</td>\n",
              "      <td>0</td>\n",
              "      <td>?</td>\n",
              "      <td>-0.66</td>\n",
              "      <td>0</td>\n",
              "      <td>1</td>\n",
              "      <td>1</td>\n",
              "      <td>0</td>\n",
              "    </tr>\n",
              "    <tr>\n",
              "      <th>223</th>\n",
              "      <td>224</td>\n",
              "      <td>1</td>\n",
              "      <td>2016-10-06</td>\n",
              "      <td>0</td>\n",
              "      <td>0</td>\n",
              "      <td>?</td>\n",
              "      <td>-170.94</td>\n",
              "      <td>0</td>\n",
              "      <td>1</td>\n",
              "      <td>1</td>\n",
              "      <td>0</td>\n",
              "    </tr>\n",
              "    <tr>\n",
              "      <th>231</th>\n",
              "      <td>232</td>\n",
              "      <td>1</td>\n",
              "      <td>2016-11-22</td>\n",
              "      <td>0</td>\n",
              "      <td>0</td>\n",
              "      <td>?</td>\n",
              "      <td>-6.84</td>\n",
              "      <td>0</td>\n",
              "      <td>1</td>\n",
              "      <td>1</td>\n",
              "      <td>0</td>\n",
              "    </tr>\n",
              "    <tr>\n",
              "      <th>249</th>\n",
              "      <td>250</td>\n",
              "      <td>1</td>\n",
              "      <td>2016-11-22</td>\n",
              "      <td>0</td>\n",
              "      <td>0</td>\n",
              "      <td>?</td>\n",
              "      <td>-0.44</td>\n",
              "      <td>0</td>\n",
              "      <td>1</td>\n",
              "      <td>1</td>\n",
              "      <td>0</td>\n",
              "    </tr>\n",
              "    <tr>\n",
              "      <th>361</th>\n",
              "      <td>362</td>\n",
              "      <td>1</td>\n",
              "      <td>2016-11-22</td>\n",
              "      <td>0</td>\n",
              "      <td>0</td>\n",
              "      <td>?</td>\n",
              "      <td>-1.71</td>\n",
              "      <td>0</td>\n",
              "      <td>1</td>\n",
              "      <td>1</td>\n",
              "      <td>0</td>\n",
              "    </tr>\n",
              "    <tr>\n",
              "      <th>404</th>\n",
              "      <td>405</td>\n",
              "      <td>1</td>\n",
              "      <td>2015-01-13</td>\n",
              "      <td>0</td>\n",
              "      <td>0</td>\n",
              "      <td>?</td>\n",
              "      <td>-4.24</td>\n",
              "      <td>0</td>\n",
              "      <td>1</td>\n",
              "      <td>1</td>\n",
              "      <td>0</td>\n",
              "    </tr>\n",
              "    <tr>\n",
              "      <th>701</th>\n",
              "      <td>702</td>\n",
              "      <td>1</td>\n",
              "      <td>2016-11-22</td>\n",
              "      <td>0</td>\n",
              "      <td>0</td>\n",
              "      <td>?</td>\n",
              "      <td>-5.73</td>\n",
              "      <td>0</td>\n",
              "      <td>1</td>\n",
              "      <td>1</td>\n",
              "      <td>0</td>\n",
              "    </tr>\n",
              "    <tr>\n",
              "      <th>765</th>\n",
              "      <td>766</td>\n",
              "      <td>1</td>\n",
              "      <td>2018-07-26</td>\n",
              "      <td>0</td>\n",
              "      <td>0</td>\n",
              "      <td>?</td>\n",
              "      <td>-1363.25</td>\n",
              "      <td>0</td>\n",
              "      <td>1</td>\n",
              "      <td>1</td>\n",
              "      <td>0</td>\n",
              "    </tr>\n",
              "    <tr>\n",
              "      <th>784</th>\n",
              "      <td>785</td>\n",
              "      <td>1</td>\n",
              "      <td>2016-11-22</td>\n",
              "      <td>0</td>\n",
              "      <td>0</td>\n",
              "      <td>?</td>\n",
              "      <td>-4.50</td>\n",
              "      <td>0</td>\n",
              "      <td>1</td>\n",
              "      <td>1</td>\n",
              "      <td>0</td>\n",
              "    </tr>\n",
              "    <tr>\n",
              "      <th>804</th>\n",
              "      <td>805</td>\n",
              "      <td>1</td>\n",
              "      <td>2016-11-22</td>\n",
              "      <td>0</td>\n",
              "      <td>0</td>\n",
              "      <td>?</td>\n",
              "      <td>-29.04</td>\n",
              "      <td>0</td>\n",
              "      <td>1</td>\n",
              "      <td>1</td>\n",
              "      <td>0</td>\n",
              "    </tr>\n",
              "    <tr>\n",
              "      <th>914</th>\n",
              "      <td>915</td>\n",
              "      <td>1</td>\n",
              "      <td>2015-01-13</td>\n",
              "      <td>0</td>\n",
              "      <td>0</td>\n",
              "      <td>?</td>\n",
              "      <td>-4.24</td>\n",
              "      <td>0</td>\n",
              "      <td>1</td>\n",
              "      <td>1</td>\n",
              "      <td>0</td>\n",
              "    </tr>\n",
              "    <tr>\n",
              "      <th>1100</th>\n",
              "      <td>1101</td>\n",
              "      <td>1</td>\n",
              "      <td>2016-11-22</td>\n",
              "      <td>0</td>\n",
              "      <td>0</td>\n",
              "      <td>?</td>\n",
              "      <td>-0.01</td>\n",
              "      <td>0</td>\n",
              "      <td>1</td>\n",
              "      <td>1</td>\n",
              "      <td>0</td>\n",
              "    </tr>\n",
              "    <tr>\n",
              "      <th>1407</th>\n",
              "      <td>1408</td>\n",
              "      <td>1</td>\n",
              "      <td>2019-02-07</td>\n",
              "      <td>0</td>\n",
              "      <td>0</td>\n",
              "      <td>?</td>\n",
              "      <td>-170.94</td>\n",
              "      <td>0</td>\n",
              "      <td>1</td>\n",
              "      <td>1</td>\n",
              "      <td>0</td>\n",
              "    </tr>\n",
              "    <tr>\n",
              "      <th>1412</th>\n",
              "      <td>1413</td>\n",
              "      <td>1</td>\n",
              "      <td>2016-11-22</td>\n",
              "      <td>0</td>\n",
              "      <td>0</td>\n",
              "      <td>?</td>\n",
              "      <td>-0.43</td>\n",
              "      <td>0</td>\n",
              "      <td>1</td>\n",
              "      <td>1</td>\n",
              "      <td>0</td>\n",
              "    </tr>\n",
              "    <tr>\n",
              "      <th>1486</th>\n",
              "      <td>1487</td>\n",
              "      <td>1</td>\n",
              "      <td>2016-07-03</td>\n",
              "      <td>0</td>\n",
              "      <td>0</td>\n",
              "      <td>?</td>\n",
              "      <td>-434.66</td>\n",
              "      <td>0</td>\n",
              "      <td>1</td>\n",
              "      <td>1</td>\n",
              "      <td>0</td>\n",
              "    </tr>\n",
              "    <tr>\n",
              "      <th>1597</th>\n",
              "      <td>1598</td>\n",
              "      <td>1</td>\n",
              "      <td>2016-11-22</td>\n",
              "      <td>0</td>\n",
              "      <td>0</td>\n",
              "      <td>?</td>\n",
              "      <td>0.00</td>\n",
              "      <td>0</td>\n",
              "      <td>1</td>\n",
              "      <td>1</td>\n",
              "      <td>0</td>\n",
              "    </tr>\n",
              "    <tr>\n",
              "      <th>1622</th>\n",
              "      <td>1623</td>\n",
              "      <td>1</td>\n",
              "      <td>2019-11-14</td>\n",
              "      <td>0</td>\n",
              "      <td>0</td>\n",
              "      <td>?</td>\n",
              "      <td>-12.91</td>\n",
              "      <td>0</td>\n",
              "      <td>1</td>\n",
              "      <td>1</td>\n",
              "      <td>0</td>\n",
              "    </tr>\n",
              "    <tr>\n",
              "      <th>1999</th>\n",
              "      <td>2000</td>\n",
              "      <td>1</td>\n",
              "      <td>2016-11-22</td>\n",
              "      <td>0</td>\n",
              "      <td>0</td>\n",
              "      <td>?</td>\n",
              "      <td>-4.19</td>\n",
              "      <td>0</td>\n",
              "      <td>1</td>\n",
              "      <td>1</td>\n",
              "      <td>0</td>\n",
              "    </tr>\n",
              "  </tbody>\n",
              "</table>\n",
              "</div>\n",
              "      <button class=\"colab-df-convert\" onclick=\"convertToInteractive('df-11503842-2167-474d-b0da-ec9b7d4bae9f')\"\n",
              "              title=\"Convert this dataframe to an interactive table.\"\n",
              "              style=\"display:none;\">\n",
              "        \n",
              "  <svg xmlns=\"http://www.w3.org/2000/svg\" height=\"24px\"viewBox=\"0 0 24 24\"\n",
              "       width=\"24px\">\n",
              "    <path d=\"M0 0h24v24H0V0z\" fill=\"none\"/>\n",
              "    <path d=\"M18.56 5.44l.94 2.06.94-2.06 2.06-.94-2.06-.94-.94-2.06-.94 2.06-2.06.94zm-11 1L8.5 8.5l.94-2.06 2.06-.94-2.06-.94L8.5 2.5l-.94 2.06-2.06.94zm10 10l.94 2.06.94-2.06 2.06-.94-2.06-.94-.94-2.06-.94 2.06-2.06.94z\"/><path d=\"M17.41 7.96l-1.37-1.37c-.4-.4-.92-.59-1.43-.59-.52 0-1.04.2-1.43.59L10.3 9.45l-7.72 7.72c-.78.78-.78 2.05 0 2.83L4 21.41c.39.39.9.59 1.41.59.51 0 1.02-.2 1.41-.59l7.78-7.78 2.81-2.81c.8-.78.8-2.07 0-2.86zM5.41 20L4 18.59l7.72-7.72 1.47 1.35L5.41 20z\"/>\n",
              "  </svg>\n",
              "      </button>\n",
              "      \n",
              "  <style>\n",
              "    .colab-df-container {\n",
              "      display:flex;\n",
              "      flex-wrap:wrap;\n",
              "      gap: 12px;\n",
              "    }\n",
              "\n",
              "    .colab-df-convert {\n",
              "      background-color: #E8F0FE;\n",
              "      border: none;\n",
              "      border-radius: 50%;\n",
              "      cursor: pointer;\n",
              "      display: none;\n",
              "      fill: #1967D2;\n",
              "      height: 32px;\n",
              "      padding: 0 0 0 0;\n",
              "      width: 32px;\n",
              "    }\n",
              "\n",
              "    .colab-df-convert:hover {\n",
              "      background-color: #E2EBFA;\n",
              "      box-shadow: 0px 1px 2px rgba(60, 64, 67, 0.3), 0px 1px 3px 1px rgba(60, 64, 67, 0.15);\n",
              "      fill: #174EA6;\n",
              "    }\n",
              "\n",
              "    [theme=dark] .colab-df-convert {\n",
              "      background-color: #3B4455;\n",
              "      fill: #D2E3FC;\n",
              "    }\n",
              "\n",
              "    [theme=dark] .colab-df-convert:hover {\n",
              "      background-color: #434B5C;\n",
              "      box-shadow: 0px 1px 3px 1px rgba(0, 0, 0, 0.15);\n",
              "      filter: drop-shadow(0px 1px 2px rgba(0, 0, 0, 0.3));\n",
              "      fill: #FFFFFF;\n",
              "    }\n",
              "  </style>\n",
              "\n",
              "      <script>\n",
              "        const buttonEl =\n",
              "          document.querySelector('#df-11503842-2167-474d-b0da-ec9b7d4bae9f button.colab-df-convert');\n",
              "        buttonEl.style.display =\n",
              "          google.colab.kernel.accessAllowed ? 'block' : 'none';\n",
              "\n",
              "        async function convertToInteractive(key) {\n",
              "          const element = document.querySelector('#df-11503842-2167-474d-b0da-ec9b7d4bae9f');\n",
              "          const dataTable =\n",
              "            await google.colab.kernel.invokeFunction('convertToInteractive',\n",
              "                                                     [key], {});\n",
              "          if (!dataTable) return;\n",
              "\n",
              "          const docLinkHtml = 'Like what you see? Visit the ' +\n",
              "            '<a target=\"_blank\" href=https://colab.research.google.com/notebooks/data_table.ipynb>data table notebook</a>'\n",
              "            + ' to learn more about interactive tables.';\n",
              "          element.innerHTML = '';\n",
              "          dataTable['output_type'] = 'display_data';\n",
              "          await google.colab.output.renderOutput(dataTable, element);\n",
              "          const docLink = document.createElement('div');\n",
              "          docLink.innerHTML = docLinkHtml;\n",
              "          element.appendChild(docLink);\n",
              "        }\n",
              "      </script>\n",
              "    </div>\n",
              "  </div>\n",
              "  "
            ],
            "text/plain": [
              "      ID_CUSTOMER  Biz  ... IND_LOW_NUM_CTEGORY  IND_HIGH_FREQ\n",
              "83             84    1  ...                   1              0\n",
              "223           224    1  ...                   1              0\n",
              "231           232    1  ...                   1              0\n",
              "249           250    1  ...                   1              0\n",
              "361           362    1  ...                   1              0\n",
              "404           405    1  ...                   1              0\n",
              "701           702    1  ...                   1              0\n",
              "765           766    1  ...                   1              0\n",
              "784           785    1  ...                   1              0\n",
              "804           805    1  ...                   1              0\n",
              "914           915    1  ...                   1              0\n",
              "1100         1101    1  ...                   1              0\n",
              "1407         1408    1  ...                   1              0\n",
              "1412         1413    1  ...                   1              0\n",
              "1486         1487    1  ...                   1              0\n",
              "1597         1598    1  ...                   1              0\n",
              "1622         1623    1  ...                   1              0\n",
              "1999         2000    1  ...                   1              0\n",
              "\n",
              "[18 rows x 11 columns]"
            ]
          },
          "metadata": {},
          "execution_count": 130
        }
      ]
    },
    {
      "cell_type": "code",
      "source": [
        "df.ratio_100_bas.replace(to_replace='?', value=0, inplace=True)"
      ],
      "metadata": {
        "id": "-UnRYH-BD-j8"
      },
      "execution_count": 131,
      "outputs": []
    },
    {
      "cell_type": "code",
      "source": [
        "# No '?' left in the data:\n",
        "df[~df.applymap(np.isreal).all(1)]"
      ],
      "metadata": {
        "colab": {
          "base_uri": "https://localhost:8080/",
          "height": 49
        },
        "id": "vwWNLpA3F55O",
        "outputId": "e0dcd382-4334-4ec5-c15c-e6c688ee37eb"
      },
      "execution_count": 132,
      "outputs": [
        {
          "output_type": "execute_result",
          "data": {
            "text/html": [
              "\n",
              "  <div id=\"df-8c144a4f-3387-4c1e-b0e1-1eecb4dd5ec5\">\n",
              "    <div class=\"colab-df-container\">\n",
              "      <div>\n",
              "<style scoped>\n",
              "    .dataframe tbody tr th:only-of-type {\n",
              "        vertical-align: middle;\n",
              "    }\n",
              "\n",
              "    .dataframe tbody tr th {\n",
              "        vertical-align: top;\n",
              "    }\n",
              "\n",
              "    .dataframe thead th {\n",
              "        text-align: right;\n",
              "    }\n",
              "</style>\n",
              "<table border=\"1\" class=\"dataframe\">\n",
              "  <thead>\n",
              "    <tr style=\"text-align: right;\">\n",
              "      <th></th>\n",
              "      <th>ID_CUSTOMER</th>\n",
              "      <th>Biz</th>\n",
              "      <th>max_trans_buy</th>\n",
              "      <th>OrderCount</th>\n",
              "      <th>OrderCountLessThen100</th>\n",
              "      <th>ratio_100_bas</th>\n",
              "      <th>avg_NetSaleNoVAT_M</th>\n",
              "      <th>avg_bas_M</th>\n",
              "      <th>distinct_categ</th>\n",
              "      <th>IND_LOW_NUM_CTEGORY</th>\n",
              "      <th>IND_HIGH_FREQ</th>\n",
              "    </tr>\n",
              "  </thead>\n",
              "  <tbody>\n",
              "  </tbody>\n",
              "</table>\n",
              "</div>\n",
              "      <button class=\"colab-df-convert\" onclick=\"convertToInteractive('df-8c144a4f-3387-4c1e-b0e1-1eecb4dd5ec5')\"\n",
              "              title=\"Convert this dataframe to an interactive table.\"\n",
              "              style=\"display:none;\">\n",
              "        \n",
              "  <svg xmlns=\"http://www.w3.org/2000/svg\" height=\"24px\"viewBox=\"0 0 24 24\"\n",
              "       width=\"24px\">\n",
              "    <path d=\"M0 0h24v24H0V0z\" fill=\"none\"/>\n",
              "    <path d=\"M18.56 5.44l.94 2.06.94-2.06 2.06-.94-2.06-.94-.94-2.06-.94 2.06-2.06.94zm-11 1L8.5 8.5l.94-2.06 2.06-.94-2.06-.94L8.5 2.5l-.94 2.06-2.06.94zm10 10l.94 2.06.94-2.06 2.06-.94-2.06-.94-.94-2.06-.94 2.06-2.06.94z\"/><path d=\"M17.41 7.96l-1.37-1.37c-.4-.4-.92-.59-1.43-.59-.52 0-1.04.2-1.43.59L10.3 9.45l-7.72 7.72c-.78.78-.78 2.05 0 2.83L4 21.41c.39.39.9.59 1.41.59.51 0 1.02-.2 1.41-.59l7.78-7.78 2.81-2.81c.8-.78.8-2.07 0-2.86zM5.41 20L4 18.59l7.72-7.72 1.47 1.35L5.41 20z\"/>\n",
              "  </svg>\n",
              "      </button>\n",
              "      \n",
              "  <style>\n",
              "    .colab-df-container {\n",
              "      display:flex;\n",
              "      flex-wrap:wrap;\n",
              "      gap: 12px;\n",
              "    }\n",
              "\n",
              "    .colab-df-convert {\n",
              "      background-color: #E8F0FE;\n",
              "      border: none;\n",
              "      border-radius: 50%;\n",
              "      cursor: pointer;\n",
              "      display: none;\n",
              "      fill: #1967D2;\n",
              "      height: 32px;\n",
              "      padding: 0 0 0 0;\n",
              "      width: 32px;\n",
              "    }\n",
              "\n",
              "    .colab-df-convert:hover {\n",
              "      background-color: #E2EBFA;\n",
              "      box-shadow: 0px 1px 2px rgba(60, 64, 67, 0.3), 0px 1px 3px 1px rgba(60, 64, 67, 0.15);\n",
              "      fill: #174EA6;\n",
              "    }\n",
              "\n",
              "    [theme=dark] .colab-df-convert {\n",
              "      background-color: #3B4455;\n",
              "      fill: #D2E3FC;\n",
              "    }\n",
              "\n",
              "    [theme=dark] .colab-df-convert:hover {\n",
              "      background-color: #434B5C;\n",
              "      box-shadow: 0px 1px 3px 1px rgba(0, 0, 0, 0.15);\n",
              "      filter: drop-shadow(0px 1px 2px rgba(0, 0, 0, 0.3));\n",
              "      fill: #FFFFFF;\n",
              "    }\n",
              "  </style>\n",
              "\n",
              "      <script>\n",
              "        const buttonEl =\n",
              "          document.querySelector('#df-8c144a4f-3387-4c1e-b0e1-1eecb4dd5ec5 button.colab-df-convert');\n",
              "        buttonEl.style.display =\n",
              "          google.colab.kernel.accessAllowed ? 'block' : 'none';\n",
              "\n",
              "        async function convertToInteractive(key) {\n",
              "          const element = document.querySelector('#df-8c144a4f-3387-4c1e-b0e1-1eecb4dd5ec5');\n",
              "          const dataTable =\n",
              "            await google.colab.kernel.invokeFunction('convertToInteractive',\n",
              "                                                     [key], {});\n",
              "          if (!dataTable) return;\n",
              "\n",
              "          const docLinkHtml = 'Like what you see? Visit the ' +\n",
              "            '<a target=\"_blank\" href=https://colab.research.google.com/notebooks/data_table.ipynb>data table notebook</a>'\n",
              "            + ' to learn more about interactive tables.';\n",
              "          element.innerHTML = '';\n",
              "          dataTable['output_type'] = 'display_data';\n",
              "          await google.colab.output.renderOutput(dataTable, element);\n",
              "          const docLink = document.createElement('div');\n",
              "          docLink.innerHTML = docLinkHtml;\n",
              "          element.appendChild(docLink);\n",
              "        }\n",
              "      </script>\n",
              "    </div>\n",
              "  </div>\n",
              "  "
            ],
            "text/plain": [
              "Empty DataFrame\n",
              "Columns: [ID_CUSTOMER, Biz, max_trans_buy, OrderCount, OrderCountLessThen100, ratio_100_bas, avg_NetSaleNoVAT_M, avg_bas_M, distinct_categ, IND_LOW_NUM_CTEGORY, IND_HIGH_FREQ]\n",
              "Index: []"
            ]
          },
          "metadata": {},
          "execution_count": 132
        }
      ]
    },
    {
      "cell_type": "code",
      "source": [
        "df.ratio_100_bas.mean()"
      ],
      "metadata": {
        "colab": {
          "base_uri": "https://localhost:8080/"
        },
        "id": "CqKg0C-qGal-",
        "outputId": "f32f177c-c03b-439d-9c48-92c67d17d844"
      },
      "execution_count": 134,
      "outputs": [
        {
          "output_type": "execute_result",
          "data": {
            "text/plain": [
              "0.20874457500000002"
            ]
          },
          "metadata": {},
          "execution_count": 134
        }
      ]
    },
    {
      "cell_type": "code",
      "source": [
        "df.ratio_100_bas.quantile(0.7)"
      ],
      "metadata": {
        "colab": {
          "base_uri": "https://localhost:8080/"
        },
        "id": "G2WgV3ixGeqw",
        "outputId": "f98564ab-b4fe-4b78-8c67-93dce00c4c42"
      },
      "execution_count": 135,
      "outputs": [
        {
          "output_type": "execute_result",
          "data": {
            "text/plain": [
              "0.026999999999999996"
            ]
          },
          "metadata": {},
          "execution_count": 135
        }
      ]
    },
    {
      "cell_type": "code",
      "source": [
        "df['IND_HIGH_RATIO_SMALL_BAS'] = df['ratio_100_bas'].apply(lambda x: 1 if x > 0.27 else 0)"
      ],
      "metadata": {
        "id": "5SwsTL92F_T1"
      },
      "execution_count": 136,
      "outputs": []
    },
    {
      "cell_type": "code",
      "source": [
        "df.IND_HIGH_RATIO_SMALL_BAS.value_counts()"
      ],
      "metadata": {
        "colab": {
          "base_uri": "https://localhost:8080/"
        },
        "id": "WPSsx796GEWs",
        "outputId": "c2d7767f-35c1-4b1f-9ce1-8414baf46823"
      },
      "execution_count": 137,
      "outputs": [
        {
          "output_type": "execute_result",
          "data": {
            "text/plain": [
              "0    3183\n",
              "1     817\n",
              "Name: IND_HIGH_RATIO_SMALL_BAS, dtype: int64"
            ]
          },
          "metadata": {},
          "execution_count": 137
        }
      ]
    },
    {
      "cell_type": "markdown",
      "source": [
        "# BIG_BASKET_IND\n",
        "\n",
        "**1 = high monthly basket value (80th percentile and above)**\n",
        "---\n",
        "**0 = rest of the customers**"
      ],
      "metadata": {
        "id": "afW_91gzHaDt"
      }
    },
    {
      "cell_type": "code",
      "source": [
        "df.avg_NetSaleNoVAT_M.mean()"
      ],
      "metadata": {
        "colab": {
          "base_uri": "https://localhost:8080/"
        },
        "id": "1vf552YxGrDa",
        "outputId": "5ba556b5-79ff-486a-8487-a27da8842269"
      },
      "execution_count": 138,
      "outputs": [
        {
          "output_type": "execute_result",
          "data": {
            "text/plain": [
              "1522.122270000003"
            ]
          },
          "metadata": {},
          "execution_count": 138
        }
      ]
    },
    {
      "cell_type": "code",
      "source": [
        "df.avg_NetSaleNoVAT_M.quantile(0.8)"
      ],
      "metadata": {
        "colab": {
          "base_uri": "https://localhost:8080/"
        },
        "id": "D7NP_x6PIt9t",
        "outputId": "9288de79-e8cd-4049-db69-100a72339d68"
      },
      "execution_count": 139,
      "outputs": [
        {
          "output_type": "execute_result",
          "data": {
            "text/plain": [
              "2258.166000000001"
            ]
          },
          "metadata": {},
          "execution_count": 139
        }
      ]
    },
    {
      "cell_type": "code",
      "source": [
        "df['BIG_BASKET_IND'] = df['avg_NetSaleNoVAT_M'].apply(lambda x: 1 if x > df.avg_NetSaleNoVAT_M.quantile(0.8) else 0)"
      ],
      "metadata": {
        "id": "tqAiNp4oI1WL"
      },
      "execution_count": 140,
      "outputs": []
    },
    {
      "cell_type": "code",
      "source": [
        "df.BIG_BASKET_IND.value_counts()"
      ],
      "metadata": {
        "colab": {
          "base_uri": "https://localhost:8080/"
        },
        "id": "ZnbBeACDJECo",
        "outputId": "97017a36-fd0e-4ebb-980c-5908ac059d62"
      },
      "execution_count": 141,
      "outputs": [
        {
          "output_type": "execute_result",
          "data": {
            "text/plain": [
              "0    3200\n",
              "1     800\n",
              "Name: BIG_BASKET_IND, dtype: int64"
            ]
          },
          "metadata": {},
          "execution_count": 141
        }
      ]
    },
    {
      "cell_type": "markdown",
      "source": [
        "# SUM BUSINESS \n",
        "Sums up the 3 indicators (big basket, high ratio of small baskets and ind high frequency). The higher the number, the bigger the chance that the customer is business customer. Ranges from 0 to 3."
      ],
      "metadata": {
        "id": "k-eMS1xNYc9x"
      }
    },
    {
      "cell_type": "code",
      "source": [
        "df['SUM_BUSINESS']=(df.loc[:,['BIG_BASKET_IND','IND_HIGH_RATIO_SMALL_BAS', 'IND_HIGH_FREQ']].sum(axis=1))"
      ],
      "metadata": {
        "id": "fmeIBtJAK7t6"
      },
      "execution_count": 144,
      "outputs": []
    },
    {
      "cell_type": "markdown",
      "source": [
        "# IS BUSINESS\n",
        "If SUM BUSINESS is higher than 1, AND indicator for low number of categories is 0, the customer is potentially a business customer."
      ],
      "metadata": {
        "id": "HbNKKqa5ZIdK"
      }
    },
    {
      "cell_type": "code",
      "source": [
        "def flag_df(x):\n",
        "    \n",
        "    if (x['SUM_BUSINESS'] > 1 ) and (x['IND_LOW_NUM_CTEGORY'] == 0):\n",
        "        return 1\n",
        "    else:\n",
        "        return 0\n",
        "    \n",
        "df['IS_BUSINESS'] = df.apply(flag_df, axis = 1)"
      ],
      "metadata": {
        "id": "mW65Tlv0PwaP"
      },
      "execution_count": 160,
      "outputs": []
    },
    {
      "cell_type": "code",
      "source": [
        "df.IS_BUSINESS.value_counts()"
      ],
      "metadata": {
        "colab": {
          "base_uri": "https://localhost:8080/"
        },
        "id": "31kzQsjuRbIx",
        "outputId": "6d77adbc-1195-498d-d084-cd52b5d28e6e"
      },
      "execution_count": 161,
      "outputs": [
        {
          "output_type": "execute_result",
          "data": {
            "text/plain": [
              "0    3796\n",
              "1     204\n",
              "Name: IS_BUSINESS, dtype: int64"
            ]
          },
          "metadata": {},
          "execution_count": 161
        }
      ]
    },
    {
      "cell_type": "code",
      "source": [
        "# 100 customers that defined as Biz=0 but have the potential to be business customers:\n",
        "df[(df['IS_BUSINESS'] == 1) & (df['Biz'] == 0)]"
      ],
      "metadata": {
        "colab": {
          "base_uri": "https://localhost:8080/",
          "height": 487
        },
        "id": "-XY1cAB1RvXo",
        "outputId": "76d55279-185a-47e0-fb00-b8774a0a638e"
      },
      "execution_count": 162,
      "outputs": [
        {
          "output_type": "execute_result",
          "data": {
            "text/html": [
              "\n",
              "  <div id=\"df-e8d82789-a169-4e8e-ba24-b3da92a8ee19\">\n",
              "    <div class=\"colab-df-container\">\n",
              "      <div>\n",
              "<style scoped>\n",
              "    .dataframe tbody tr th:only-of-type {\n",
              "        vertical-align: middle;\n",
              "    }\n",
              "\n",
              "    .dataframe tbody tr th {\n",
              "        vertical-align: top;\n",
              "    }\n",
              "\n",
              "    .dataframe thead th {\n",
              "        text-align: right;\n",
              "    }\n",
              "</style>\n",
              "<table border=\"1\" class=\"dataframe\">\n",
              "  <thead>\n",
              "    <tr style=\"text-align: right;\">\n",
              "      <th></th>\n",
              "      <th>ID_CUSTOMER</th>\n",
              "      <th>Biz</th>\n",
              "      <th>max_trans_buy</th>\n",
              "      <th>OrderCount</th>\n",
              "      <th>OrderCountLessThen100</th>\n",
              "      <th>ratio_100_bas</th>\n",
              "      <th>avg_NetSaleNoVAT_M</th>\n",
              "      <th>avg_bas_M</th>\n",
              "      <th>distinct_categ</th>\n",
              "      <th>IND_LOW_NUM_CTEGORY</th>\n",
              "      <th>IND_HIGH_FREQ</th>\n",
              "      <th>IND_HIGH_RATIO_SMALL_BAS</th>\n",
              "      <th>BIG_BASKET_IND</th>\n",
              "      <th>SUM_BUSINESS</th>\n",
              "      <th>IS_BUSINESS</th>\n",
              "    </tr>\n",
              "  </thead>\n",
              "  <tbody>\n",
              "    <tr>\n",
              "      <th>2007</th>\n",
              "      <td>2008</td>\n",
              "      <td>0</td>\n",
              "      <td>2020-03-18</td>\n",
              "      <td>28</td>\n",
              "      <td>0</td>\n",
              "      <td>0.0000</td>\n",
              "      <td>5336.39</td>\n",
              "      <td>5</td>\n",
              "      <td>19</td>\n",
              "      <td>0</td>\n",
              "      <td>1</td>\n",
              "      <td>0</td>\n",
              "      <td>1</td>\n",
              "      <td>2</td>\n",
              "      <td>1</td>\n",
              "    </tr>\n",
              "    <tr>\n",
              "      <th>2062</th>\n",
              "      <td>2063</td>\n",
              "      <td>0</td>\n",
              "      <td>2020-04-30</td>\n",
              "      <td>10</td>\n",
              "      <td>1</td>\n",
              "      <td>0.1000</td>\n",
              "      <td>3795.60</td>\n",
              "      <td>5</td>\n",
              "      <td>13</td>\n",
              "      <td>0</td>\n",
              "      <td>1</td>\n",
              "      <td>0</td>\n",
              "      <td>1</td>\n",
              "      <td>2</td>\n",
              "      <td>1</td>\n",
              "    </tr>\n",
              "    <tr>\n",
              "      <th>2070</th>\n",
              "      <td>2071</td>\n",
              "      <td>0</td>\n",
              "      <td>2020-04-05</td>\n",
              "      <td>323</td>\n",
              "      <td>1</td>\n",
              "      <td>0.0031</td>\n",
              "      <td>2736.30</td>\n",
              "      <td>5</td>\n",
              "      <td>17</td>\n",
              "      <td>0</td>\n",
              "      <td>1</td>\n",
              "      <td>0</td>\n",
              "      <td>1</td>\n",
              "      <td>2</td>\n",
              "      <td>1</td>\n",
              "    </tr>\n",
              "    <tr>\n",
              "      <th>2092</th>\n",
              "      <td>2093</td>\n",
              "      <td>0</td>\n",
              "      <td>2020-04-23</td>\n",
              "      <td>340</td>\n",
              "      <td>0</td>\n",
              "      <td>0.0000</td>\n",
              "      <td>2955.51</td>\n",
              "      <td>5</td>\n",
              "      <td>14</td>\n",
              "      <td>0</td>\n",
              "      <td>1</td>\n",
              "      <td>0</td>\n",
              "      <td>1</td>\n",
              "      <td>2</td>\n",
              "      <td>1</td>\n",
              "    </tr>\n",
              "    <tr>\n",
              "      <th>2120</th>\n",
              "      <td>2121</td>\n",
              "      <td>0</td>\n",
              "      <td>2020-04-28</td>\n",
              "      <td>5</td>\n",
              "      <td>0</td>\n",
              "      <td>0.0000</td>\n",
              "      <td>3333.64</td>\n",
              "      <td>5</td>\n",
              "      <td>20</td>\n",
              "      <td>0</td>\n",
              "      <td>1</td>\n",
              "      <td>0</td>\n",
              "      <td>1</td>\n",
              "      <td>2</td>\n",
              "      <td>1</td>\n",
              "    </tr>\n",
              "    <tr>\n",
              "      <th>...</th>\n",
              "      <td>...</td>\n",
              "      <td>...</td>\n",
              "      <td>...</td>\n",
              "      <td>...</td>\n",
              "      <td>...</td>\n",
              "      <td>...</td>\n",
              "      <td>...</td>\n",
              "      <td>...</td>\n",
              "      <td>...</td>\n",
              "      <td>...</td>\n",
              "      <td>...</td>\n",
              "      <td>...</td>\n",
              "      <td>...</td>\n",
              "      <td>...</td>\n",
              "      <td>...</td>\n",
              "    </tr>\n",
              "    <tr>\n",
              "      <th>3889</th>\n",
              "      <td>3890</td>\n",
              "      <td>0</td>\n",
              "      <td>2020-04-30</td>\n",
              "      <td>439</td>\n",
              "      <td>4</td>\n",
              "      <td>0.0091</td>\n",
              "      <td>2827.24</td>\n",
              "      <td>6</td>\n",
              "      <td>12</td>\n",
              "      <td>0</td>\n",
              "      <td>1</td>\n",
              "      <td>0</td>\n",
              "      <td>1</td>\n",
              "      <td>2</td>\n",
              "      <td>1</td>\n",
              "    </tr>\n",
              "    <tr>\n",
              "      <th>3901</th>\n",
              "      <td>3902</td>\n",
              "      <td>0</td>\n",
              "      <td>2020-04-27</td>\n",
              "      <td>301</td>\n",
              "      <td>11</td>\n",
              "      <td>0.0365</td>\n",
              "      <td>2262.22</td>\n",
              "      <td>7</td>\n",
              "      <td>10</td>\n",
              "      <td>0</td>\n",
              "      <td>1</td>\n",
              "      <td>0</td>\n",
              "      <td>1</td>\n",
              "      <td>2</td>\n",
              "      <td>1</td>\n",
              "    </tr>\n",
              "    <tr>\n",
              "      <th>3943</th>\n",
              "      <td>3944</td>\n",
              "      <td>0</td>\n",
              "      <td>2020-04-28</td>\n",
              "      <td>10</td>\n",
              "      <td>1</td>\n",
              "      <td>0.1000</td>\n",
              "      <td>2580.80</td>\n",
              "      <td>5</td>\n",
              "      <td>13</td>\n",
              "      <td>0</td>\n",
              "      <td>1</td>\n",
              "      <td>0</td>\n",
              "      <td>1</td>\n",
              "      <td>2</td>\n",
              "      <td>1</td>\n",
              "    </tr>\n",
              "    <tr>\n",
              "      <th>3986</th>\n",
              "      <td>3987</td>\n",
              "      <td>0</td>\n",
              "      <td>2020-04-28</td>\n",
              "      <td>477</td>\n",
              "      <td>0</td>\n",
              "      <td>0.0000</td>\n",
              "      <td>5348.42</td>\n",
              "      <td>7</td>\n",
              "      <td>17</td>\n",
              "      <td>0</td>\n",
              "      <td>1</td>\n",
              "      <td>0</td>\n",
              "      <td>1</td>\n",
              "      <td>2</td>\n",
              "      <td>1</td>\n",
              "    </tr>\n",
              "    <tr>\n",
              "      <th>3996</th>\n",
              "      <td>3997</td>\n",
              "      <td>0</td>\n",
              "      <td>2020-05-01</td>\n",
              "      <td>23</td>\n",
              "      <td>0</td>\n",
              "      <td>0.0000</td>\n",
              "      <td>4680.20</td>\n",
              "      <td>7</td>\n",
              "      <td>13</td>\n",
              "      <td>0</td>\n",
              "      <td>1</td>\n",
              "      <td>0</td>\n",
              "      <td>1</td>\n",
              "      <td>2</td>\n",
              "      <td>1</td>\n",
              "    </tr>\n",
              "  </tbody>\n",
              "</table>\n",
              "<p>100 rows × 15 columns</p>\n",
              "</div>\n",
              "      <button class=\"colab-df-convert\" onclick=\"convertToInteractive('df-e8d82789-a169-4e8e-ba24-b3da92a8ee19')\"\n",
              "              title=\"Convert this dataframe to an interactive table.\"\n",
              "              style=\"display:none;\">\n",
              "        \n",
              "  <svg xmlns=\"http://www.w3.org/2000/svg\" height=\"24px\"viewBox=\"0 0 24 24\"\n",
              "       width=\"24px\">\n",
              "    <path d=\"M0 0h24v24H0V0z\" fill=\"none\"/>\n",
              "    <path d=\"M18.56 5.44l.94 2.06.94-2.06 2.06-.94-2.06-.94-.94-2.06-.94 2.06-2.06.94zm-11 1L8.5 8.5l.94-2.06 2.06-.94-2.06-.94L8.5 2.5l-.94 2.06-2.06.94zm10 10l.94 2.06.94-2.06 2.06-.94-2.06-.94-.94-2.06-.94 2.06-2.06.94z\"/><path d=\"M17.41 7.96l-1.37-1.37c-.4-.4-.92-.59-1.43-.59-.52 0-1.04.2-1.43.59L10.3 9.45l-7.72 7.72c-.78.78-.78 2.05 0 2.83L4 21.41c.39.39.9.59 1.41.59.51 0 1.02-.2 1.41-.59l7.78-7.78 2.81-2.81c.8-.78.8-2.07 0-2.86zM5.41 20L4 18.59l7.72-7.72 1.47 1.35L5.41 20z\"/>\n",
              "  </svg>\n",
              "      </button>\n",
              "      \n",
              "  <style>\n",
              "    .colab-df-container {\n",
              "      display:flex;\n",
              "      flex-wrap:wrap;\n",
              "      gap: 12px;\n",
              "    }\n",
              "\n",
              "    .colab-df-convert {\n",
              "      background-color: #E8F0FE;\n",
              "      border: none;\n",
              "      border-radius: 50%;\n",
              "      cursor: pointer;\n",
              "      display: none;\n",
              "      fill: #1967D2;\n",
              "      height: 32px;\n",
              "      padding: 0 0 0 0;\n",
              "      width: 32px;\n",
              "    }\n",
              "\n",
              "    .colab-df-convert:hover {\n",
              "      background-color: #E2EBFA;\n",
              "      box-shadow: 0px 1px 2px rgba(60, 64, 67, 0.3), 0px 1px 3px 1px rgba(60, 64, 67, 0.15);\n",
              "      fill: #174EA6;\n",
              "    }\n",
              "\n",
              "    [theme=dark] .colab-df-convert {\n",
              "      background-color: #3B4455;\n",
              "      fill: #D2E3FC;\n",
              "    }\n",
              "\n",
              "    [theme=dark] .colab-df-convert:hover {\n",
              "      background-color: #434B5C;\n",
              "      box-shadow: 0px 1px 3px 1px rgba(0, 0, 0, 0.15);\n",
              "      filter: drop-shadow(0px 1px 2px rgba(0, 0, 0, 0.3));\n",
              "      fill: #FFFFFF;\n",
              "    }\n",
              "  </style>\n",
              "\n",
              "      <script>\n",
              "        const buttonEl =\n",
              "          document.querySelector('#df-e8d82789-a169-4e8e-ba24-b3da92a8ee19 button.colab-df-convert');\n",
              "        buttonEl.style.display =\n",
              "          google.colab.kernel.accessAllowed ? 'block' : 'none';\n",
              "\n",
              "        async function convertToInteractive(key) {\n",
              "          const element = document.querySelector('#df-e8d82789-a169-4e8e-ba24-b3da92a8ee19');\n",
              "          const dataTable =\n",
              "            await google.colab.kernel.invokeFunction('convertToInteractive',\n",
              "                                                     [key], {});\n",
              "          if (!dataTable) return;\n",
              "\n",
              "          const docLinkHtml = 'Like what you see? Visit the ' +\n",
              "            '<a target=\"_blank\" href=https://colab.research.google.com/notebooks/data_table.ipynb>data table notebook</a>'\n",
              "            + ' to learn more about interactive tables.';\n",
              "          element.innerHTML = '';\n",
              "          dataTable['output_type'] = 'display_data';\n",
              "          await google.colab.output.renderOutput(dataTable, element);\n",
              "          const docLink = document.createElement('div');\n",
              "          docLink.innerHTML = docLinkHtml;\n",
              "          element.appendChild(docLink);\n",
              "        }\n",
              "      </script>\n",
              "    </div>\n",
              "  </div>\n",
              "  "
            ],
            "text/plain": [
              "      ID_CUSTOMER  Biz max_trans_buy  ...  BIG_BASKET_IND  SUM_BUSINESS  IS_BUSINESS\n",
              "2007         2008    0    2020-03-18  ...               1             2            1\n",
              "2062         2063    0    2020-04-30  ...               1             2            1\n",
              "2070         2071    0    2020-04-05  ...               1             2            1\n",
              "2092         2093    0    2020-04-23  ...               1             2            1\n",
              "2120         2121    0    2020-04-28  ...               1             2            1\n",
              "...           ...  ...           ...  ...             ...           ...          ...\n",
              "3889         3890    0    2020-04-30  ...               1             2            1\n",
              "3901         3902    0    2020-04-27  ...               1             2            1\n",
              "3943         3944    0    2020-04-28  ...               1             2            1\n",
              "3986         3987    0    2020-04-28  ...               1             2            1\n",
              "3996         3997    0    2020-05-01  ...               1             2            1\n",
              "\n",
              "[100 rows x 15 columns]"
            ]
          },
          "metadata": {},
          "execution_count": 162
        }
      ]
    },
    {
      "cell_type": "markdown",
      "source": [
        "# Conclusion:\n",
        "I have found a number of customers that are potentially have wrong classification as none business customers. The threshold can be reduced (SUM BUSINESS > 0) and the number of potential business customers will increase with it."
      ],
      "metadata": {
        "id": "VR2yp8FmZovh"
      }
    }
  ]
}