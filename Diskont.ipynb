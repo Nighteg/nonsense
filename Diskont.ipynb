{
  "nbformat": 4,
  "nbformat_minor": 0,
  "metadata": {
    "colab": {
      "name": "Diskont.ipynb",
      "provenance": [],
      "collapsed_sections": []
    },
    "kernelspec": {
      "name": "python3",
      "display_name": "Python 3"
    },
    "language_info": {
      "name": "python"
    }
  },
  "cells": [
    {
      "cell_type": "markdown",
      "source": [
        "# Question 1"
      ],
      "metadata": {
        "id": "rdA6d-4DbssY"
      }
    },
    {
      "cell_type": "markdown",
      "source": [
        "# Write a function calles similar_str(s_1, s_2).\n",
        "The function will get two strings and return TRUE if these two strings are  two edits away from each other, otherwise FALSE.\n",
        "Allowed actions: Add, Delete or change a character.\n"
      ],
      "metadata": {
        "id": "dplJjA7exh0H"
      }
    },
    {
      "cell_type": "markdown",
      "source": [
        "Levinstain distance"
      ],
      "metadata": {
        "id": "2KqfElv0w66a"
      }
    },
    {
      "cell_type": "code",
      "source": [
        "def ld(s, t):\n",
        "    \"This function returns the Levenshtein distance between 2 strings\"\n",
        "    if s == \"\":\n",
        "        return len(t)\n",
        "    if t == \"\":\n",
        "        return len(s)\n",
        "    if s[-1] == t[-1]:\n",
        "        cost = 0\n",
        "    else:\n",
        "        cost = 1\n",
        "       \n",
        "    res = min([ld(s[:-1], t)+1,\n",
        "               ld(s, t[:-1])+1,\n",
        "               ld(s[:-1], t[:-1]) + cost])\n",
        "\n",
        "    return res\n"
      ],
      "metadata": {
        "id": "OfscL_Ucrrkw"
      },
      "execution_count": 53,
      "outputs": []
    },
    {
      "cell_type": "code",
      "source": [
        "def similar_str(s, t):\n",
        "    \"This function indicates if 2 strings are 2 edits away\"\n",
        "    return ld(s,t) == 2"
      ],
      "metadata": {
        "id": "HWxjZVegoAi-"
      },
      "execution_count": 58,
      "outputs": []
    },
    {
      "cell_type": "markdown",
      "source": [
        "Example:"
      ],
      "metadata": {
        "id": "77AHo4XX2eiQ"
      }
    },
    {
      "cell_type": "code",
      "source": [
        "similar_str('python', 'pytheq')"
      ],
      "metadata": {
        "colab": {
          "base_uri": "https://localhost:8080/"
        },
        "id": "boZVY-MIwuoA",
        "outputId": "11e6f620-2f9c-4e89-95f6-fd43864dcb15"
      },
      "execution_count": 62,
      "outputs": [
        {
          "output_type": "execute_result",
          "data": {
            "text/plain": [
              "True"
            ]
          },
          "metadata": {},
          "execution_count": 62
        }
      ]
    },
    {
      "cell_type": "markdown",
      "source": [
        "# Question 2"
      ],
      "metadata": {
        "id": "CEl9Ju_dbwBM"
      }
    },
    {
      "cell_type": "markdown",
      "source": [
        "Your team communicates with DBs on a daily basis, like Oracle DB (PL-SQL). The problem is that they connect, read and write with their own different scripts. It seems a bit un-organized and inefficient – for a generic task like so.\n",
        "You are asked to write a class in python script (or “pseudo” like python) in module named connect_db.py that all of your teammates would use, and will allow them to read and write to the Database. \n",
        "We care less about syntax and more about your way of thinking, clean code and modularity.\n",
        "\n",
        "Here are few of the details to make a connection with a database:\n",
        "Use cx_oracle package, to establish a simple connection. A simple example:\n",
        "import cx_oracle\n",
        "connection = cx_oracle.connect(user_name, password, database_address)\n",
        "cursor = connection.cursor()\n",
        "\n",
        "These connection parameters below are similar for the whole team. In your answer, please address in few words to the issue of how would store them and later pass to your class or functions in your code.\n",
        "Oracle user name: user1\n",
        "Oracle password: p@ssw0rd\n",
        "Oracle database address: idb_lab\n"
      ],
      "metadata": {
        "id": "Ry44rUXfxwVD"
      }
    },
    {
      "cell_type": "code",
      "source": [
        "pip install cx_Oracle"
      ],
      "metadata": {
        "colab": {
          "base_uri": "https://localhost:8080/"
        },
        "id": "oN8_gkRVxyLi",
        "outputId": "d16ba337-c817-4553-c812-529e37ce5839"
      },
      "execution_count": 60,
      "outputs": [
        {
          "output_type": "stream",
          "name": "stdout",
          "text": [
            "Collecting cx_Oracle\n",
            "  Downloading cx_Oracle-8.3.0-cp37-cp37m-manylinux_2_5_x86_64.manylinux1_x86_64.manylinux_2_12_x86_64.manylinux2010_x86_64.whl (852 kB)\n",
            "\u001b[?25l\r\u001b[K     |▍                               | 10 kB 25.1 MB/s eta 0:00:01\r\u001b[K     |▊                               | 20 kB 11.1 MB/s eta 0:00:01\r\u001b[K     |█▏                              | 30 kB 8.9 MB/s eta 0:00:01\r\u001b[K     |█▌                              | 40 kB 8.1 MB/s eta 0:00:01\r\u001b[K     |██                              | 51 kB 5.3 MB/s eta 0:00:01\r\u001b[K     |██▎                             | 61 kB 5.5 MB/s eta 0:00:01\r\u001b[K     |██▊                             | 71 kB 5.3 MB/s eta 0:00:01\r\u001b[K     |███                             | 81 kB 5.9 MB/s eta 0:00:01\r\u001b[K     |███▌                            | 92 kB 6.0 MB/s eta 0:00:01\r\u001b[K     |███▉                            | 102 kB 5.1 MB/s eta 0:00:01\r\u001b[K     |████▎                           | 112 kB 5.1 MB/s eta 0:00:01\r\u001b[K     |████▋                           | 122 kB 5.1 MB/s eta 0:00:01\r\u001b[K     |█████                           | 133 kB 5.1 MB/s eta 0:00:01\r\u001b[K     |█████▍                          | 143 kB 5.1 MB/s eta 0:00:01\r\u001b[K     |█████▊                          | 153 kB 5.1 MB/s eta 0:00:01\r\u001b[K     |██████▏                         | 163 kB 5.1 MB/s eta 0:00:01\r\u001b[K     |██████▌                         | 174 kB 5.1 MB/s eta 0:00:01\r\u001b[K     |███████                         | 184 kB 5.1 MB/s eta 0:00:01\r\u001b[K     |███████▎                        | 194 kB 5.1 MB/s eta 0:00:01\r\u001b[K     |███████▊                        | 204 kB 5.1 MB/s eta 0:00:01\r\u001b[K     |████████                        | 215 kB 5.1 MB/s eta 0:00:01\r\u001b[K     |████████▌                       | 225 kB 5.1 MB/s eta 0:00:01\r\u001b[K     |████████▉                       | 235 kB 5.1 MB/s eta 0:00:01\r\u001b[K     |█████████▎                      | 245 kB 5.1 MB/s eta 0:00:01\r\u001b[K     |█████████▋                      | 256 kB 5.1 MB/s eta 0:00:01\r\u001b[K     |██████████                      | 266 kB 5.1 MB/s eta 0:00:01\r\u001b[K     |██████████▍                     | 276 kB 5.1 MB/s eta 0:00:01\r\u001b[K     |██████████▊                     | 286 kB 5.1 MB/s eta 0:00:01\r\u001b[K     |███████████▏                    | 296 kB 5.1 MB/s eta 0:00:01\r\u001b[K     |███████████▌                    | 307 kB 5.1 MB/s eta 0:00:01\r\u001b[K     |████████████                    | 317 kB 5.1 MB/s eta 0:00:01\r\u001b[K     |████████████▎                   | 327 kB 5.1 MB/s eta 0:00:01\r\u001b[K     |████████████▊                   | 337 kB 5.1 MB/s eta 0:00:01\r\u001b[K     |█████████████                   | 348 kB 5.1 MB/s eta 0:00:01\r\u001b[K     |█████████████▌                  | 358 kB 5.1 MB/s eta 0:00:01\r\u001b[K     |█████████████▉                  | 368 kB 5.1 MB/s eta 0:00:01\r\u001b[K     |██████████████▎                 | 378 kB 5.1 MB/s eta 0:00:01\r\u001b[K     |██████████████▋                 | 389 kB 5.1 MB/s eta 0:00:01\r\u001b[K     |███████████████                 | 399 kB 5.1 MB/s eta 0:00:01\r\u001b[K     |███████████████▍                | 409 kB 5.1 MB/s eta 0:00:01\r\u001b[K     |███████████████▊                | 419 kB 5.1 MB/s eta 0:00:01\r\u001b[K     |████████████████▏               | 430 kB 5.1 MB/s eta 0:00:01\r\u001b[K     |████████████████▌               | 440 kB 5.1 MB/s eta 0:00:01\r\u001b[K     |█████████████████               | 450 kB 5.1 MB/s eta 0:00:01\r\u001b[K     |█████████████████▎              | 460 kB 5.1 MB/s eta 0:00:01\r\u001b[K     |█████████████████▊              | 471 kB 5.1 MB/s eta 0:00:01\r\u001b[K     |██████████████████              | 481 kB 5.1 MB/s eta 0:00:01\r\u001b[K     |██████████████████▌             | 491 kB 5.1 MB/s eta 0:00:01\r\u001b[K     |██████████████████▉             | 501 kB 5.1 MB/s eta 0:00:01\r\u001b[K     |███████████████████▏            | 512 kB 5.1 MB/s eta 0:00:01\r\u001b[K     |███████████████████▋            | 522 kB 5.1 MB/s eta 0:00:01\r\u001b[K     |████████████████████            | 532 kB 5.1 MB/s eta 0:00:01\r\u001b[K     |████████████████████▍           | 542 kB 5.1 MB/s eta 0:00:01\r\u001b[K     |████████████████████▊           | 552 kB 5.1 MB/s eta 0:00:01\r\u001b[K     |█████████████████████▏          | 563 kB 5.1 MB/s eta 0:00:01\r\u001b[K     |█████████████████████▌          | 573 kB 5.1 MB/s eta 0:00:01\r\u001b[K     |██████████████████████          | 583 kB 5.1 MB/s eta 0:00:01\r\u001b[K     |██████████████████████▎         | 593 kB 5.1 MB/s eta 0:00:01\r\u001b[K     |██████████████████████▊         | 604 kB 5.1 MB/s eta 0:00:01\r\u001b[K     |███████████████████████         | 614 kB 5.1 MB/s eta 0:00:01\r\u001b[K     |███████████████████████▌        | 624 kB 5.1 MB/s eta 0:00:01\r\u001b[K     |███████████████████████▉        | 634 kB 5.1 MB/s eta 0:00:01\r\u001b[K     |████████████████████████▏       | 645 kB 5.1 MB/s eta 0:00:01\r\u001b[K     |████████████████████████▋       | 655 kB 5.1 MB/s eta 0:00:01\r\u001b[K     |█████████████████████████       | 665 kB 5.1 MB/s eta 0:00:01\r\u001b[K     |█████████████████████████▍      | 675 kB 5.1 MB/s eta 0:00:01\r\u001b[K     |█████████████████████████▊      | 686 kB 5.1 MB/s eta 0:00:01\r\u001b[K     |██████████████████████████▏     | 696 kB 5.1 MB/s eta 0:00:01\r\u001b[K     |██████████████████████████▌     | 706 kB 5.1 MB/s eta 0:00:01\r\u001b[K     |███████████████████████████     | 716 kB 5.1 MB/s eta 0:00:01\r\u001b[K     |███████████████████████████▎    | 727 kB 5.1 MB/s eta 0:00:01\r\u001b[K     |███████████████████████████▊    | 737 kB 5.1 MB/s eta 0:00:01\r\u001b[K     |████████████████████████████    | 747 kB 5.1 MB/s eta 0:00:01\r\u001b[K     |████████████████████████████▌   | 757 kB 5.1 MB/s eta 0:00:01\r\u001b[K     |████████████████████████████▉   | 768 kB 5.1 MB/s eta 0:00:01\r\u001b[K     |█████████████████████████████▏  | 778 kB 5.1 MB/s eta 0:00:01\r\u001b[K     |█████████████████████████████▋  | 788 kB 5.1 MB/s eta 0:00:01\r\u001b[K     |██████████████████████████████  | 798 kB 5.1 MB/s eta 0:00:01\r\u001b[K     |██████████████████████████████▍ | 808 kB 5.1 MB/s eta 0:00:01\r\u001b[K     |██████████████████████████████▊ | 819 kB 5.1 MB/s eta 0:00:01\r\u001b[K     |███████████████████████████████▏| 829 kB 5.1 MB/s eta 0:00:01\r\u001b[K     |███████████████████████████████▌| 839 kB 5.1 MB/s eta 0:00:01\r\u001b[K     |████████████████████████████████| 849 kB 5.1 MB/s eta 0:00:01\r\u001b[K     |████████████████████████████████| 852 kB 5.1 MB/s \n",
            "\u001b[?25hInstalling collected packages: cx-Oracle\n",
            "Successfully installed cx-Oracle-8.3.0\n"
          ]
        }
      ]
    },
    {
      "cell_type": "code",
      "source": [
        "# This code will be stored in the connect_db.py file\n",
        "# This script reads from a json file with this structure: \n",
        "# {\"user_name\": \"user1\", \n",
        "#  \"password\": \"p@ssw0rd\", \n",
        "#  \"address\": \"idb_lab\"}\n",
        "\n",
        "import cx_Oracle as cx\n",
        "import json\n",
        "\n",
        "class Dbcon:\n",
        "    def __init__(self, conf_file_path = 'dbconf.json'):\n",
        "        with open(conf_file_path) as f:\n",
        "            db_conf = json.load(f)\n",
        "        self.user_name = db_conf[\"user_name\"]\n",
        "        self.password = db_conf[\"password\"]\n",
        "        self.address = db_conf[\"address\"]\n",
        "\n",
        "    def connect(self):\n",
        "        self.con = cx_Oracle.connect(self.user, self.password, self.address)\n",
        "        self.cur = self.con.cursor()\n",
        "\n",
        "    # execute is used for reading/writing to the DB. The input is a SQL statement.\n",
        "    def execute(self, sql_statement):\n",
        "        self.cur.execute(\"SQL statement\")\n",
        "        res = cur.fetchall()\n",
        "\n",
        "        return res\n",
        "\n",
        "    def close(self):\n",
        "        self.cur.close()\n",
        "        self.con.close()"
      ],
      "metadata": {
        "id": "P0HX5qUU1yqr"
      },
      "execution_count": 64,
      "outputs": []
    },
    {
      "cell_type": "markdown",
      "source": [
        "# Question 3 (open question)"
      ],
      "metadata": {
        "id": "J_p4hh0scI_Z"
      }
    },
    {
      "cell_type": "markdown",
      "source": [
        "#1 OOP"
      ],
      "metadata": {
        "id": "cSAh4qcUcshP"
      }
    },
    {
      "cell_type": "code",
      "source": [
        "#  (תכונות ומתודות)הגדרה של עצמים בעלי יחסים היררכיים ובעלי תכונות ופונקציונליות משלהם\n",
        "# הם פועלים כיחידה אצמעית"
      ],
      "metadata": {
        "id": "LbBGeMhOcSJq"
      },
      "execution_count": null,
      "outputs": []
    },
    {
      "cell_type": "markdown",
      "source": [
        "# 2 Functional programming"
      ],
      "metadata": {
        "id": "JccQXoEtcuYj"
      }
    },
    {
      "cell_type": "code",
      "source": [
        "# תכנות פונקציונלי : חלוקת הקוד הכללי לתתי משימות (פונקציות) שאינן תלויות אחת בשניה. השמת הדגש ניתן על חישוב הביטוי"
      ],
      "metadata": {
        "id": "iutBolDdc0Jb"
      },
      "execution_count": null,
      "outputs": []
    },
    {
      "cell_type": "markdown",
      "source": [
        "# Relational vs none relational"
      ],
      "metadata": {
        "id": "f85DXOe5ehEa"
      }
    },
    {
      "cell_type": "code",
      "source": [
        "# אני אשתמש בדאטה בייס רלציוני כאשר ניתן לאחסן את הדאטה בטבלאות בעלי סכמה ידועה מראש וניתן לקשר ביניהם באמצעות מפתחות\n",
        "# במידה והדאטה לא ניתן לארגון בצורה הזאתי, ניתן להשתמש בדאטה בייסים לא רלציוניים, כדוגמת מונגו, שהוא מסוג דוקומנט דאטה בייס שמאחסן את הדאטה בצורה של מפתחות וערכים, והערכים יכולים להיות כל דבר (כמו תמונות או קטע קול או מסמכי טקסט שאינם בעלי סכמה ברורה)"
      ],
      "metadata": {
        "id": "Xtz1_ow5dnTk"
      },
      "execution_count": null,
      "outputs": []
    },
    {
      "cell_type": "markdown",
      "source": [
        "# Exam"
      ],
      "metadata": {
        "id": "sQjm_5gNb0L8"
      }
    },
    {
      "cell_type": "markdown",
      "source": [
        "![image.png](data:image/png;base64,iVBORw0KGgoAAAANSUhEUgAABy0AAAJoCAMAAADs9Y3dAAAAAXNSR0IArs4c6QAAAARnQU1BAACxjwv8YQUAAADeUExURQAAAAAAAAAAAAAAAAAAAAAAAAAAAAAAAAAAAAAAAAAAAAAAAAAAAAAAAAAAAAAAAAAAAAAAAAAAAAAAAAAAAAAAAAAAAAAAAAAAAAAAAAAAAAAAAAAAAAAAAAAAAAAAAAAAAAAAAAAAAAAAAAAAAAAAAAAAAAAAAAAAAAAAAAAAAAAAAAAAAAAAAAAAAAAAAAAAAAAAAAAAAAAAAAAAAAAAAAAAAAAAAAAAAAAAAAAAAAAAAAAAAAAAAAAAAAAAAAAAAAAAAAAAAAAAAAAAAAAAAAAAAAAAAAAAAAAAAKk1tBUAAABJdFJOUwAECAoOExUZHSAhJCgrLC82OjxCRUdJTE1QVFhdX2FiZGhrbXN3eXyAgYSGjI2QkpSZnZ6ipaarr7KzuLu/wMXMzdLX2uHu9PnP995RAAAACXBIWXMAABcRAAAXEQHKJvM/AAB+yElEQVR4Xu29C3sUSXK/q5bOGTTaHe8cYWwzYMv8Z2aNhyOzYlgGlsNNskTX9/9CJ66ZEZlZrVYjCUn83udBXZUZt4zKzOjqG1sAAAAAAAAAAAAAAAAAAAAAAAAAAAAAAAAAAAAAAAAAAAAAAAAAAAAAAAAAAAAAAAAAAAAAAAAAAAAAAAAAAAAAAAAAAAAAAAAAAAAAAAAAuHa2T6flj1tbhxOzfP+Q2/an6enW7vNpOpbTvbPp83dbizfT9MjEpaWRShaEA2n58OsOn6gRlvpE52Tm0w41KR9+/T6IKCT4iB7Ixmu3xHz+LlkFAAAArgOrlqUeeS37Jy1lXLFitdRjKpSfdhqpZEEgKYHteylkK0/lTAw4y+rHIHMkN6iWySoAAABwHVi1FBYPqPhxsTuclh+n13zzx+VLH7pq2UhlC4X777TBpehRb06pCMod5NOte8+4CjbVklywhFZLg9pMwK0CAAAA14/WMrkrpLqkBdKqWFMtqYZlKcMsVKihGiGo/tmruIRUy+zHsJOZaulWAQAAgOuH6xaVL36NlIuUFjMtXFrSqGDRPZ3WsCxlmIVANKL902u6LZWSaqpZRCA5FmmrZbmhTE4BAACA68CrUi1ffOemrVbFuG2XCiT1j6QaCxVt8FJIZ4LWQBNOfgw1Tj0kYLapCdUSAADA16OpdXbvl6oYnTDH9bXXJNVYqGiDGeGHv5IVq3omnPwY1EZd5S/18yu/xTSqJQAAgGsn17rtU61b3ipwsdJvbtgng7JUthBI1VKkqMXMmrDq5mpJ7qiNBPQO87XU6PrJns4NAAAAcNXkWkd1S+qStwp+RynN3J2lsoVAMcmlUE74DU+1ZMKqm6ulWI/vXlKDaTGdGwAAAODKsPvEXOv8zB8VuttbPt7ZWjyzLztmqWwhoA21WlLFI0tSF70Aq26ulnLnqjeY2u9KCqolAACA62NYLeUvVSdCWg3+MqVwzMWykVqrWtZ3POnGkW8xY93N1ZJFP8jbpLVa1hdiezcAAADAlTGqllrT+mq5de/JR2r6QDeYRCN1oWrJhfIpqy4fs8igWv7p396x4ZfiCtUSAAAA6KFiSKVUfz+2VmIAAAAAVA5OXv1kpZJAtQQAAADOA9USAAAAOA9USwAAAOA8UC0BAAAAAAAAAAAAAAAAAAAAAAAAAAAAAAAAAAAAAAAAAAAAAAAAAAAAAAAAAAAAAAAAAAAA4O5w/+00LV/+oCeL52fT5CfE9qn/Hm0SAxdlP/7P3eBb57ZPhy+K/xYM/jJD3D6dHu2dLX+0U+McD7d9gtxYviyxz/i/maZCKBeTLizz+TvpIg7919uTGLgwmP0gcNunwxfFfwsGf5kholreJL5w5i4fb23tvtEKeTh9+oFPzODi0P+vkywGLgxmPwjc9unwhXvOjR/8ZYaIanmT+JLELt5Mj/iRr+jW1t6ZFMPtU72099/R3aRUyywGLg5mPwjc9unwRfHfgsFfZoiLN8sft0/b24xzPNz2CXJj+ZLElqt4OD3l/zZT7yQP+IT/E80XD7QlizG7bz/oS7PvH7LzvTMSpgMV1KrLx/siE9/uJKvTdKItqVedyoNbU5KUnAgS0e5zOgrGOB4+iYhHhU2zXvDlTxGIZkylpzqpw6QW8zTrN3WUuD9/F5TbdM0ba3qKOU5DH2ccYDsqRXRKnuVs5pJGRnLaSDNDg6g5lRjtusXj4SB3/xCjajJKH+jsZouSod0/0hvrbTApDCFZtmBj+vrpkYJVhcrc/E1m+hE2cZYAyLh6SGGOpD0gRZSahLDYS5KPocwtTDEySs3eGeV78fPZdEwnyfGCP7owfXhcImLMkrfYkFd6jcpxITGDiGIMIk74Os7iQgq5eNI4V+8W3ZVlPAAXzSlPzjLB1+Hn7xZvPu0MVJnWgxK6h0mMwbYC2VEzl3LnyLUYWjED43FzBeYGstH1kDjW36JiRhrd1TN3A6QMHtqd477UyIPjh3ZUKdXS5y3BuxkHxqJ6WyorTv5KO1HvSH0psx2PXGyaK97m3JrSSDk8WjMvt8LuqnvuEDcPkmK94MtamGZM3hOceGB0r82YlBz3flNHuEhBuU3XvLGmJ6WhjzMOsB2VUqaTCMrZzCWNjOS0kVtFWGaINMXr5tHLPMhDUVJblCa7/CAWaX5qFztU2mBSGEL2psHG9PXTI7o3hcrc/G3M2GEZYRNnmA7mIak00ikgRZVyQuSQ5GMo0kYZ6WaaGlEpDdPjoJNDa4wDLGZLGWXEMZNsrfQaleNCYgYRxRg8L76Os7iQQi6eJE6TlgUy0BxdWb0+diyiKeXeFS6MEX0dkOIhZSOpznsQQvcwiTHYTiA5alfIYM4wZpeQ1M7MV3bnKrY89ET1B9aiZh2VODfpueshcUg7r+hRVKWTiRlpdFfP3IsjCeeXDOQsTmwPRtDrItzbkQ1p8eDMRB7wsNWE3u2We94/v2tDu/eszjA/Nqd2UyDWAlGD8eTp+6zVPMuJgQ6aJfRX9JIvbRGaMWlP46QEVkfOzPrNHe7MlIfpWjWItkfsDeKMA+yuFOOB6HD0bHxJI0M5M0XTkBMsaXbrGrBftzwP2sRwwDFGl96vA9o7+8cb0qEttiq2QccwhGy5RsaEszg9GHefFYw4qngc/TYjnL8K6iGHOZDO2XOlJiH3w/tjHsr8whylRtr++/HWXlnqPkBdmSRs2kSXnDrkea+OK8dBzl2smuSDacn3CCHYZEDJ18Sk19otsmYYn4v2c7Df3rpNQxlN34GHCHfPJ9GC7QSyo265DhZRdK0hDWZgzE1dHv0V6AcSNZm1roen5iJblDvKuuvM3Isgr8Fq1glNAdNUS3+pVpC4WUT9UvoflQvHYlU3XRnFXmAT9NheZDCrYi0RNWy0B+qa0h7MW2NH3A6jr5S3NCbtaZyEwOi5S4hxzm/qqM5EeZwuYtZY0yP2BnHmZDZXivFAdDh+1gh2F2EoVxvpUUfkTUy4bs08yIlRqRCjS4sz2QWoRZrq/GSaoEMYQrYcI0tnbbV091mh0M9fJVbLPMI2TkaMq4c2Ab10yp4qdQmhhuLfQ5G24UwbpaaYsgAYHaA9j90Nq22QHB/yvFenKteFNH+xLMn+fD0HG3OqxGti0mmBOOkKCVEzjU9Fu5RLU7AoDH0NVEceIty9KokSbCfQOkpzaRRFcu0hDeZryI0NenwFVmfVXAxzNIiDPNHsmIlKOwPqKOuuN3PXZl9KcNliqql8dVTMsbh9/kpgakKLaiitqcoK4S6VjsXdobTYGu+y4FIGXyWSUbPpUkTLkbQdBl8pb2lM0tM6iYGV79cwc35TR5iirDyTrhXGmh6xN4ozJbO5UoyPWofjZ6NLGhnKeeMBv+yhJ97ExOuW50GORxMT20xaDKjHssCqyS7oEIaQLcfIah+Rpoeg7rNCIcYZw7GMG1GqjZOpl6+E4t0D6Zg9C6tNSJ6deihtw5k2Sk1JiW0xjJr3hhBGyJ/jAc97dYJyWUijiBQbot9cjZNWyVOE5SggdXLObhFb0visYzAHu6GNfY1URx4CGji3jpMoGr1A4yjPpeEiCq4964MZ2A96fAXyGZO9rXU9PA6ZSXNRaWdAO7LuejN3XfbPluxSs05UU6lamphjcbuWBMZ/Fj/r3XBYbvkFBKb4IuxY5W2Nd1lIGjpwelaiMumJTZarpO0w+PLECmlM0tM6iYGl6zznN3WE68XKM+laYazpEXujOFMymyvF5OnkZ6NLGhnKWaO8OfAf72SALsdEr3ke5Hi0ZyS9P/1mmd47k/RFoTboGIaQLcfILH1Kmh6Cus8KhRhCPLaMGynQwVWol68Jcygds2dhtQmJV8xDkbbhTBulpqz9MB+132d7kUj5czyUea9OsxbkYP5imV1XGietkltYa93dIrak8VnHYA5229vY10h15CHA3auSKBq9QOMoz6XhIgpnnvXBDIzHvjxGVyCfMbllrevhcchMmotKOwPakXXXm7lrcmC3jCXSajVWSxdzhnHL5wO0I2wc3XSqvgg7Vl+m1WXBpOw5inx/Kee7XrdWU0nbYfDliRXSmKSnvajR/Gq/g474tStRbtM1P4jcE9NAf/s4UzIH895Rc56D86ai06eJ/R//ncbC76Qnotd2hVXzta2VFjn5rCe3DAaSgunDGFlO6VPS9BA82NoSiNbisZvpR9gml4j+2zAH1yyuIgurTUh0aBff2kYLc5Qab6PlLsKM9vOHJvTRMzKOX63PezW6tcCMIlKsxXc5DeI88U12i2BLQ2xEB3Ow297aTcPoVYceKtq9IolqqhNoHOW5lDrn89BoCfG4XcurrWn/Rru3Nvmsa6Lq5GOIVXfVzL0Yz0oV9GtRa2SollXMGMZ9MJ0c/RTyp3TTKfXasSRs9g7bpDTf1Eu+1863oIOzhAVfNYVEGpP0tBM/mpfnLLN++w4N2xDlNl3zg8g9MQ3DOMMAuysVUXOeg/OmotOnSdxSDBpkJHptV1g1X9taaYKeDeuBvr6chJpg+jBGllP6lDQ9BA+2tgSitXjsZtxnSGB3FZL/NszBNYuryMLKCVk8oW2hOPTVrEGMFuYoNWW8XbXcuv/R9hwLYyZ+dTvvVUnKM/eWEWvxDUnDPE98k92i2rIQG9HBHOy2t3bTMDrVsYeCdc8n0Ro6gcZRnkupcz4PoxkYj9u1vNqa9m+0e2uTz8smqk4+hli6V87ci7A4rM/DfYHUhVKqZRQzhnHXzaUeDaZTGpQdL96szJpKab51dZUxr65aRtoOg68YZx6T9GQn2by83TLrt+9It/+m7M71aH4QuSemQVWpPcaZkjmY946a8zDOm4pOnyYdW/7ckxK9tiusSte2Vpo5UEEZlDzGgaRg+jBGllP6lK9QLdN0aMMcXLO4ijSsJiFyjyFqTK6WdRzxKPtk/BlWUSdifwh7Jn7Vm/eqJOXufcvskbEWz4GaO098k92i2rIQs+hoDsYLI2RfTq869FAp3Z66NolmqhVoHaW5lDvn85C1lHjsy8P1V1vT/o12b23yMTZRdfIxxLa7zLk0+S7CYbieFlFZMJwSMxvFjGHc9FdzQAc1om46FS3Gj+lJz/a7qt5kTaUk395Z3q9mpRX5FvJ2WH3VqUakMWlPcpLM66Y867frSBKqTE1lvJyu+UHknpSGYZwxmYN576iNkpUs2EdhDNKkTRZEJHptV1g1X9taacZW+PZpL9QE04cxspzSp1x/tcz+2zBbaSKuIg0rJ2R/Wj4MLwblakl/xSAfuMgoNe44bAK5vzwVmYtfW+e9Ckm5PrsZRiRYiwvo+M8T32S3KLa8K4uO5mC/vTWLUelUxx4KfkqP4yRyC5tqBVpHaS7lzvk8jGZgPG7X8mpr7vvi18OafB02UXXyMcSme2bmXoDmyc90LN+AKW2++JIYc48/oTKKe3+aXnzffgmpn05xUH58ML0qX4npB6RSkm/5Q1Ciu68YDjSVvB1WX3U7bMfkO1L6WlAxz9/5YQOzfrsOD5tw5TZd84PIPSkNwzjLAPsrFVFzYmH2kjaM06TppZ5mPRdjTLvCqvna1koL+skEn41BqA2mD2NkOaVPydOD8WCjVCFai8duph3h4Cpk/ynM8TWLq0jDSgkRZ26G0FBKEIOFOUoNyS1/3dnafRecaf/e/5A6f6HNUjsXv7qd9yoE5bIWiGFEgrW4gI7/PPF0ndfcLYot18uigzlIbSpRaRaj0qmOPRRKjuaSWEw1AslRO5dyFHN5GM/AeNyu5VXWvH+T62FNcsH7qDr5GGLR/Z9VM3c18R1OithhS7t6Wm1ZahsxQj56KHFKeHKq53roP2NhJ4QMshAHpcd/+k/+WVr5NEewVlGplO+tff61hvJrEH2+41Djdhh8WQvTjMl7ghMPjHww4nDgV912HRZ2VG7SNTI2tJbS0MfZJTOMKlDyLBYawdIphEy2BkXZbdfbBCcYE/h3WEaDtG6OP0rTRqDQ/OF3CHQqzgUzCCNZNvIsEsL0aIItUnE2uSMmHs9VyzZpRPZfVai7kU4BKRpWSog0BaMSiqqKKbdSgx2lpsiFN140ZNf33xqbi5+8rfQqmDJJM6pKjCNiLG3uRsefkpbQFvFS4jxvt1CKLdfLoinlPjiiXhhRj76cbvqOPRRK4HNJrMFmgT5GMavCOYq5PLRaihynQecrcF5WL3491Bk11ZVZoyqdgRBu6faIxzN3NXHRl73IyqD+cp8ZJaxatmJbW4/PpuUvctTFvcs/yndCz08Jj5NYXS0pS8R7/ZW/URZMI+c7/tLgKN9xqHU7TL70MgjNmEpPdeKByWyz3zQc+FW3XYeFHZWJmK6RsaG1lIYuzjTAdlSBkmexsOKSehDCME3lhbvutdhgTPiCasmXMG03XTCDMG5GtRxchey/qlD38FIIuVqmhPA2GDxqKPEqppnGzNQm/t8UluX3NwkNeZf/79vly79Y42z85G2lV8GUm7UwFxFhaXM3Ov6UtIS2NNf5nN1CKbZcL4s2KS801TL6cpIqM/ZQqIHPJDEEmwSSo3bm5Sjm8jCYr4QcN8sjXoHzsnrx61Fmklzw4brInkK4pXv1zL0FhEEpz07+9s92uIpLGeiavjZn+3/z4L6MgbVz0nAFA7zcIX1lNpxFIQfd/AU3kE2u8626srdsGl5DmbqTC3PTQV1Dvi+Bg0sNcmDt+tNwuUP6ymyYvpADVMvbAKrlzQLVcjPudLVc/HGZF2xk7drTcLlD+tpslr6YA1TL2wCq5c0C1XIz7nS1vHqQhi/iy9OHankbQLW8WaBabgaq5ReBNHwRqJbfBqiWNwtUSwAAAAAAAAAAAAAAAAAAAAAAAAAAAAAAAAAAAAAAAAAAAAAAAAAAAAAAAAAAAAAAAAAAAAAAAAAAAAAAAAAAAAAAAAAAAAAAAAAAAAAAAAAAAMBlcv/tNC1f/qAni+dn0+QnxPbpaztKYuuyP33ascNbypojWDOJi2fUc/LYzr4ee2cXvS438UpuFFNQuv2zEwBwjTybhOWPfLJ9Kiefv5Mu4nCyjT6Jrc3t34/WG8GaSdzVnumFnn41Fm8ufF1u4pXcKKagdPtnJwDg+tiflnSrs/tGN/fD6dMPfGK7yOJwso0+i63N7d+P1hrBmkmkInX8w9bi54s+57h0DqYLX5ebeCU3iiko3f7ZCQC4NmgDf8SPdD9Ej3tnst1vn+p2fv8d3QfJRp/F1uf270frjGDNJJItfa5x4PeaX4m9M1TL5hAA8O2wd8a78+4fH/ilvvcPeRvgXfEFH+xz27R8/1AkI9undrN4OD2t2/gBn/AdyIsH2pLFiN234odtRk8qp/WCj9UxYeo5PhOUN9EWP59Nx3QiGv4O4ILfDpw+PBbhwSBEv4xSzmYCq+w+p161b3UtNCXvQhyBpsUfKmsm0Ytq5SJZHL1nPMjmnA2RVyiO/6rvWybj2eBhqe5PUx6EJCovPuuVSfa6jDUjTi6EVkBGYK9tk0zyGmPya8kJd566Nv3Z/SNeYmYwO63T5tiBFlO2EQe1OsMrLkkztFY/h5lDAQBcIloteWUKvNDlhDfq1DpGNvpD2873Revg+KEdVbxa+v5FRE96Q6WfIeG/3X6UI9GtQsQPrdE1bJdVuIw2qkLZjGyUdDYTWMGsyH2fuo9N7qNWtTgCS0bd+1tWJ7Fuqc6aWeyjMrwjZHPOhioIh9Pr0JISng1SeBI4D2v1laQC7IfJXpexZsTJhdAKpIvK5U+PkiuOya5lnTOEVUu+IqrHJ0GpG1M2T14542wjDkpkZjOcLIhuUNAeQs03+inMxhAA4LLRxbd4cKab0NaD8B7ZvWe2hw2Qpbt4Y8J18TfVUlc4c29HNrjGk1rQV7jC61xlK2vi03Zp++/HW3vVOEXKG5XusiRcLOVBuF0dpZ6NA3Nox9I3FdUx/01NzJ/f1e3TEVFLy2y1PCeJ3PDgI9X+ertwgSyOo+LOnM3VV4Lgsxqb4gnPBklUWr3+E+6jE02Hjb2YsXbEnYtGwB0eTEt+iaHzSti1ydlRg9q6d/aPN2STSnq9cEG+VS1zTF85L7nyQa3McA7QTesczEPr9EdhpukOALhEfGn7W2T51b+DfsM15OXD+Y3eie+4ycpvPPkOwFJBte5HOT7fzMybWWT0VTDbZXdP444RBuF2dZR+NgrMMWWqkCSjCqlJSPuVIqJ2cxjCzJyTRGrgl3yJoL9+FodR9dlcaYOQkl5jczTh2SBHR49lRIT76EUJuh0qmVZ7o4w1I+5cZAFz6E/TBl5VpAamxGpJCRGTcdRBvlUlbE5IJLUS2qBWZjgH6KZFgYhD6/RHYZZQAACXjK803118mSr11rBhX577lj2r7h9pozUxw1Z+8qQWtKaGylrXf45P/ZTecAui26w3xCIdB5E3Iz8bBWbQsVqSfU8UcpOS/Aka46FYDLdaifOSyC/nvdjZWjzbMItzUeVsrrZhDusFcTTh2SBrkmodSFRsRZnyVRm3N8pYM+LORRawHi9ZI6/SliwQsVqSD3mwmIQ6kHjomHlRsHAYN7AiwzlAj0oUiDi0Xn8QphsCAFw2vlh9z/Zlqnhry/7ZkqVKd90/UrU0McNWfvLEfxY/6wtWofb1m4lq6WZSvAUN7fcCVuMhwiDyZuRno8AMuoHUY3l2Lwq5SQm3E4ZvZ2x5plqem0Sqljq+UFQuksU+qlE2V9uwlKaECm4iGiRh4j/ehXDnrqQSnnAUC13G8oh7F1nABuV+x16pzwfvpGq5dybanZISDh2X3J9+C2MqzSsyvOKSEHFovf4gzPYMAHBZtLuJLtPaqou24cBudsrCdPmy0QsuZgyLknxYRzvqFqkfQLLDHB9TvIVdXfv5kw76SJvOikH4KHVrGgamDErjWtXSRqDZGFfL85NY0lB7LpLFPqpiKGZztQ2LIUageMKjQUrN8d/JiHzISjjnSoYUWvMgY2nEvYtGwC7qimqpMfnFd9Slte7nJBNpIOWQjt28RkyP08uaKTewIsOjtFR7aWidfgqzDQUAcLm0i1XX2uqVV18Z9EVfa2SolukFRGK4zx9MJ0c/NdsF9YgkM9pMykbXVcut+x+tWpLWikH4KNXOMDBlw2rpI5AQxi+NrZHEMs64s6+dxT4qi4eIUqtthE+M1hgYFcoGOSOUnurV88CMfPf3loOMpRF3LogkUOrdXLW0mGJOmVQt9fXgXqk5jObtItLtXgjNDWj3MMOjtFR7aWidfgqzCwUAcKm0i1XX2qqVtzisT+y9XNWyVbb8KKYM9/m6adWj+ErXaDMpm2l9hp76zcKKQWTfw8AUOvYRqrFhU1eXfASLN+TB44islcQypmh+7Sz2UY2zudrGhaqlpb2m77wrGV5ituZBxpqK0bggkoAF72PvvVpMcZBMrJYSBNEpMXFMwbxHdBBDcwMrMjxKS7U3GhoxCrMPBQBwmbSL1df1/Mo7DHuwrd9wL1CqZRRThvs8/ZVWPjDN5HS4mZileAuS+nU3XTEIbfLdZxiY0X8AdtTU1KVqgZ79b7+rcoX1kujFxAIU1s0icbFqObZhuGJFTWSDGlv9UKYaNga+Y9Xz5j5jacStCyYJWDbdW+fVY/KL78RquX06o5QPiWreW72ECW5Au+mvjosOSoYHaSHcXhpaq5/D7EMBAFwm7WLVtbZi5cUPMXD/cfyJ07rRJzHi3g7JhpVfbO9P04vv07cD00f8hpvJ/rT8dWdr913wYTvG/5Ap/soZB7FiENokW+NsYAq/6pe+XDlsaupSHcHB9Cp++dNZM4lUTV7+ED8Te4EsEherlmMbhitWLOHJoFYcMqfhn3Ml+WuE1ao3NxlrR9y66ATOq5Ye06pq6fnvlPIhUc2LOmMfvRHcgHWPMtwFKIhCd7Ub/RzmIBQAwKXgH3aw19l4R9aX3Witza88KhUOL1X7TzLq4rcV3IjxJkiILVnbxZP1ELIfMM0ea921nzCd8FKv7hhui383bHYQxbdsjXI2DEzZ1wCi99DkDgnZ1hQfwZ/+k3/zNXzqg1yy1ppJrJ48nvlgPRCJcxDV4GorczYynstKu0XTmTaJFw14/krSNWGCUVXuMiYx1RF3LloB6hGfHlgKkPGYVlVLfk1cr1GjlA+JNMeomCllKojX1RlecUnaobX6OcwUCgDgEtmsWpYdwcqg/mSqCAu20bdiW4/PpuUvctTuIFu7/NuuJ3SzaMzvsRX+6fGl1ERD95Nd/o8ily//Ik1zgwijJEcrAlPC78Q6tcm3L6KrlloR3idNTfqaSSRkQNXEmlkcRLVOteyuRMVzWdGE1xzTWXkt2V8onb+SssmnnzRlC4OMNSPuXLQC5EY6PLAUIOMxraqWfHwl1XKQ4RWXpB0akfRzmCkUAAC4RTw7+ds/22Fh+399T7xmvprjizDKGAAAgG+Pg3xHc318NccAAADABVn88ZXu8L6aYwAAAAAAAAAAAAAAAAAAAAAAAAAAAAAAAAAAAAAAAAAAAAAAAAAAAAAAAAAAAAAAAAAAAAAAAAAAAAAAAAAAAAAAAAAAAAAAAAAAAAAAAAAAAAAAAAAAAAAAAAAAAAAAcDncfztNy5c/6Mni+dk0+QmxffrajhbPqOfksZ05+9OnHTusrGkxid1NhukB4CuB+QjAF/BsEpY/8sn2qZx8/k66iMPJatuu9kwv9NQZLb81LSaxOwp2J3CTuIb5eM8eAbhz7E9Lul/cfaP17HD69AOf2JpaHE5W2xZvpuMfthY/t8VtsPzWtJjF7ig3sFrSlXTucubBiKufjweX42Hx5CNN0A+/fm/n67J3Zu63T2/cygO3Hdo7H/Ej3QLS496ZbKDbp1oT77+jGeu1TbfWA78zNPrlt6bFLHZXuYHVcuvJ0dHR2+mY/v4P9pNvjKufjw+aDWIzHpxNy1dHv59dOFxUS3B1bJ/aDcbh9LTWwgM+ob/TC5v8Xts69vkehSn3KWtazGKCVlb5K2b79zR3334QZ8v3D2UpWC3e2n1OjSK9d0YuqE9eAH7/kDstRtIZnClznqVFI1UROdaxyMMgzmRfT4isJsjCXvx8Nh2T4WRowe/oTh8eyxiTvS4WISpL6+4f/laxih6W5zrme98P1oQu3DSdqMkUahxUitQ8K3Ic9fwy9T1KMuXCzdVvc9GMPEcTuKJJpGb68UhLG2vMW5IWqkp7IdUvQ2cDsd5WDrXok1K8dMruH5IZy0uaNMnKlaOvOxG7/0ce1gfVElwDUrQOrSbuS0U7OH5oR7baB8Tl17DaYmFYLXm/YpoSLduXImtBNVyab1/lkBzY640mJcfDMyV49gFJUNKi98W6DOWvjYB3kUGcyX5MT1ATxNYhd4pNRfqkNhFcRrO9LhYhKVPGVcVSww+UN/Fdcr1RtSRYK3mLg8qZtWsjdJkVUdaUHlesWUymXLi5+l0u2pGLpEUTuKJJpGa6kWrLxeaQmhpdSLcsjQOx3lZpklCLPgm387ERzZMmd10x/krUBpRFgWoJrgyZoIs3NkvLnPMlxQ0PPtL+PfPcUhdu4hyLTlgZaqSa+vM73SgC93Zk7S4enIkVlaVlre+NqvQDf2/VpZR7z2z7EvJZ65l7ecORFh2DvoYlf20sZZsZxDmy36rJ+X8/3torGXC3KkLRi4Jg9rpYKjXmf7whUdrp2YiNiXZJ7vPnLnSuQexPj8jNb35+oP0zV9o9xON2UCVS9yz0mfXLVHtGV9tMuXC++oPrEkeuVBOVq5lEaqYfqbRcbA65qcGFNORsJMZsOB+5mVvKiNtJ01oZIjOJptXuO7rdZftbiydUafWmlCfWUl5TIIk9knixw73Hmuoy7Zq3e3ySZn2JQyYse3tLLviO2gbF15MPYhcAl4RM0PnaRg38OhUxXix5LQvnWHTCyvDVX0ylfc+w2yN9H1VlD3RzoP1OukjLlzc9Iy4rvcgZ8azzTL0cr7T4Tsdxyl+70bZIiFGcvf1WraSkGjK3toHt2oAUsdfFElFlCkbU1LyPSV5WK1eDdNXy/nQ0vf+9qZaH0/ufnnyMmXPiRzj0uMsFoSOP2ewz65cp9Iyy6En0axqvfpeLPHInXgcnmrEQTGzzSaRm+pFKy8XmkBrJw4mG7WwkJkRbhRi4aPaXzk34hxSaScOMspmwavlqOjn66PPx5Oh3UXvGb0b6Ow+vpmM6pkr/6q0+MynTjjTS3PNJmvUlaquWR2cnR/oUoWTBq2XtAuBy2JcJWxZGXZq2JfMrOPScbkHzNSydSt6gmPMsGiqmqEyV5MUQZQVb3P7SFsnS4lIp24fjYitfV2HyCzzxrPesW4nZZ0ENRf8eimZ4zj2Is7HPkTVqJWfh2b269YZkVuz1sQRs+yv7fhmBNJJ0HWCtlnqQNx+2a8YycUwm0OXCpWI2+8z6ZYo9gyy6Q7+m8er3uUgjd2LMzlVMIh1JP1Iz38a6ag6ZkeGFVGTujMSUYKsQAx/OR2+uos2kYfLwB1i15L86aJpOZHTx7/zqM5tfSPJVgp6IsIjM9zrtWh91kkZ9abIJKyfSXhaVV8vaBcClsH+25CWj05soc46mm6w7n7B556h0y/Nci4qJKbou4+rU9ZGwia+GRZZuB9SGPSWOG53fyAglGCGe9Z6Dfba3+FlfldI6pn/DNjOIM9n3bTKplZR4cSRUyaOuSSOkq48lYB73ziTBYQQsS/zHu5L6Wi3VQ9x8dBP1h0Qckx13uWg8C31m+ZF1Ys8gi1mY/Uic0tznIo3cyWfKVUwiHUk/UmnpY+3yFkZvRkYX0pAJNRJTNpqPbEnVTLSdNEy0MsSqpejE6USYJ/GiEmZNRlCnndZ9ShnBAflosr5cwfD0TtvLkvFqWbsAuAwO7AavLIU6u8p0a3qofDK20Eq3c75FwcWUvCEwg1V/sY1Omty3duQzRT1H/3FXkE/iqFtdsDqE8U43sm/padRKSnTXEnxY/mmTLvouloDFbBtJyBCn6PjvpCcfG2JqtUyPvPmQ3k//QjxvzRMxK8VbGVSb55rNiNuI+VdSvchJ9Md09QfXJfQOrkPhKiaRjjeO2kfKXGgOmZHhhZSetN6SmLLRfIyi3J8mzWw280Zg0ZTp9NQjJhZv9EgeTUJLJFdL8unTzu4tnxwd/S7jKAPs9a1ayrF48jjpLKjWIAD4MurLq75ydB2Fo7IJ+EFaJLSEZFIW1rDINK/rxp1G+eJqKbcFeaWP1r16jv7j3nMwnRz9ZDrSKibi60WrdydPT6NW3HXVcuv+R6uWpJDtdbEErMWepOuZOuHMUJpqkLaLtI+8+ZCcUdJTiD7tOAwqRxqzGXEbMf/KRatll4tm5NlE5ComkY43jtpHylxoDpmRwYUst1162YQkpmw0H6Mot6VJMxiwsn619COxbhK1WoZpV32oV5Md6aNagmtlcVhvOXzfrvu31bayFAf1i8VLAWTWspjFhLjTKANv/UZX9g57xSwuaHnhOK/00bpXz9F/GTBR2+1Int2WdUms3p08PY1a2afCs/vo1hTb6JtYAqpcn4KXDLmh6sd2kfZR7y1bu5UYnh2HQc1FmnEbMf9KqhfRVH3sr76gR+3Is4nIVUwijSGO2kfKtLFSJz24GSaNnkVGF1K3/eal4SimbDQfoyibSpNmMOAxMpPKdBpXS3o0iVotfRiMB2heTXak31XL4m6oCsCXcZhWlsyq8HzTa5u/X2n7TKJdQetZTGKCyQbWqpa0ZMyHd5VwdK3nlT5a92on+o97D0nqoOnAsrD8cftdyMTK3ak6atRsKPHZfXRLlvp4+1gqqqxPqv1Mx6SeLE+M7SLhUYzJ5mP3KiNyVvS4DqrNc81mxPVqWpyLVktq1OjpgMNvR55NRK5iEl3iHFIjowsp235wSmQxZbP5GETZVJo0q7KZkBll04qrZQ3Lj8SUSehci+9bMs37Pibb6NcJa/3SXtzp0/PYBcCX0jxP5V+Drb/qytNN1zZtGS9/mPlMbPPMbU2LSUyIO43SVst7O2QvLB3fQtJX5cqC5i+Osb6vFe3IZ4raif7rIif2p+nF9/F7bAfTq/SjXCt3p5qeRm1/Wv66s7X7LjTZsP6HvPF32zhTjb0ulooqe35jhvTulSxoFwtJFsujij2QV9RsMPwpxpaYFT+ug2rz3AUouF7Mv5LqRRq0PrZXnxRSLtqRZxOFK5pEaiaO2kcqXGQOqZHRhZS5lNdbFlM2m49BlE2lSTObzRaZUTatpGLRjSJp8mzSFZ8+0xqqZZx2B9NSvp+pXn2SRn1Nh09YbtF2E6J+sZy6ANgUnU/17QJZFPY/jdTV6Gtxa19/zCN8hLWQV++aFhsxJuw0/tsxRJzn0iwRxC2kxEYtqijf2WJs5ciDrfTRulc7wb/ZdzwcbfvTf/Kv3cpXrwdxdvY9PUHNMO3werS6davyPezWXo4l4sr88pdLyJh8MP6yGl8EDdcfaWtcHr2bPnA/OVq+ohN1m4hZ0eM4qDbPNZsR0dNBWDBlSISFk0y5sDyKjseRc9GOvLkOhMz51swlTaJLnENqZHAhdS7l9ZbEelt9qPPzkeaHQaY8+tGt9QpkRtm0kmpJGvZ9SzqS70uyJZMI1VJ7bdrROOjkrX8mVscS9eOE3acH/3Ynd0xsRsPMXQBsiFZLevLlSNHSH8usc6tUS+qhtTT8UYy8ete02IoRYacZrHrm8dm0/EWO0kYXfuJTFe2zKvarlududGYn+Df7Bf5BkOmE7gRFj01rItbfnZKawz8yr79NYqhbSfXy5V+kqbMXYsmoMt8SNJtsea23vBbrG5A/8qsG0/HDfXEh///Dku+EWmJW+DgPqs1zzWZEbPhlUvosJlMu3F59IuWiHfnoOlPPFU2iS5xDamRwIemc/ub1lsR6W32o8/MxVcs8aUbZHCIzyqaVVEv9j3Eli/KrPvpf5JpEqJZ52u0+5xP9xdo6Sat+nLDUr78LJB36gz/2U7lNFwB3hbjTXC8X8vzs5G//bIcXYUO1G0Wz/9+NQV0S1zGHmkL5RdydS1eqac+KLgBuM7ekWn7DdNUSFK5lDl1itbw7oFqCbw9Uy5sOquU8qJZfC1RL8O2BannTQbWcB9Xya4FqCb49UC1vOqiW86BaAgAAAAAAAAAAAAAAAAAAAAAAAAAAAAAAAAAAAAAAAAAAAAAAAAAAAAAAAAAAAAAAAAAAAAAAAAAAAAAAAAAAAAAAAAAAAAAAAAAAAAAAAAAAAAAAAAAAAAAAAADAjeL+22lavvxBTxbPz6bJT4jt09d2tHhGPSeP7ew62J8+7dghAAAA8FV5NgnLH/lk+1ROPn8nXcThZNVyV3umF3p6Hdz4ark/PbWji3HPHgEAANwW9qcl3S/uvtEKeTh9+oFPrEwtDierlos30/EPW4ufrapeC1dVLe0pwYalLrBhtTzAPTMAANwyqAo+4keqIPS4dyY1c/tUa+L9d1RTtFru2/3mgd9rXgNXVy2XR8y/2rmxeFNvqddjw2r54BpzCAAA4DLYPrUSccg7v9fCAykDB9P0wnZ2L6qB3bcf5A5t+f4h17S9M5KmAzWoZZeP90UmvBNKNcbU5ExdycNQlbEQVdNsyQ2i2mj1Gg8d26fDKnxt1RIAAMCtRarlodXEfamRB8cP7cgKUsJfzyS4+HC1ZFm9L90707ZPO9JO1GLrLXrnaA60WmbVcbUkuEZR/WZYttVrPHSgWgIAANgMqTiLN/oKrFUexooZNzz4OE1UPwv3dqTCLh6cqczWA35TU23oi6jlpdQ/vwsfHFLuPdOqZ664Wg5VWSLpsqKVXnM9o+ceOkK1tHp3QBYPpb6Sq9BGx4/Ix2902o6eIcndt9P0Uq2xxJJvr2csFKSb2nffue7iCdV3vRWOVh7tkcSLHe491gszigIAAMC1Ia/BrqyWz6WapPoj1ZJltJzJy7VeuljNlAnqiorCgajZXSubGqu21ZIVQyWddUmoh45xtbx/dLZ8dfTrTmyj46Pp/e9U6w6n9z89+chNgf3pw9nJ0UcN59lE6lTWyOPQQsWq5avJdSk7J0e/S7DJyqvpmI7/8WZ69VY/XTWMAgAAwHWxL7txqJZeZqz68GugdMOzoM1cJQSrlvpKaKqW+gZo+EjQ4NNBpnaof+dVa+k24svC/A2XGb0aWAM184d8/vYDj6vWNX8lNtc6PdE0tK9Ha68Xa6l7kpKRhYBVy6j7mnX/nSt1tMJ/6fmAjk5aRlEAAAC4JvbPlny/ons30d1blj2/fP+SsWrpalYtp0eLn/XFUvsEDxNeIXVMTYW0Wg5Vu0JbwiT4PnNGLwgu/l/5EKzwr1Ru9DZZapmIr6iWGraWdH9wLDkiaW/5SuZGFgJWLYNuMZutsISNYe+MTsZRAAAAuB4O7I6xVJeuWu6ddT3EqFpSIyMd/qEhIhQNN6Hi5kFEh6rFdSFWS3kVuNVrPHCDSAj8aaISy/nVUo7J40//QjwvUQlFkl9FVmV5HFiISFPQrTeLIytaG7lazkQBAADgWqgvr3qNshpZj8pLs+lNxGG1PJhOjn6yYhWr2ly1lFN9zXSkSlJtuYl25T3MVq+rlpmLV8v6+d9kb1DxJICBhYg0DXTri6zRSq2WM1EAAAC4BhaH8pkSwV/H9Efe1KValgKVXlgcVstaT2Nlna+WUqS0baTavQ4bgiHkleFW79KrpXc1DCpevCv8kmpZrcR7S5cDAABw3RyG+mdlJ3w6xu8y/f1KK5DKsFrSXxWhg1ro5qsll4Ptd6IzUHWhSKiW8pnYTu8i1VL8NNWytnmtG79VGCqexySuRxYC0jTQrSMzKyJRq+VMFAAAAK6e9KOlVF6O4+/E8qYuGz+XpZc/pM/E3uNP18h+nqslqUwvvm+/Y7miWh5Mr86st1et912VUl34+5ai2OitXy316cEDeW2zlqra5rXOwuePrQZCxbM86qdZRxYC0pR1/TOx0YpJhGo5jgIAAMAVop+eCb/Iw2XR/qeRWqG8Wm7t6wdl5LOzwgGfypmUGTnVcz0kWd7m/YSQzZ8da7HSWvan/+Qfo7Uv+GdVZrZakjajphq99asl3R4vj95NH0SO3/58T95Cm9c6srR8RY1VkYkVTyWseg8sBKSp0bXvW0YrJhGq5TgKAAAAV4hWS7orc6Qs7vKPEHjtIkq1pB7+vZn6e6+Pz6blL3LUVsst/oGb6eRXsbK6WtI/IliNqsxstZQyX38JNuldoFrS3fJ0/HBf5BY0du4JbaXWLZ7Ib+zQDWwgVjz9PR77/z9HFirSlHX5/w6VwQQrJhGq5TgKAAAAd55nJ3/7ZzsEAAAAAAAAAAAAAAAAAIjwqaj+Dcl5NlQDAAAAAAAAAAAAAAAAAAAAAAAAAAAAAAAAAAAAAAAAAAAAAAAAAAAAAAAAAAAAAAAAAAAAAAAAAAAAAAAAAAAAAAAAAAAAAAAAAAAAAAAAAAAAAAAAAAAAAAAAAAAAAAAAAAAAAAAAAAAAAAAAAAAAAAAAAAAAAAAAAAAAAAAAAAAAAAAAAAAAAAAAAAAAAAAAAAAAAAAAAAAAAAAAAAAAAAAAAAAAAABwM9mfpk87dnx7WW8UvdTdGD0AAICrBtUS1RIAAMB5oFqiWgIAADgPVEtUSwAAAOeBaolqCQAAYMDhxCzfP+QTqhfK5+/2zvjxw69aPkjq6db9t9N0/OPWVu4StElav7fzz99tHVgj83TxZpoebW2fTssfrTu5VlTDTKsUi3ERI81PO60fZ4NRBCnpzC3RKbU/3dp9TmpsvhtH7gYAAHAXKRWNi0OoF1QOhGOpJVJnpCRRJcldgjcRy0d0roVuUC21g/yQu+Ra8QCoEpVqyYpP5ezTTuvH2WAUQUpM5GrZOP30T1qmyWc3jtwNAADgzrJ4QLt9qVlWpYj71PyaD6TO7P2ykEehdDnSde+ZVp9qglClvloK2bVw/522uBF61Pu4Gor7SWwwiiDlWEt0ejgtP06v+caWevpxpG4AAAB3GC0O5di3fW/2+kL3cF4iowYTa2I0kXu0g6pMrbStIWlJRsirveBJJD8N0VTRrs3jUdRABW8JTukvt6nPfhypGwAAwB2Gt3qpJATt/l5BvAJ4naGuclPYFAcT0YdUhGJ9UwOhXGXXRjbCAtNruoOTQpj8NERT640iSBnWEp3y67kcr+irsTiO1A0AAOAu4oUrbPV0GEsiNw/qTKxMjImovUG15IdHu1RY6FhbBq4NbXEjdCaIsEungrv5KIKUYS30UJ3SCVdb9cInaRy5GwAAwB2krzNUpPyw1BmSkqYvqZbUwxyX1yx71462mBF++CspmuPkx+lNrTeKKKVYS3Zq97Xqhf4ydRy5GwAAwB2kqzNcAkqlC3VGpKjOeEHwLidVMS42bbUkXfsyx7Z8/aJ3XdAWMyJi1GKOkx+nM7XeKJKU4C3JKcUrUqrfjSN3AwAAuIN0dYZvrviGSfA6Q41yl1WkapeTqtioWrKCGiYZtta5LmiLGZETfm9QlZMfZ8NRJCnBW5JT11Mv3ThyNwAAgDvIqM7UQldKInW/3tl6MLhhM7yGqL1kxE3TTdny8c7W4pl9n7JzXdAWM0InZJiUxWL242w4iiQleEty6tbtcW4cOSQAAAB3iLk6w/dVDnVwwWHslceC6mhTKB2pDBXT/H1IgX9LZ+C6oC1qxMsjtdmvE6QSpWwwiiAVsJbkVK3KC7DqpRlH2w0AAODOsWad2Vo8+EhV5uUPdDiollwrlo/5aFW13Lr3hIxMH+jGjLlYtWSvT1s/zgajYFKYgrUkp3oSy2EaR98NAAAAAAAAAAAAAAAAAAAAAAAAAAAAAAAAAAAAAAAAAAAAAAAAAAAAAAAAAAAAAAAAAAAAAAAAAAAAAAAAAAAAAAAAAAAAAAAAAAAAAAAAAAAAAAAAAAAAAAAAAAAAAAAAAAAAAAAAAAAAAAAAAAAAAAAAAAAAAAAAAAAAAAAAAAAAAAAAAAAAAAAAAAAAAAAAAAAAAAAAAAAAAAAAAAAAAAAAAIDLYH+aPu3Y8QrWFAMAAADuIqiWAAAAwHmgWgIAAADngWoJAAAAnAeqJQAAgG+J7dNp+ePW1t7Z9Pm7ra2DSfjwK9c4aivHXPiebu0+n6bjh3qmsBKjssSHX7+3c+qKYodaOcnfp53Fm2l6ZK7NMwAAAHBzGVbLSdqoSzjmYsZV7p+0JD4aVEuXJZbUP6iWXCGfSodXyyKD+08AAAA3m65avt7aWtB9oJfB+1QhqWmL7g2XH6fXOyYoxGMWoGp475mqDsToQW8lX0vlRLUEAABw27CKptVS7hT5DpHRIqe3kySihU4xJUOqpffHLj8m45+/IzNP22op1RgAAAC46VhFs2pplU/w8sgVlPtCFxW6rlraQ6yWJsaGptd0i/qj2aR2uqt0lwAAAMBNZ3W1lGNq46oZqhu1hBdRTUf7Y7U0MXoQrOQ+2qXySwqmBgAAANx41qqW8opsrZakEwud6XTV0sS45a9ULKW+khBznF/ZBQAAAG4051fL7VOtf6Vacke5fyRmqqWLSTvJiPI+10r5bop9yggAAAC4+ZxfLUnCbwu1WlJDuiucqZYuJt3+8aF6R0ni4dVcAAAA4CZi93bnV0vvitXSCqLgBXBQLeWITFK3fzCIHpePd7YWz/SrnQAAAMBNZkW15BtB56k2ySuoo2opsuF9za5aejElM3Iv+YBuOYVjFEsAAAA3nXWrpVa72WrJHcvHfHROtWSjctt678lH0vlAN5gAAADA7SCVPgAAAAAMQLUEAAAAzgPVEgAAADgPVEsAAADgPFAtAQAAAAAAAAAAAAAAAAAAAAAAAAAAAAAAAAAAAAAAAAAAAAAAAAAAAAAAAAAAAAAAAAAAAAAAAAAAAAAAAAAAAAAAAAAAAAAAAAAAAAAAAAAAAAAAAAAAAAAAAAAAAAAAAAAAAAAAAAAAAAAAAAAAAAAAAAAAAAAAAAAAAAAAAAAAAAAAAAAAAAAAAAAAAAAAAAAAAAAAbhv70/Rpx45vPXODWT3Iw2n5ox0CAAD4RtifntrRWqBaUieqJQAA3D22Tyfi5Nfx/o9q2bNqkA8ol6iWAABw99g+XR4d/X42HX9nDcLizWc5R7XsmR/k7jt+5oFqCQAAd4/tU976F29yWUS13KBa7p3RTTqqJQAA3EW0WlIJSBVg82qpqPbW1oGeftAXeqmcUAcXleULbqjnJvW9Nlr3obQu3z9kXYPaKKLtU6pJqmemzZY7JDyE1j6b4LGSjTpkMXv/7TQdc6lTW3Ew0Ww3SIfUXv7fHJmdAwAAuDNYtdw7+7RzqKVx+/Tz370aULXcpRryUsvKg49eyPanR/yyo7UX5qql3XBpFdJ3StlrPBeWj6SKEdxdlGtVqyrLH11PX0PWjlG1bOzzfTQPlBSaainVmdXU1sWr5fu/aGR2DgAA4M5Q7i1f0z8/vH90tnx1RHdt+9OHs5Ojj9rxbKJGfYdzf3o1lfYWK1wMVZnXW1u7VJ9qFSIeaPks51Ks7j3zAmTdwuIB3RpWN1zqHnFNMg/3qZc8JKcEVbRw1tgnUTJPf0VREIG9XxbymGwlu8Fs9ldAtQQAgDuJVkva5B9RJZKN/lAOtRRQeaDqoR1aTKmgUEts7wiFRKslmyejtaPe3um5FimthLXbIKnghjx/2gkevDc0EaNqWe1TVHKLWH2ogMcbbSW7wWz2V0C1BACAO4l+JlaL2gGXjO1TqgK1Wsr91wFXGa6iBL9mm9o7Qk2xatlWR6tO5dyKldesesDk2iklT0pmOKfHXL2CAJPts8r0Ov2MgDtUvWgrDCaZTe0VVEsAALiT8G3fNOknaWohbD7lw2XUm+QxtPdQ6fGaYtXSqtF51dKl7TwrO1yxfq4tXkvNlumQyqBa1k5BfQnuoq+Waqk3Gw4jqJYAAHAnsfctBXllVW4hB9VS7jkJEVpVLanWlOZc8C6lWsqdYf166LBaUtGLKtk+S/6VBGKxox6R76olHXJPZ9baO1AtAQDgThKrJRWFp3q+slrS44pqyeXLa41Vmbbg+XmpSqmalfMZZWoOH8YdVUtui7Uw25e/1KKuFHdF9ZAea7X0wbRm0yAjqJYAAHAnSdWSTh5IXRlUS/9Ij71cW9pb+K6rvJvpVagpeHa+cbUMIY+qZQqBSfblhF+ADiKkITZVsMRVLLVmOw8OqiUAANxJUrXcOlx+lM3eS2OsigdSUPwzsbW9oZYaYqbgNVWJK16pSbV7Rpmaz6mWdIdYQyCyfTJHJ40MNb7e4a+ucGMdgh+1ZtMgS6AEqiUAANxJcrWkgqCnB9PJ0fv8iivVHPm+JQtcoFo6RZJv6/RcReVcSoxUndrtRWimWpqg8NTdik4ZhdDY99JJVoMQtzIiV4fgR63ZNMgSKEHOUC0BAODukaslbfZamBbPpTSkqrh4cjZNJ4+54TKrJRWhaSlWperUbi9CX1gtG/teLVk9mF3IDxW9/IGP6xD8qDWbBlkCJcgqqiUAANx1Zn5v4Ebh1XJIKFyXyRWZBQAAcCuRj/DccFAtAQAAfF3s93puNKiWAAAAvir+ncobDaolAAAAcB6olgAAAAAAAAAAAAAAAAAAAAAAAAAAAAAAAAAAAAAAAAAAAAAAAAAAAAAAAAAAAAAAAAAAAAAAAAAAAAAAAAAAAAAAAAAAAAAAAAAAAAAAAAAAAAAAAAAAAAAAAAAAAAAAAAAAAAAAAAAAAAAAAAAAAAAAAAAAAAAAAAAAAAAAAAAAAAAAAAAAAAAAAAAAAAAAAFAOpk87driK/Wk9ua/BurEt3kxP7RDcCL7CrLrJEzmyIs77b6dp+fIHOwMAXA97Z9MjO1zJXaiWJLj80Q4vlf0Nq/A9e/xmQbWcZT7OZ5NwNVMZADDH4fT5OztcyZ2oltun02s7ZOhU+OIbzg2r5Zq39XcYVMtZZuOkp3yPt7Z236y5cAEAlwPdWsb6Mc+dqJb03CA+I98+XR4x/2rnxuLNRfehDavlgzVzf3dBtZxlLs7FG30xiJ7qrfWiEADgcjiY1lxzd6NakmSoa9unM/vRNVVL8BVm1U2eyJG5OLdPbXYeYtIBcI3QE1VZe1Q0mQ+/yvqkG05uPeTSwp8oOKb7MVq8Cvfcf3s2Tcv3D1nYpZWkMxRUV+bJ/BJiYvHsI4m/+J67BIqPIQssHlXpmDcT2VNSbKb1iJ98042kOvUYqc1kmLtVLW2M+uAvMtPda762dIEIvyRGaiQDdA1ImA+ED7/yFemySml/urX7nK616A0sNxYsNg3uPX9KZXZWtZqjsAcyfD3Jul7WsffoMmlod0icNviDkMJIM1ml4qykltpt1JEPFLL1lJoRqJYAXCe0ZHmx+o5KS5WLnO0PtHif6gqms7h4i/Qxr3uTVpLOUNANiaciIOIkICzL7a5VS4ItRFXuod2CDLzuNhbd14u7shNKj/hVQrW0endAerpniWppo+NHD86m3+j0ARV0LQ8VktylZwgv1RpLSLmZsVCQbmrffee6iyeUAt0to5VHeyTxYod79VnIKAoboz6ETT9f23JWhk6kRlWlo2JDr0iXVer/9E96yfiCDSw3FjxEvaocTrxyRZ8vdas5CruVsSlBTlRo7D26TBraXZSG1TKF4ZYkryplBknsdbF07MpEHflAYWy9Os9sn4aZDAC4anSV+uMuLd2wP0jl2/tlIY+K9gyllawzK3ifdv+w79HOQD28vfy2s/XAthOGNxPa6LicuLirkg6J+QCIal619JzESLr0hbHwhlNiCHXt/tHZ8tUR3RLkWnc0vf+dat3h9P6nJx+lPFT2pw9nJ0cfNcZnE6lTWSN/QwsVq5avJtelwE+OfpdQk5VX0zEd/+PN9Oqt5mYUhY2xDJWMLR+TUU0RXxFt5y6q2yWhTmgsl0DSde+ZqPZZPZyWH6fXfBM1bzlaqLFt7dK19gtnzXmyNJpCH3aWITsUNv0tlme8l+OoUbo9cVWmqAkpDJ+OJtXOyvskWqIRfOQzCs0gO+eFg8YuAOBKkd2EsNXK9Yp2YFuiTSejPdbA2ycJpAWddeYF6Tjs9bRlUA/pip/gT3doCUy3b8JVSfzTjvsjqvlmXydjpS/Ylqfn/CGfv8ltq4VNlv2V2Fzr9GRf1Mt7R4b2Lt5wjPuy1VFxopaRhYBVy6j7mnX/nSt1tMJ/aQgscqAtgyhsjGWopMZp8iHbtTXMWqY02gXzy6n57LNKf/nEL5LSWI4WamwSVVMS8mRpNI3GeCtDJuwFYmPOezkOGqXbE2cNUc2gphIGHUfj5LGdlU2ibeRzCp311rlyVV+GAgCM8VWadypbot5Ju4dvbHRIPfyXX1rVjrSgs84agoL0l+08yPk+mPZMU2X5/wpVlJ2pmkqrUx1ZMWkDVdgCQ5bPr5aagkN1Zw+OVi+VPOQ/7FHG31sIWLUMusVstqLXRjr3zuhkGIWNsQzVvxvkQ04ZtyudqY0ua4/y0GeV88emV1mOFmpsPOyaD71y/LdOlkbTaMPOMtw7vY6fe079wbu5TBpd4tqEVlIY2Xg7K1lULmXBxjenkK1bnB37Z/LiMgDgurDdpNlRbSF7p29fBDXRoVQZkle5tJtknXMFza+YJWHdMspB2GvcLhN8EC+kjRAj5fARv+JFYipcXIexsKNyfH61lGMqWT/9C/E874BFkmuKKsvjwEJEmoJuvVkcWdHayNVyHIWN0YdKqVMb+doOa2fX6Af2qP10krMqLaV7aDlbCDMgXgiS6SZLozk2nmX4TBBJIfUH79zB7qNGlzhriGqjMPS4SDWzMpY+xUY+UBhYtzhbDmJ1BQBcA74u8zq1hUyN0lk3NuqQJv5Iyycvf2XZM43OvKB6Ur+8X3Ct6Ksli81sT3qw/EWOCI+NIbPMcXmVsLiuYyEuXi1lRxdinaqSteLJreDAQkSaBrrsp7dSq+U4ChujD/Xyq2WXVeqWmEp3bzlbCDMgXAi/cmmy9L4Hxnvrf6UA6wWe9W4uk4Z3f2G15PM6KyVVRVSwkQ8Ueusk1GgLz1AsAbhufF0ONyNvpOUtj7Lyy8ZB6LqPu0mvI4St0VFPIs5mqZtrgOz+0SBvF7wzxMDKMXd6vUixkT/77H6svIzHJ2xybxnHXxhUvHhX+CXVslqJ95YuN8CzVzb9fG3zmdE1+oE9an+XVXoQF9o9tJwtlCvLH+n1KTGeVY3m2PhAhlpEUEn9FXeZNLrEGSVoYhSGHlcpOiqzUl3FiOPIjaLQWW9ToywO0+dsAQDXAa1PWZejXYBXcdy22n2AN0vuqPsE0ekwJphQAfHrZqlJgvBgBP7uBD3xjvbqMUn6xpNi411GT4KEQOcxrtIX3z2s1bK2ea3LbxU6oeLZ24sUD9keWQhI00CXQ0hWRKJWy5koFL8clAOV8nSGjJczo2v0A3vU/i6rfrG1e2g5W7DY+PO5hA0iXbkwWZLm2HiWkRNWr9ZSf8VdJo0ucYa3M6Mw9DhIkVCZV5K0GnEeueMKnfUmNcZhntIAgOvAbwFHu4CcvZZvdNg+4DvC/su/0MJvPjtvJJ0smFBP4peCEAO8N+g3SII9IwZWj8NWlKMgk/wlgMWzdmci3br9hGq5d8ba5Jp6a6mqbV7r7LM6/LHVQKh49Icl9NOsIwsBacq6/pnYaMUkQrUcR6F4Ii6jWnp9tP42q66mj0PL2YLFRieffyhiHnAzWbLm0HgjQ32S5zoRmvgL7jJpdIkzvJ0ZhaHHQYq9lt50wvph5I7LdNaj6wJ+XRiArwEtR1l6tE6dsJB5FTO+efjipdWsyFfq85JOOlkwoTuC7A+0W+n6J0tC2qyUuMPIscu6cI5ii7+0Jti3+Q2KLhgP1ZKMLo/eTR9scz05ek/GQpvXOjbwihrzhhUrnkqUW+zOQkCaGl37vmW0YhKhWo6jUDwRLCNDzXtwtyMzqZHvtQg7EBve32RVxOnqEdQ9sNxa0NjoL7WRnoiXgElP4cnSag6MtzI0YLl6JKJ56eN3zGXW6BJneDszCkOPVYr+KmRB3BsmTN3UUUZORIXeenTNZywUzKYxAQCuFNoZZDnSOnXKLkAs5Adlyv+k54t38eQDCZ5Ye17SSScLJnRHkP2hVEuSZ135AZuGbnsq28xwY9nausempg/8LfMAbTWhwsRqyTdMxw/3ZfdcPNeIQlupdRai/JRaIVY8/T2ek8fcMLRQkaas+4x05bd8ghWTCNVyHIVSLtIXV0uug/zfXdT+nFUtNquqZWtBY4vHRAk4TpZWc2C8lfHax/GLzCB+w1xmjS5xRgmUGIWhxypFf42SR8GEVT0ajAq99SjJZxyX5ltIYwIAXC20QHm/+Fq029gscXv6AmiruQwzAAAAvi3o2evXfIZ63dUS31MDAACwCev+b9BXwzVXy8UbvHoFAABgA+jm8iu+FHvN1fISf1xz8K7UOmyoBgAA4CvzVf8vg2uuloe4tQQAAAAAAAAAAAAAAAAAAAAAAAAAAAAAAAAAAAAAAAAAAAAAAAAAAAAAAAAAAAAAAAAAAAAAAAAAAAAAAAAAAAAAAAAAAAAAAAAAAAAAAAAAAAAAAAAAAAAAAAAAAAAAAAAAAAAAAAAAAAAAAAAAAAAAAAAAAAAAAAAAAAAAAAAAAAAAAAAAAAAAAAAAAAAAAL559qfp044dz9HLrKN1KRys5+fa4tmANWNbvJme2iE4n/1hUg/nMz1WuKPsnT2yo4txU5J0My/WzZ5CK6K7/26alr9+O9P/yrjZ1XLvbFpr2d+Baklyyx/tULlnj2DAcG/YXzFbbvZWd9kcfv7Oji7ETUnSzbxYN3sKzUd3MAnHG00JELjZ1fJwWm/V34VquX06vbZDYc3b6vNYPPlIK+XDr9/b+brsnZn77dObmNrR3rB9mhKYudlb3WWzMhXz3JQk3cyLdbOn0Gx0e2fLx1tbu+/y9gI24EZXS7q1XO8K34VqSU8N0s3lg0uZ3Q/OpuWro9/PLpyfW1gtD5qb88TN3uounZW5mOWmJOlmXqybPYVmozvUt3j2zjZ7vQFUbnS1PJjWeyH2uuLZiLVjI8FLf+dyf+LnlcTu/5GH9blItaTIieX7h3ZOpCZ61jO9ICO7bz94M5vcPuX1q6uYj+V8949pevkDaynaLX/F5lI71T7BvUoIdPcPcaRugjJDx/6SxQEnvDNtLrnpJetLJhY/n+lLWcVO8Txwpn992O047VDYfU63/sv3f5ETabfXFPg4RcXYa2rM08ZvGhOrl+daWU7jtwvTRlYGxxeDHuIVHY3zCy7s+nHkLlH2BvnbZakNNaZmFGk75YhGLDhi6LifQpIw4mmMzUiDTfGK1KpLrvI2EbPswCxT3SZC8r4NbLF80DdsaapK9mrT4g2XF7ps9MQy9jJ0cigHllwj5pj6uTiRjq80NRJlVrTQVHw+TcfVegyNpMoxs3jGu8QLeX1wFBdDwyHL42Gz0tOt+2/JIT2JTjPl/lvy5dZMWkk6Q8EYck5eDlngdBNkgcWjKh3znKawPu2k2EbXyEOkNhW5PLZPN7rFYC5SLWkESpVMTXJCc8o3FIKbNTp1JH8Pp0eqF/Kgm478dZs8SZusMlYnmBxQ2FkIOqY4ZIbLs+7Ua5WGjYqNEJqdFTvF88CZ/pUOGXYzTpVhSka45mg7NfEA+ThFxdQZSW3ZbxoTT7Ny5dv4wlkbWUiSTW7RUQbjrCPUHmJkdnRh142js+XqbKoGQYQn1jnUmJom0lFkTCsmjkJUyab2usqoWqZ40lV1Vb/kc4NhxVZWe5hothlJISTv26AsFlkJlCtKjCeJm3QnLu2UnbThl5OQtphj6ucrSA8yEYjsgo/nWugifvonvXjlQsfQfC7ZW82kJCxZeBQXQ0LSUvrDsGmaUrCyhzXxFOljfoJm0krSGQrGkKuAiKeQBdtQCLYQVbmHUkkGXqfYTClfIw+ResStsc8W9qdHu+/sqeXW4gmFoMX9gRRubiWJPZJ4scO9+ixAeuVZy0G5kgLJPjibfqOjqC+r9oAvG3uj5xLvNR92NbRaxq4Z7j2zHaBSmx7I2O7tyO6yoCgoMN3R9RUk+bt39g/+ZDAlotrRTUf/Mn9+Z4kUartZUzR4cxOF7JgSz1eRtsrYy9Fyc2m5f8Ymxdh/P97ak33bqWojZ94rwx6M03X1Cf89unQ8Ym3ft+nG4oRHFZC4TcL9pjER9blDIyfYhekiUzy+rDMa5xdcWOH8OFaG6EH004IFh6nJkc5G1olV63o8mkIH0/Ix+W1jc+pq0GPWd2OqYcPLgyF8Ig5ks9mRW4UGwv6+IWT33dql/VYTVnLKHxGm7PU7sUEnLsrXP/QoRYVnhnoRggs7nm05nJYfp9c7sV+w0PSYXItprp2/7dBKq/VhEJcHMhy2VL69XxbyqGjPbJJanfOy6WjyRiFLuvn98zpCOyYdEhtlsr9GpSsMhbBq+Wo6OfooNknz5Oh3kX3Gb0bqS4MscUzHtOhfvdXYDqf3Pz35SF5II62Q/eloev87VcukLz6tWh6dnRzpUi3L0atl7ZrloO/2Jg9F9iA2R82+EXKO5C/nhrvDVkDHGk2xTEI1S6E9vtLkBnxniT1yLC+kqf/Yqy9zlRYNukRjsStVbeTMe8VCN86q60GnQMVPqAzd571itXTdNCZprVMvyylyYbrIlDg2vWzMOKkbX1jjvDhWhlgDZRdxWqxITYx0RWRJLDjy434K6W2wn0YVJy6QNNeaS54GQ2iSx7JENDtyyzrTsn3p7q5juy9v3JK8miQ6pia+9GEnLlOLT2I+64ZvqIoZHO3x5Xi2hVzwo4YQof7SQsfimi6euAiuamfBq8dw2E0noz3WYMvApJWsMy9Ix2EQmrxByD5WCqwE7qok/omenqo/opjvr1HpCqYJq5b8t+wYtEAW/75DR7xUqOgXCbLBInJDoXsK78O+fB2V5ceoL01WLeVE2sv24dWyds3S+iO8iYYtGTUD0qzD0vtf/yuZyIWPj+MeEG+YwyYX9w9vVu9R2Xok1b1pdVxaNOjiI7zUG1rLUXTmJsRCN87q0keaApXGkOmYDiFXS09xGBNRfbRyipz1V0CoYyNXXWuK1XK0wYU1zotjtost1UGmziZU7qNOF46RctdMZEksOjLj/RTyGZgaEx4Pox5Nqr3kcTCET8ShbDYbrl1l8ccH2iB+sbNvBNtOKXecq7LLMrIxc8cj3tgoYSaraJNh6hHqJ1PUwVkPmtGFysy2cC1jtVAhjNCiAYqsLLE0hC4uVxwO2zvD0DQe/suvF2pH8pB11hAUpH8Uso2mPAqmyvL/FaooOxM1FVafOrBiMV0yEiE79mxaatlhMWavtsnCUAndU6iFTkyOHnRBskdxR7L8t9WXkVq1FG/SXladV8vaNYtFEfEmCkJ82iqXZm5b/Ky500pkn02JdvqtJ5bFsKtYhIKHqYaism+7xH/oZ+pjbyOvQZcxp2pZPY+cuQmx0I2zuvRN2j3p2f70W7yfjOkQcrW07jgmwi13coac9VdACFkNcYyTqpFvcGGN8+KY6cppZkbPlsxfTk2MdEVkSSw6mp1CnrY+Nid6yYabSx4HQ2iSZ2Sz2XDtMve/tZdifTvVHXmwv9PfR7u0T+sh/TUNOqHsZvWI9ou66Hh3dKEy8y2qXJxUqMPt0VXn43Izpgdzcfl57jd/3ql1R6AmOuQ6xfIqF+NtdM4VNL9itglZ4NHIBHS7TPBBvJA2Qoz4Ub5GxXMYCmHVUozxNlG3v8UbPZJHk9ASyUufls5P/0I8nx7Zc84nR0e/i2WTHelbtZRj8eQbDp0F1RpEpG5OZUG2Tf6Y9iAaPyENWgBKgJ5iNtR6DDvJnryfo8RtotktK6pA1/D47+S5+762yheXGnTJhGzWloHgedYZoRbacdYxUSTymeWQOYLO7K1qoTM8qpbtmOr9RparZ6PIhJhVfy2TGI/TI7/ohV07jmEX9a2YFk2oTWpytRxMOSWLVQZTyILJhSpGmAerqGGXai75sFo6RXZgNl67hsbmnWdYNhRtIgGGLiFnlDKoGrxza29QD5AlaSEBFfPu4MJk5lvs64LupBLccVR0TFNNr6kezMXl57nf/HmUtcRYPFv8aZRPXv48OqHRmRdUT+pXk9eErJBYF3g5poP62ofHRpBVpl6j4nndaulHst5MolZLCtB4VFeRriuTHel/lWp5MJ0c/WRiEr/dFtuZsGpbJKNiTVinWpoClwBKk5upqLy5lA9VUdAlglAto+c5Z4wOux1nGBPNEo7b02PQdQyxdYZH1bId03rVsrsCcpSyWiyOx+mRX/TCrh3HqIvV56dFG2qTmlwGB1NOmamWFlWyacHEVzdyhHmwihouUvmSp8rmE7Hgsr1Zi26IS38r5LKR0Cbe2fVLDHQl+WKIBqVQkj+nzv12uVmAuuOlUVymFpWipZBDOXMnleCOdeiYZNWFWpuLy8+H/d6oMRNNPNxBg05FsNMRVDChnkSczVJ3E7JCx5LlGFg55k7PY4yN3OVrVPDwFKlPpZaNqyU9mkS8tyzxkZ4Z1JXSlLyV95bF3VA1M9gM2iZ/THtQ3VD0qN701rzETUepO0l6Mj//SmzFFOSBro8HW0hh0ZWUa1nqjhQpzUB8JWzOGaPDbscZxrR4Jhc9ZE6Qy+F0hkfVsh1TvVJZLl+YNjImZXXwvmUOZ9MLu3Yco658rMxXyyY1KdLRlFNmqqVFlWxaMKnEpQjzYBU1XKXSJU+mfCJWTLY3m66dUjpd+lthWDYUbaLMWGpIlHMjGr5vz6l7Px/w2+p5D1dchh7t8hYtRXTpMW/5THDH8fExNYmQCs/FRe1yPux3f6WxiYfLG3XUeIlOhzHBhAqIXzdLTSFkg7+7QfeP0V49JkmfnjG27hoV6DwEIvWp1DJ+U9ovix/J9DeJWi392TJTXpfRlWKyjb4Ni2Kyfmkv7uSOKnV1eGtZmH2TPzZblZ7xAUeht7Heq6zYFoM7IoZWvVdDRA4ifpLQUHl1uT8tH2pyLGatmlKFkucZZ4IK0t80zn5MySARn/LQSWN4VC3bMVUfWa6ejSLTozi2ejIep4tf9MKuHcegi1gxLYiVqUmRjqacksQKHlWyacG4VyVGmAerqOEqlS55HEydiAWT7cxG+wV/whOe+HwT+E6ddnvFmujGhb/yw89Y5SKLBjVKcufUS0WhwiFfiR5k1WWKbDgS3Lg/VoI7uppyTLr2dQw2MReXRzLup7PXxQTh8ey//As58q9y5CiTThZMqCfx68nLIWdiYPXYB0ukKNprVCDVMNelPlmRkopFzxspTv5MrN7ZpM+0hmppK40FSVI/OK7rymSTvi5XGha5psioRdtNiPrFcupqGWwGbZM83uOnYmLA9iCyyr/24N8v8z0h7lArtsV8oxvPqveUYRfRakOxqLtK2MEkYE8b/wcOu+/Er9hInmecCTb8Zpz9mEyuIlfS6AyPq2UeU91fs1w9G0VGhLHxt7pUmhmPU+xscGHXj6PvIlZMC2I+NW2koylHdANyhlPIgnGvSoywGayghoNUvORhMKKTTbtsZzbNS4c2nxey3aSB3H1o+3baTcs3af7WoqBfVPcNX7I6V5XKXk5Znz6Ud8MTLlP3/VQBzCh5IupFF6SH7+Acck7KglzAFXF53E7o52AZnwMeD1lR7I3wGGXSyYIJjSQlL4eciYHLscu6cI6iuUYOBRdtd9WS+u37lizJ35fkwPpqqb26t/MY6ITfoK2ySZ8CXpLwB15v+/Tg3+6UkbAZXYi5q2GwGaQmvYD2KBK+B/ml9TOfKDURYTtxYULGkfeGuK2V/OerZQouSVIerhF2MPljCuZY1oU0Jc8zzlxNXORxxo1UCZnTNUTotSLiyIRBtezGpC8JMDm+9lrlyIiSJGkO13swTh+hPIo5jyObHVzYdeMgui5ixbQgUqgpNW2koylHtGKFkp1g04PxISnxIreDZdSESIVL3g9GJGoy4vTozKZ5Sd0apKnUn1X5NhjMC6ds2Pf0/5zg35QgSGP9avmnf6O9cVQ8CJfxx3jE8OKSL0YQa1RL/a8x9NdkZuMim+JhZtgL+UGa8pOKHs/iCf/E40n5HcYYZdLJggmNJCWP5WvImRi4HJNXQ9ubKPI1cihFcbV11ZKeHpJZ+S0fed//RD5N2VdLD5SejxP2Q6Ty43xeLaO+3OMeP9zn9Ub9+rtA0qE/+GPpaboyg80gNekFfLT1uHzpq+xB/Emr6UR/aZByJ78JSFgvsWJbzHtDHZ3k26iGCFMob0R2r8WGHUxS7gPiFyDsyouN5HnGmcerGUnjjBupEjIXt0Ol2bA1T2zFU0zd7ZiCTo6vu1YpMqIkiZrTj1EOxvkFF3bdOJi2i1gxLYgUakpNG+loyhGDASnDKWTB+JCUeJG7wRJqWKTCJe8HkyZinh6d2TQvqduC5Pzl354FIyj5Te2ah/Z5SuqF/2unK4SiL5PrK7B28toyvxm0Di7BypcQ6k3Liq6rpa8sc/hbUFdL3pAui7iNXgrxZb27yPrTAoA1uUi1PDh59dMNKpUEPUX8mmv+mqvlQX56+xW43dWSEngNz61uSbUMH/W6k6BagkvnItXyBuL/L87X4XqrJW2YX/tS3fJqeS03l7ejWm74v0HfHlAtwaVzy6sl3Vx+xZdir7da7n/1W8vbXi0pyKufLbejWh7e9VqCagkunVteLSn+rxj+9VbLb+3rUGtyoW3x8OpvLm9Ftdw7+4pPMq8FVEsAAAAAAAAAAAAAAAAAAAAAAAAAAAAAAAAAAAAAAAAAAAAAAAAAAAAAAAAAAAAAAAAAAAAAAAAAAAAAAAAAAAAAAAAAAAAAAAAAAAAAAAAAAAAAAAAAAAAAAAAAAAAAAAAAAAAAAAAAAAAAAAAAAAAAAAAAAAAAAAAAAAAAAAAAAAAAAAAAAAAAAAAAAAAAAAAAAAAAX5Xdt9M0vX9oZ5uzP33asUOhPb8SrsXJzQdpAOey/iS589Np7wzrBWzAAdVK5oWdb0y7xK5lyaFMCNedhv3pqR1djHv2eJVch49byfqT5K6vqsUbbBtgA/bOphc7W4tn0/TIWjalXWLXsuTu+rpekzXTsH2qz4w2K3WBDavlwTVcrUvysXjykRL14dfv7Xxdyl3L9ulNm5nrr5W7vqroDuFuDxBcDYfTa3n88k2mXWLXsuTu+rpekzXTsH26PGL+1c6NxZvP39nhmmxYLR/YZLtKLsfHg7Np+ero97MLTy9Uy5sP3SFg2wAXZ/HG7in3zmjH3P3jA996vH8oU0maqJzqVnpAG+TuW+mfliax72f1hLCtN56LKbmzsTdI1bYwcMrTme54ParstXQywYm/pEw8VcXtU9b+Y5pe/mDiRIq53mxpQHGwgXbcIhz9iSezIcfJiyJNSwslOuqUBTF/ouLdQHafU2cYVcy1xd4MQZjZwa+tWt4a9qflYznY/T/ysD4XqZaDSWLY9KXesLZ87rQXWGdOVSF8Pqe1FSdJYLD+guQmqyov3xQ7M1xN9jfZsTYl9ZwXVeczQnvef+F9S/AFyNNJnuaCzCWdq7QA5cn6Ic1LX4yESYQznc6EzfB4LqZoljLBtjBwKk3s1RaC9hMsUjqZ4KRfQRTzI7VenDXu2t0lDjbQj5uEc7Vc/sjNGh/9zYMSPFSxHB11yoKbF/FmIGad1ZSY6321jGq5OXpFNuIi1XIwSQyZYGG9pLnTXmCduvK3nc/JQ5wkgRyF6H3hqpITjlHkvau80zNcTeVv36OknvOi6nxGDqfXdZkBcGFoBtPa00m0eHBW57osMp50NBu3tu7tSB1xCeXeM1vGQpzhjJyXxsY2M3S69UBqgZ51XrUzEMxJnNawd/aPN6RJ206NT6kxH9BtBPk3C3GwgSaC4E5FF284IH0BK7yMlTPDcIuYDo5mlBkXzwOhi/Xph63dN822Z3HZTnBOtbR6d0DmD2VjIc3QRsePaLC/0emDj9N03Nz+kCR/lPqlWmOJpdxMjC0UpJvad9+57uIJ7Wt6vxCtPNojiRc73HusV3oUxZDL8HEQZjdRRzI7Us7Ge76Vaapl7JqhnyRhgsWVVidDvsA+11Ulzee8tpRi2xivPyYcX3RVxeXL/PldmKzD1RQdu53YpuRkrY4q+azwEitXCYALs6u3Oj6J9u0Jmk42edVQt3Q+kcmoEs5BOGtnuJyHRnraR1M8NYyc0qwPYo1X7QwEc3EFkZwojhaHxey3EdUTPfpgAymC4E79ecHjJNpTfyVmRvE3iKujWWVGxfNASugaU0XishdzLeDEuFrePzpbvjr6dSe20fHR9P53qhCH0/ufnnxs8r0/fTg7OfqoQ3nGb/FRySGvQwsVq2SvJtelcZ0c/S7DSVZeTcd0TNvfq7f6xGgYxZBL8NFOrzKS+ZFSNnRvLlPNq2XtmqWfJGGC6XpRdDK0F1iFTSXP57y2lGBbGK8/JhxfcFVZCoMBarBwmcFqio7dTm5TYrLOiSr7NCRBo9ABWAtaka959vgk8tcGdV4e8MsqfmLzPL9WFc/aiSjncdrL54pCw9hpXm6NV+0MBKdxBfnSsv0lYbb8Zs49pcEGUgSxP1RLvSVJNyYxM4rHUh3NKjNmIA6ERq9C3SezNA2HoqF5yJAx/pDP3+hOJ+72/kpsrgB6ouW7TaD2eplnpwtJ0MhCwCpZ1OV5t/h3rtTRCv+lSal5kZZRFEMuwUd70Xwk54xU2stM9GpZu2bpJ0meYGVKWAKaC6zCppLnc15bSlgrQpaJnoPkBVcVz1FSiMbSzLZ8RJdRdhSME4dyXlTdaiLyVQLggtBNin7b0ieRbjNlFhL/8c4mns1zlXDiWTtD5TxOe9njQ8PQabPcGq9dtQxO0wraO5P2HK1iba5pCnmwgRRBiF79cUCLn/WFsvQSaO+5+C2OZpUZE48Doculo493DIIORm2UzTRAmgL1xN1+XC31qujO7A+OVhaVNEdyGUcWAlbJgm4xm62wRBz5OIohl+BDN1y6LASPoeQi6ceRijdplz+MV8vaNYtFEYgTLDwnMsHmAqtwmcDisDSqbvQQ1oqQZbLnIqnOrPP8VUWPrBCNpekwWE1RdhSME72eF9VgCmo2V18PAOYp63G0uGiHPf47bRv88hPRzHOX95VLTVWV0fO8bPISGDl1k653TrWMTtMKsj0tmm5izntHM9jA6mpJfxkRkYZBZgy1kBy1yhELPQ5ktlpaGnSH7iwR41diyarayRXAHf70L8TzbK1I8htFqiyPAwsRaQq69T5gZEXLF2+CM1EMuQQfdvvy5Ojod1kZJjvSjyMVT37hLdexq2N+kkTCVS6TYXCBbU7m+TxYW+0CHckoX7Cq7DGuk/lqGcl2ov4oWSkFg6j6amljcmMAXBSbu3FGxhnHL02VaXdOtaQjs6XYeZz27euHI6du0vVWV8vkNK1ru1+IppuY7cm/0Qw2cE61PJhOjn4Kw+gz42h/ctQqR6wlDmSuWnoaxHd8wapw8WpJvow0jCJZq5GENrAQkaaBbi0n0UqtZDNRDLkEH/Wi6WU02fNGKv1+4elsoJqZnySR/t5yeIFtTub5XD24sE+SSi+jJMkLrip7jOvkyqvlIKq+WspLOsroigBwHmXSjRaOPFmtHzU4p1q2L/PYeS4vWWTk1E263upqmZzGdV3vBqrpJua8oJrBBs6plrVFj0ZrW1ELyVGrHFHxNBCyqdtY87zD0yDCHkBik3vLNiChSMZqSY8DCxFpGujGSlSt1Eo2E8WQy/BRJpRm0WTPG6n0F3dD1cz8JImE9WLzWAJoL7BNnTyfqwdRJNJaEXoZJUlecFXZY5zOV10tR1GhWoKrY7RwdGKXT6KtrpZxKjN+HqZ9V4tGTl3T9VZWy3wW17VXh2i6idlPlWawgWbcVUD9kTXp5wPeZLrMFNRCctQqR1Q8D6R8nsHUlOqKSsD2u9RnpGopnppqWdtsm/dn7A2lVvArsSohIx5ZCEjTQNcHVqyIRK1kM1EMuQwf5TVIvYwme95Ipb24Y9+5q8Nb+0kSiOvFjVOo3QW2OZk9VQ8W1cBVJ6NkyQuuKnuM6+Sqq+Uoqr5aGm4MgI0ZLZxSDWh3uLdDj2GedzO4fQ7t52Xa83esmok6cuomRa/1GvwJ2Wlc1/6yVDTdxJzXTRxsoB939Wgrdn+aXnxfv+PVZaagFrKjRjmi4nkgVCYH37esaTiYXo1/si1USx3CA3lt09MT22ybp0dR4Y+UBqxXKoLe4eonRUcWAtKUdf3zqtGKSYRKNo5iyKX4OJiW8v1MvYwmm/TzSLlF202I+sVy6mqZnySFvF78Qo0usM3JPJ+rB1Vs1orQyShftKrs0WISauXq13Ml24n6rQfG1p4wigrVElw2tPnapKPnsUaZcT755CmuvI4hstrczeB2Mfq5THuSYtp5OnCqr5eQSdFrvJZOZ35d826p70cV023Mad2kwSqy6/Xjrh59xWpY7mm0thWx0DrKyhGVbAayrynL0p6GP/3nO+qzHw7IhGpJcS+P3k0fxD+/cfqelEObVwgawPIVNearFquRStjuPbAQkKZG174LGa2YRKhk4yic+HGUS/JBF4RO3vpnYkU26eeRfiAX9u1T6pjYjF7Y3NUwP0kEamaCqk6G8QW2OZnmc/BgGWoXKDFYf8wXrKqyQuvyVTSN0iADLmEVckriOhslK1bLFFXnk/WDr5wlANZmZbUsHybgl/8en03LX+RM53k3g9vF6Ocy7WUu2y9ABs6tlo3X0unMr2s+Xrmu66mQBisH1E9N/birx7Ji5f8JPflVrY3WtiIWOkdJOaIO24G0vxPLaBrIITHz2zGxWvJ/O3P8cF/CW5A57gltXiH0P+NY8q1vIFYj/a2cE/1d1ZGFijRl3WekK3MiWDGJUMnGUTirq+VmPnaf84n/wKrIJv1mpPq7QNKhP/hjF6fpysxPEqFfLzwZ5i6wzck0n4MHy1C7QIkLV8tzV1Vevl3laldTJKckrrNRssraI1JUqJYAfAW2/7dZ0NdLv6Gcw7OTv/2zHX4zfOVrVKppz4quTfkWLzAA4BZw0D0Zv1YuXC2/Rb7yNbreagkAADeRxR9ft1ihWp7P175GqJYAAPC1uTHVUt8TUi5QATZUu1WgWgIAwNcG95YAAAAAAAAAAAAAAAAAAAAAAAAAAAAAAAAAAAAAAAC3Cvv/KW4CC/9fwr4u+/2v7IPEhhm6zz883P8os7GeUVwcAMDXwf/HkdUc5l+3vir2r8fNOWBDPo/NMvRMfw9iemHnDaiWAICbzKH+hyO0CRH+v1R0XFO13D5t/hPPrwI25PPYKEM6xZjx07P1jOLiAAC+CnRrKfXJ/zuhpijuWvm6vGrpFsdcU1VeDTbk89gkQ/y/evH/F/5uThfVEgBwg6EqKc/06fEp/3f6zVbkxfTyqphbHEN74dd/5/I6NmS6i77Fm/4mGdp++1Gm2qzuekav4+IAAK4VvVv7IP+Zsv7ntnrMLJ7V/+OXKhSx1A8/tIKMtkmzKND55+9413gq/wHzsSvyK6pW7mQvbvQaBYWe8Ot/LCXVkvVyVSQb11otKYDmP7rym17mqQ+zNqp0M1QTi1fAmvgGR/6DXhqO2RLUgIlSppTP383JV6xVH0hQee3tFmm+ogRJxk0/WTn/0ooOoYEJ2VGyF/MwGND9tzR4m38DLyPDIUPWLfj1GU41hzrjyCvBqJyTLaWd9wod2wAoZi7DFAnPrHY4hJ8JMRs5+LwulTaIPj8q4RdYQ2q0SHqaTmb+23AAgC9r3s5kuRDHeR9Y2iJXbBUKJih4GyEKuiB5vf6T2qmNshnSsqezTzuNXqOgiCAfUBSkx+qPrTJS12vdbEie2v4f/n/5ZWvW/89f3uI8nD79X7wr1lIq/5X/+x/oNrVYiVLFon1Akpps+6QIHnEAvv0beUOzYdZGPptLUbwC1qTFonT7jpfzHjbkOfmKRaQPJY62WloQFb4awVhr5ZxLq0pixe1mR8lezEM/oKJ4zBe09zIyHDJUL0W9Ps0AMjQDxk+XglE5L8kk1/1F5WNt4Qi51NEDGc7DKWc1ZzEbOXi2J4g7pQ2iz49L6JItCXBEy4r2Y5YAAAy5H96luU9rUfYJXku/7Ww90BUrLB5QZydYoNX2dOselSveHGyPoHL0cXrNd5ChkR/JKP0VA0kvKyi6w+gBbQKyl+qhtJTaZgdlw/Vjsik7TBmISb42g/oQpFqL1FQ2cB4/NbNah7Wn4HnjK2ci0KSI8SugTcUXHZO2Z1zJeRehlfKCubIHyc7ycfFnCeaXuLXboTkQjWUr61xagax45tXRLsUbdFyVsDz0A8qKvZehYSEe5+szmmoGtXnIQ5LO3EW1Y2uhcXCwGmgzHCYtLiWuyxL8YF0yKQiLn/56foQydUqQWYuCoEPKPABgDlo9ZY3oQpOFJCtLF7bhne2xoMtZdzpfkLRH8GNuFKOfv6M+qTlJLysoKkCQGh3QfvH5OzLFGwnteKnsLn/kPZ+ESPS3ncXPEnxsF8jC653Fg/+Pd8piJUoVi+//ssUbE53Iri2CTU4C5qIMUyDFcqYCbTYIOq5N2q/HpN24ovaadxFaLc9onz9ITJJda7Dx8EZcks4nhrvLVsgGP7aDSZe2JTvK9gQ6pp5+QKbIHWK49TI0LMTjfH3yACIcBZubJRpdeVHp2FrsQQNthyOQRL2wArXU0Cx4epDQzISTgujzo7gHi6XT0pZcsgEACVuJjC2dsnOWlcXE5R3XmGBG9MHU2Awv6tQoqvwKqm4OSS8rKOWY9oCnovya/5I2SdPaJrOycahBOaMO9kRS9BDaFT6ULSFaiVJBVkKyiF7ZDtXsVAULlLRrynhTLvuPCehDEotNPMJHpte70l6DhLxazskz5qp4tG/keIMrWXgCXwiD88JkKyzAWnkwHEu9tC3miIWqjqsKYq0fEI+TX7TUtt7L0LAgGbJjG99wAIF9KlLlkg2JRl0/54FRKWuh0Dja4XAUCz4SQ9NjDrpfl00QfX4Ubmblopu1GOoaXzoAgBCWi61ZWpW6avRgsJ92i9v6VNQXJDXy+uwaBTGZ9bKCYgLSKPC7L7TRPNU/bFZkdXeggOUNudoU2hUOXT8mEaxEKVfX9y01FGrzPTJtcgEL1IZZB1SE01BNTNEea6KTR7u0LUpUohFIeVfjK+UZs+seyYR6zpEmZUqEw3lhGivslR7yYKhREHsd2VFjT9AeNp0GJNFUN52XoWGBWtr0h1jbqcY8IMMvUg0j8vWORt1qzgOjUtkbSXXDycFHYosek6ZejnKgmKSZojMhjatOnRJk1mIaswCAhrAqbUU1q3KwoNOuzaSlV/cIMZMa+eGvtJZtw8lLNikoxSk1EifyyT6Ky18ZJXsWHJ9RR6yWtEXFOqjw9+mm5S/JSpRydX4bh+ET2TbVwkWqJcnWNA1TJGhP1WToSQE75R09EPNO8ny8Up4xu+6RpNRz9ScDK4k2JDt2TDRWNGF5MPwQLm1LdtTYE7SnH9AuPW355DdqvZehYYYO65hsfN6dBlDgdwTDJ104gOSKSEbdasoDY1LeQv10pn/zcHLwkdiix3RJJOh6oHRBjK6CT50SZNISGrMAgIawKm1F0arRbXd2QfvSK3QLlhYkmfGtwtejnZC0tSS9kUJxSo3VI7X+h+7m5EtkQ71LTbEOOn+m7Ypbq5UoZeo8iB9ckcueiDSjCVigNnaR4izVTSsN1cQU7bEmcSUf9yff6rIS8s6H58oH3CPpVc+Ej8fCK5C1uOGauj1QpxhJyZATMjNMz7yjivbMDog6KKLey5xhz5BivasGwB5SBtkCEfOQjbpVNeMprlLeQoapn4TDs5kwHKINPrfoMQUd12UhBSF/qSUMS+CQWKroJi2BulZMIABAWJW+onyxhfWnra1gIS09W5D0IPtMWI8mWJZ9p9cp0LE6KgeM7KhignQsOF7oZFjet2QzFCNFMaqWYoyUq5VxtSR/2kSmPtHzdQ+uxhGwkZAaj12GQMc2TGaUIkV7rIlTq0okKR4DIe9ufKV8wD2SfNoSNZ4SXsGy6Jh6ffBkiLIgFkgtjDky56iiPXMDYsvU3XuZM+wZUqx31QCo8dxqkY26VTVjtgmX8hZ6/LSTM2/Dmc9KbLFjehDhFHUThJwMroJPnRJk0hKoZcUEAgDYqmHCirJPqvPCGixoF3R8h1NRW5CuF9ajGCFBqlOyZLPeSEGflRPUWD3ybqAW6EgeY70jH+EzsbVd2Hv/kL8vYa1mJUqZRd/guIl8P2JhDkAH0GPZiWP3UQrDFCmq6k2kxd/w4A/0h81VCXkvFsbyMYeCy5OJZNYFLf4CjXe+WrpS8qKZSYNmK+5tzlHFetoB7b/8C4XtX6novcwZLhkSrPecARjzRSMbnbuofuSPMqcoZvaVhzOfldhSgw/r0slBkGh3FRifOh5S1uIGfIMEgHOQlci1wKE1xcuSkd0qLehGUJC2IGoLUuRp2RK6Hglfo9Rnv04Q9EYKZEu3LhIpm4ecmQwpsclY7/gzIoxurrVdsKGJ0WIlSalFjlTwm1XdgKhZIu6Q4MvYZUCkobHPpkhR1dLEX74Twk8qqAFD8lAtDOXVTcDl2wG4oMU/h6nbgwivurTaJGG7N062MePIQ2gGRM3KSzI78DJnuGaIMeMrBkBdTh1ASzQ6f1H9yB856g/yXmwznBXpjy1+7CGGK9gEMchPnjoaUhu6BoVfJwBgJbIS84qi5S2/hqOfDkwLuhVkeNfRhRZ3DV23M1sqm3na6M0p6A5EImEt87bBdkjguSz7VO/uPaPuE/lAUFcttx7wyKSvWklSZlEefjmkJnJtG5CMf7yVSm/ZH2VANBSXHafIUNXadI+TP33gnxAocMIc3zjdwkhe3QRcnhLKYy24oMU/h6nrw/mXVpvkxL2RI2fGUQkhD2jxhArNdKL/+8zAy5zhkCEiXZ/hAPRUWK9azl9UP7LHP/0bf7JMy2Mezor0x5ZyHNel0gQxyE+eOhpSoyUi+OU7AG43tJqloGVoeZdNa3M2sELbTLOrDfFN8M4QqwS4GFTrqDbpz7gCAMAVQdv0oO5Q0bqEarSBlYN8ZzYHqiUoHJy8+gmlEgBw1fhvzyTo6frgjvOiXNzK4s16VRDVEgAAwLVC+3RX0rZP9RMTX8YGVvbXu7VEtQQAAHDNHNygwsMf+lkHVEsAAAAAAAAAAAAAAAAAAAAAAAAAAAAAAAAAAAAAAAAAAAAAAAAAAAAAAAAAAAAAAAAAAAAAAAAAAAAAAAAAAAAAAAAAAAAAAAAAAAAAAAAAAAAAAAAAAAAAAAAAAAAAAAAAAAAAAAAAAAAAAAAAAAAAAAAAAAAAAAAAAAAAAAAAAAAAAAAAAAAAAAAAAAAAAAAAAG4M+9P0aceON+QSTNw09u/ciL4S26eT8Pk7awAAgNsJquUIVMtLYu8M1RIAcCdAtRyBanlJ7E+v7QgAAG41qJYjUC0vicPpqR0BAMCtBtVyBA1J+fzdgR0RT7f2zj5/t7V9Sn92/5imlz9U2eX7h6LJ7L794G2SF9GiwqEvRx6QnQPNmHTIn1ZFaBujBWX3+Ufu/ouclKBJrFFtQmbGQerffkjks/C0i17enYzSzuLN8kc7BACAyyNsSbI1y+5YG/mM8PeCpg+/fm/n1KNiH361rY+bFm+m6RFvZbRlmTHrrJKhLsyIB1STSJ6DCdc7ZEsSOr8Qd/8t6fneS13EYCfWgHIKaL99xvXghbhT2iDIIG/eFHep2SpiI7SYGjXZ4E+i3UgYUgjIqiV5fKTW+KQaLu7FtlLLCrfKq5J8u0XHnJ+m3ijFTNcYLQhF4AV3x2rZquaQmVZCg/S/sUeIaSDVHD3PHKJKO9unn/7tHRXSUqMBAOAyyKWC9izeumojnxFhn1vqrsU9vlfKk3lt0vJXun0zc/1jNhfqwox4YLVnPtYWjpk3dHqg7b0M4Jg3zXJW7cfQ62jFBNkTxJ3SBsFhq2SxmEZoMbVqVrUfs8QcWjsEKjf014vJP96QS3JsVYu490yHLNzbkYK2eHAm5c3M0DDVMf3dlzTtnVHI2tuoKG1jtMDILePWvSdnIRBz14XQhTwM0kIV0pAMdd1FT+TIDb98HjAAAFwmtJHzLmWVx6Cdsp6JBO9mumuVnvv0RJ5rhjatKn/3aR+rm5vInF8tiTnPdmwtpM7GS7Wkv7tkvQjz1to48NAVSwGXuN92th5oJS2kINin3g3nzbqMsESZ1SgKOly5j4faEaul1Wc6i0M4qMNjcakzXla0R15JtRcnRUDeHq29QcVpGqMFQqtlq2MGk+ow5EGQHoyShiRYoe6jJyjPbTJpHtBt773n+fIBAMDlYKWi7PJCXy2tGiY5Oq5NTfnLxYSa6xYmMivFnVWe6dha7CFWy7JhKyTR7KDUwjYVSwE9SBhmwklBSO/n7yjial1wFxZMp6YtseC1hNoSq6VXES9WyvZpGJAVIm3ziiKjsBPRFSnvTSpO0xgtEB5A1rGos+oo5EGQ1TaT7TJWLfvomcN0kZgDazFPAABwqVipKLu8QNWgbuwmoQ9JLjZpXVDFpt7koqGleKW4M+tZTHgLmeJ9Vq1wD78Gq5YNdsaGAmZa0GO+tZQYcypyEGJqen3Y3b/4CItyVmOoq9WK+GZPpGq5dybt+TMs6czKg7aZFmVjmv7jndncn37TT8t4vUkqTm7MFmrto5GWS1mizqqjkAdBxuLXSAtWLfvoGfv0zwB8xhgAcBXYdm67vBUuaqw7jkloVyol2mNNdPJolyoOtZhGJZUrNb5K3LGO3rOa8BY2JVIkLO8YFmkbzsBDbNFj0tTtuhwoJlkzI4jZgI+wRJnVmGCXajkTqg4pVqepWu5roF5m9LqkkjUoROTr+O/kQd9MlehesqLXm/OrZWNBGuR9V3VttdOjzvZSyMbQIzMckuDVskQfyS8IR3IRBgCAy8F2ddvldXPnzVz2NiHt+7FmWU9VZWh35d0tb3zc4gZJnI9XiTtzns2Et1C/GmTh3bdUSf2+UzWLoUBs0eNSzEJVY7og/kph1+cSho+wRJnUhGC3r5akX+IhXe6xXf9QlbTMrFstuZaQvxIm3e3J4frVsrXA3TIWda3VskSd7aWQjS+oliX6yPy9pRsEAIDLxHZ12+Vlc6d9q9klWaKWC9lvGe2xJqkA8kWKptwQbFE2Sz08T9yZ8ewmvIVMUT8Jh92W2mgIXqvMUCC26DGFoQbSEJsg5C+1iNWIj7AoJzWBumbGSYTXYVmXA9HKtnij9rTMrFstxRw5LEIHPjaPLqg4qbGzIJ9TojZ1rdWylKykmkM2vqRaevSR7n3Loo+f9AEAXAW2q9suL5s7HcfdKe37JqdojzVxvVAtkgzFluE+2SxFWsRWiTsznt2Et9Djpx2yF/ZhLn2kqprFUCC22DE9iLArGSkIOSl1NeAjLFEmNYFaZsYZtnohVsvtUy8mPLx1q6U2hY+ZWgVbv1p2Fhx1LdWyRpFUc8jG0COzTrX0+luhPDfSJC6Z7u0AAMCGxHpgu7rt8tJD92Vhc6LdR7YfVSrVgFFdbyK15eMduQVpd0S2IZtlMDAjHmKb8+xH/kjVSz6mynr7L/9Civ4NETdmgwzElpoC+waJ+RFyECRKJzlBgo/QY8pq3LDyGyT+ERolVku/U9Iy05eWe/w8QYbiEqylFqhHlQn95I30tipC29hbMKiJeiRgi7pVzSEzQ4/GOtXSoi/wl4JUK0Cpf7Gztftu/jkJAABcjFCReP/nbcx2eemhYlA2HL6P0mqmSl4NBNUtTfy9RuG4boiib8h2WQ2MxENs8579yB9pn50+2OdRKCRFPhbixmyQgdjix2RPCPt5EwR74h2cNHKGDP+VhzZ2jWrFrxPMV0v+5Tl1wfb60kIOrAprIRItr0kUjXzwWJFrRb2titA0JgsJdR2rZWsvh8wMPRrnVMsYvcDXgAgl0T9qJF7oiQx+zAcAcEnQtqIVibBSYZVHemK15M1Kd3lVMjlFdWvTvScfSfwD3TEWci0hgoGBeIht3rMf2eOf+PfO/FOTiyf8i6Qn9hOlbszrYSW2lOMFB7SUX3YzmiC8WvKoXD2PUGNq1ERk9pfvmPlqyce19PSl5fHZtPxFjrQQiVb57iK/ksrBCBSx9LYqQtOYLMiB01fL1l4OmRl6NC5aLcVy+p3Y8nFi/oRXunwAAHBFlFp1e6BaR3uk/owruHpCtQQAgG+VW1gtD05e/YRSeX2gWgIAwG2sluB6QbUEAABUS3AeqJYAAIBqCc4D1RIAAAAAAAAAAAAAAAAAAAAAAAAAAAAAAAAAAAAAAAAAAAAAAAAAAAAAAAAAAAAAAAAAAAAAAAAAAAAAAAAAcK1sbf3/yk5qXd5qVSYAAAAASUVORK5CYII=)"
      ],
      "metadata": {
        "id": "gDKaW_6rAA-o"
      }
    },
    {
      "cell_type": "markdown",
      "source": [
        "#1"
      ],
      "metadata": {
        "id": "GiPvJPjib6y0"
      }
    },
    {
      "cell_type": "code",
      "source": [
        "import pandas as pd\n",
        "import numpy as np\n",
        "import matplotlib.pyplot as plt"
      ],
      "metadata": {
        "id": "V3jfAxb8APAA"
      },
      "execution_count": 65,
      "outputs": []
    },
    {
      "cell_type": "code",
      "source": [
        "data = pd.read_excel('book.xlsx')"
      ],
      "metadata": {
        "id": "LGZO8DVsAilb"
      },
      "execution_count": 68,
      "outputs": []
    },
    {
      "cell_type": "code",
      "source": [
        "data"
      ],
      "metadata": {
        "colab": {
          "base_uri": "https://localhost:8080/",
          "height": 487
        },
        "id": "l8lkadX1AnOZ",
        "outputId": "e52b95e1-b2fb-4580-b98a-def67fb3686e"
      },
      "execution_count": 69,
      "outputs": [
        {
          "output_type": "execute_result",
          "data": {
            "text/html": [
              "\n",
              "  <div id=\"df-101d5d33-f47d-4a46-b6a2-842af9d963e1\">\n",
              "    <div class=\"colab-df-container\">\n",
              "      <div>\n",
              "<style scoped>\n",
              "    .dataframe tbody tr th:only-of-type {\n",
              "        vertical-align: middle;\n",
              "    }\n",
              "\n",
              "    .dataframe tbody tr th {\n",
              "        vertical-align: top;\n",
              "    }\n",
              "\n",
              "    .dataframe thead th {\n",
              "        text-align: right;\n",
              "    }\n",
              "</style>\n",
              "<table border=\"1\" class=\"dataframe\">\n",
              "  <thead>\n",
              "    <tr style=\"text-align: right;\">\n",
              "      <th></th>\n",
              "      <th>id</th>\n",
              "      <th>matzavbriut</th>\n",
              "      <th>k_gova</th>\n",
              "      <th>k_mishkal</th>\n",
              "      <th>k_safaikarit</th>\n",
              "      <th>labour_force_participation</th>\n",
              "      <th>gilGroup</th>\n",
              "      <th>MeanIncomeGroup</th>\n",
              "      <th>hashavani</th>\n",
              "      <th>chipesshana</th>\n",
              "      <th>teudagvoha</th>\n",
              "      <th>k_shnlimklali</th>\n",
              "      <th>k_sug_mosad</th>\n",
              "      <th>m_eretz</th>\n",
              "      <th>mazav</th>\n",
              "      <th>mamadavoda</th>\n",
              "      <th>mekabelsachar</th>\n",
              "      <th>min</th>\n",
              "      <th>semelmishlach</th>\n",
              "      <th>safanosefetanglit</th>\n",
              "      <th>k_semelmiktzlim</th>\n",
              "      <th>incomeGroupUp</th>\n",
              "      <th>future_hour_income</th>\n",
              "    </tr>\n",
              "  </thead>\n",
              "  <tbody>\n",
              "    <tr>\n",
              "      <th>0</th>\n",
              "      <td>5990004</td>\n",
              "      <td>VeryGood</td>\n",
              "      <td>179_175</td>\n",
              "      <td>74_70</td>\n",
              "      <td>Hebrew</td>\n",
              "      <td>False</td>\n",
              "      <td>22-25</td>\n",
              "      <td>7777</td>\n",
              "      <td>Never</td>\n",
              "      <td>NaN</td>\n",
              "      <td>Post_secondaryschooldiploma_non_academictrack_</td>\n",
              "      <td>13_15</td>\n",
              "      <td>NaN</td>\n",
              "      <td>Israel</td>\n",
              "      <td>Nevermarried</td>\n",
              "      <td>NaN</td>\n",
              "      <td>NaN</td>\n",
              "      <td>Male</td>\n",
              "      <td>NaN</td>\n",
              "      <td>yes</td>\n",
              "      <td>NaN</td>\n",
              "      <td>False</td>\n",
              "      <td>0.000000</td>\n",
              "    </tr>\n",
              "    <tr>\n",
              "      <th>1</th>\n",
              "      <td>2930001</td>\n",
              "      <td>Good</td>\n",
              "      <td>169_165</td>\n",
              "      <td>74_70</td>\n",
              "      <td>Hebrew</td>\n",
              "      <td>False</td>\n",
              "      <td>76-80</td>\n",
              "      <td>7</td>\n",
              "      <td>YesUsually</td>\n",
              "      <td>no</td>\n",
              "      <td>Nodiplomaordegree</td>\n",
              "      <td>NaN</td>\n",
              "      <td>NaN</td>\n",
              "      <td>Asia</td>\n",
              "      <td>Widowed</td>\n",
              "      <td>NaN</td>\n",
              "      <td>NaN</td>\n",
              "      <td>Male</td>\n",
              "      <td>NaN</td>\n",
              "      <td>no</td>\n",
              "      <td>NaN</td>\n",
              "      <td>False</td>\n",
              "      <td>0.000000</td>\n",
              "    </tr>\n",
              "    <tr>\n",
              "      <th>2</th>\n",
              "      <td>10930001</td>\n",
              "      <td>VeryGood</td>\n",
              "      <td>190andmore</td>\n",
              "      <td>89_85</td>\n",
              "      <td>Hebrew</td>\n",
              "      <td>True</td>\n",
              "      <td>41-45</td>\n",
              "      <td>7</td>\n",
              "      <td>Rarely</td>\n",
              "      <td>NaN</td>\n",
              "      <td>Firstacademicdegree_BAorsimilardegree_</td>\n",
              "      <td>16andmore</td>\n",
              "      <td>NaN</td>\n",
              "      <td>Israel</td>\n",
              "      <td>Married</td>\n",
              "      <td>SelfEmployed</td>\n",
              "      <td>NaN</td>\n",
              "      <td>Male</td>\n",
              "      <td>Managers</td>\n",
              "      <td>yes</td>\n",
              "      <td>business</td>\n",
              "      <td>False</td>\n",
              "      <td>0.000000</td>\n",
              "    </tr>\n",
              "    <tr>\n",
              "      <th>3</th>\n",
              "      <td>42280001</td>\n",
              "      <td>NotsoGood</td>\n",
              "      <td>NaN</td>\n",
              "      <td>109_105</td>\n",
              "      <td>Russian</td>\n",
              "      <td>True</td>\n",
              "      <td>51-55</td>\n",
              "      <td>5640</td>\n",
              "      <td>Never</td>\n",
              "      <td>NaN</td>\n",
              "      <td>Primaryschoolorintermediateschooldiploma</td>\n",
              "      <td>13_15</td>\n",
              "      <td>NaN</td>\n",
              "      <td>Euorope_America</td>\n",
              "      <td>Divorced</td>\n",
              "      <td>Employed</td>\n",
              "      <td>FromWorkingPlace</td>\n",
              "      <td>Male</td>\n",
              "      <td>Managers</td>\n",
              "      <td>yes</td>\n",
              "      <td>NaN</td>\n",
              "      <td>False</td>\n",
              "      <td>33.125000</td>\n",
              "    </tr>\n",
              "    <tr>\n",
              "      <th>4</th>\n",
              "      <td>36560004</td>\n",
              "      <td>VeryGood</td>\n",
              "      <td>NaN</td>\n",
              "      <td>64_60</td>\n",
              "      <td>Hebrew</td>\n",
              "      <td>False</td>\n",
              "      <td>NaN</td>\n",
              "      <td>7</td>\n",
              "      <td>NaN</td>\n",
              "      <td>no</td>\n",
              "      <td>Secondaryschooldiplomaג€“matriculationcertificate</td>\n",
              "      <td>11_12</td>\n",
              "      <td>NaN</td>\n",
              "      <td>Israel</td>\n",
              "      <td>Nevermarried</td>\n",
              "      <td>NaN</td>\n",
              "      <td>NaN</td>\n",
              "      <td>Male</td>\n",
              "      <td>NaN</td>\n",
              "      <td>yes</td>\n",
              "      <td>NaN</td>\n",
              "      <td>True</td>\n",
              "      <td>0.000000</td>\n",
              "    </tr>\n",
              "    <tr>\n",
              "      <th>...</th>\n",
              "      <td>...</td>\n",
              "      <td>...</td>\n",
              "      <td>...</td>\n",
              "      <td>...</td>\n",
              "      <td>...</td>\n",
              "      <td>...</td>\n",
              "      <td>...</td>\n",
              "      <td>...</td>\n",
              "      <td>...</td>\n",
              "      <td>...</td>\n",
              "      <td>...</td>\n",
              "      <td>...</td>\n",
              "      <td>...</td>\n",
              "      <td>...</td>\n",
              "      <td>...</td>\n",
              "      <td>...</td>\n",
              "      <td>...</td>\n",
              "      <td>...</td>\n",
              "      <td>...</td>\n",
              "      <td>...</td>\n",
              "      <td>...</td>\n",
              "      <td>...</td>\n",
              "      <td>...</td>\n",
              "    </tr>\n",
              "    <tr>\n",
              "      <th>506</th>\n",
              "      <td>7840001</td>\n",
              "      <td>NotsoGood</td>\n",
              "      <td>169_165</td>\n",
              "      <td>64_60</td>\n",
              "      <td>Arabic</td>\n",
              "      <td>True</td>\n",
              "      <td>61-65</td>\n",
              "      <td>1922</td>\n",
              "      <td>Never</td>\n",
              "      <td>NaN</td>\n",
              "      <td>Nodiplomaordegree</td>\n",
              "      <td>9_10</td>\n",
              "      <td>NaN</td>\n",
              "      <td>Israel</td>\n",
              "      <td>Widowed</td>\n",
              "      <td>Employed</td>\n",
              "      <td>FromWorkingPlace</td>\n",
              "      <td>Female</td>\n",
              "      <td>Serviceandsalesworkers</td>\n",
              "      <td>yes</td>\n",
              "      <td>NaN</td>\n",
              "      <td>False</td>\n",
              "      <td>20.833333</td>\n",
              "    </tr>\n",
              "    <tr>\n",
              "      <th>507</th>\n",
              "      <td>11850001</td>\n",
              "      <td>VeryGood</td>\n",
              "      <td>NaN</td>\n",
              "      <td>NaN</td>\n",
              "      <td>Hebrew</td>\n",
              "      <td>True</td>\n",
              "      <td>41-45</td>\n",
              "      <td>4039</td>\n",
              "      <td>Sometimes</td>\n",
              "      <td>NaN</td>\n",
              "      <td>Nodiplomaordegree</td>\n",
              "      <td>11_12</td>\n",
              "      <td>NaN</td>\n",
              "      <td>Israel</td>\n",
              "      <td>Married</td>\n",
              "      <td>Employed</td>\n",
              "      <td>FromWorkingPlace</td>\n",
              "      <td>Male</td>\n",
              "      <td>NaN</td>\n",
              "      <td>no</td>\n",
              "      <td>NaN</td>\n",
              "      <td>False</td>\n",
              "      <td>16.544118</td>\n",
              "    </tr>\n",
              "    <tr>\n",
              "      <th>508</th>\n",
              "      <td>14220001</td>\n",
              "      <td>VeryGood</td>\n",
              "      <td>164_160</td>\n",
              "      <td>69_65</td>\n",
              "      <td>Hebrew</td>\n",
              "      <td>True</td>\n",
              "      <td>36-40</td>\n",
              "      <td>5640</td>\n",
              "      <td>YesUsually</td>\n",
              "      <td>NaN</td>\n",
              "      <td>Firstacademicdegree_BAorsimilardegree_</td>\n",
              "      <td>16andmore</td>\n",
              "      <td>AcademidColleges</td>\n",
              "      <td>Israel</td>\n",
              "      <td>Married</td>\n",
              "      <td>Employed</td>\n",
              "      <td>OtherSource</td>\n",
              "      <td>Female</td>\n",
              "      <td>Managers</td>\n",
              "      <td>yes</td>\n",
              "      <td>Engineeringandarchitecture</td>\n",
              "      <td>False</td>\n",
              "      <td>34.345000</td>\n",
              "    </tr>\n",
              "    <tr>\n",
              "      <th>509</th>\n",
              "      <td>31160001</td>\n",
              "      <td>NotsoGood</td>\n",
              "      <td>upto149</td>\n",
              "      <td>59_55</td>\n",
              "      <td>French</td>\n",
              "      <td>False</td>\n",
              "      <td>71-75</td>\n",
              "      <td>7</td>\n",
              "      <td>Rarely</td>\n",
              "      <td>no</td>\n",
              "      <td>Secondaryschooldiplomaג€“matriculationcertificate</td>\n",
              "      <td>16andmore</td>\n",
              "      <td>NaN</td>\n",
              "      <td>Africa</td>\n",
              "      <td>Married</td>\n",
              "      <td>NaN</td>\n",
              "      <td>NaN</td>\n",
              "      <td>Female</td>\n",
              "      <td>NaN</td>\n",
              "      <td>yes</td>\n",
              "      <td>NaN</td>\n",
              "      <td>False</td>\n",
              "      <td>0.000000</td>\n",
              "    </tr>\n",
              "    <tr>\n",
              "      <th>510</th>\n",
              "      <td>21200001</td>\n",
              "      <td>VeryGood</td>\n",
              "      <td>164_160</td>\n",
              "      <td>54_50</td>\n",
              "      <td>Hebrew</td>\n",
              "      <td>True</td>\n",
              "      <td>22-25</td>\n",
              "      <td>1922</td>\n",
              "      <td>Never</td>\n",
              "      <td>NaN</td>\n",
              "      <td>Secondaryschooldiplomaג€“matriculationcertificate</td>\n",
              "      <td>13_15</td>\n",
              "      <td>TeachingStudiCollege</td>\n",
              "      <td>Israel</td>\n",
              "      <td>Married</td>\n",
              "      <td>SelfEmployed</td>\n",
              "      <td>NaN</td>\n",
              "      <td>Female</td>\n",
              "      <td>Serviceandsalesworkers</td>\n",
              "      <td>no</td>\n",
              "      <td>other</td>\n",
              "      <td>True</td>\n",
              "      <td>49.342105</td>\n",
              "    </tr>\n",
              "  </tbody>\n",
              "</table>\n",
              "<p>511 rows × 23 columns</p>\n",
              "</div>\n",
              "      <button class=\"colab-df-convert\" onclick=\"convertToInteractive('df-101d5d33-f47d-4a46-b6a2-842af9d963e1')\"\n",
              "              title=\"Convert this dataframe to an interactive table.\"\n",
              "              style=\"display:none;\">\n",
              "        \n",
              "  <svg xmlns=\"http://www.w3.org/2000/svg\" height=\"24px\"viewBox=\"0 0 24 24\"\n",
              "       width=\"24px\">\n",
              "    <path d=\"M0 0h24v24H0V0z\" fill=\"none\"/>\n",
              "    <path d=\"M18.56 5.44l.94 2.06.94-2.06 2.06-.94-2.06-.94-.94-2.06-.94 2.06-2.06.94zm-11 1L8.5 8.5l.94-2.06 2.06-.94-2.06-.94L8.5 2.5l-.94 2.06-2.06.94zm10 10l.94 2.06.94-2.06 2.06-.94-2.06-.94-.94-2.06-.94 2.06-2.06.94z\"/><path d=\"M17.41 7.96l-1.37-1.37c-.4-.4-.92-.59-1.43-.59-.52 0-1.04.2-1.43.59L10.3 9.45l-7.72 7.72c-.78.78-.78 2.05 0 2.83L4 21.41c.39.39.9.59 1.41.59.51 0 1.02-.2 1.41-.59l7.78-7.78 2.81-2.81c.8-.78.8-2.07 0-2.86zM5.41 20L4 18.59l7.72-7.72 1.47 1.35L5.41 20z\"/>\n",
              "  </svg>\n",
              "      </button>\n",
              "      \n",
              "  <style>\n",
              "    .colab-df-container {\n",
              "      display:flex;\n",
              "      flex-wrap:wrap;\n",
              "      gap: 12px;\n",
              "    }\n",
              "\n",
              "    .colab-df-convert {\n",
              "      background-color: #E8F0FE;\n",
              "      border: none;\n",
              "      border-radius: 50%;\n",
              "      cursor: pointer;\n",
              "      display: none;\n",
              "      fill: #1967D2;\n",
              "      height: 32px;\n",
              "      padding: 0 0 0 0;\n",
              "      width: 32px;\n",
              "    }\n",
              "\n",
              "    .colab-df-convert:hover {\n",
              "      background-color: #E2EBFA;\n",
              "      box-shadow: 0px 1px 2px rgba(60, 64, 67, 0.3), 0px 1px 3px 1px rgba(60, 64, 67, 0.15);\n",
              "      fill: #174EA6;\n",
              "    }\n",
              "\n",
              "    [theme=dark] .colab-df-convert {\n",
              "      background-color: #3B4455;\n",
              "      fill: #D2E3FC;\n",
              "    }\n",
              "\n",
              "    [theme=dark] .colab-df-convert:hover {\n",
              "      background-color: #434B5C;\n",
              "      box-shadow: 0px 1px 3px 1px rgba(0, 0, 0, 0.15);\n",
              "      filter: drop-shadow(0px 1px 2px rgba(0, 0, 0, 0.3));\n",
              "      fill: #FFFFFF;\n",
              "    }\n",
              "  </style>\n",
              "\n",
              "      <script>\n",
              "        const buttonEl =\n",
              "          document.querySelector('#df-101d5d33-f47d-4a46-b6a2-842af9d963e1 button.colab-df-convert');\n",
              "        buttonEl.style.display =\n",
              "          google.colab.kernel.accessAllowed ? 'block' : 'none';\n",
              "\n",
              "        async function convertToInteractive(key) {\n",
              "          const element = document.querySelector('#df-101d5d33-f47d-4a46-b6a2-842af9d963e1');\n",
              "          const dataTable =\n",
              "            await google.colab.kernel.invokeFunction('convertToInteractive',\n",
              "                                                     [key], {});\n",
              "          if (!dataTable) return;\n",
              "\n",
              "          const docLinkHtml = 'Like what you see? Visit the ' +\n",
              "            '<a target=\"_blank\" href=https://colab.research.google.com/notebooks/data_table.ipynb>data table notebook</a>'\n",
              "            + ' to learn more about interactive tables.';\n",
              "          element.innerHTML = '';\n",
              "          dataTable['output_type'] = 'display_data';\n",
              "          await google.colab.output.renderOutput(dataTable, element);\n",
              "          const docLink = document.createElement('div');\n",
              "          docLink.innerHTML = docLinkHtml;\n",
              "          element.appendChild(docLink);\n",
              "        }\n",
              "      </script>\n",
              "    </div>\n",
              "  </div>\n",
              "  "
            ],
            "text/plain": [
              "           id matzavbriut  ... incomeGroupUp future_hour_income\n",
              "0     5990004    VeryGood  ...         False           0.000000\n",
              "1     2930001        Good  ...         False           0.000000\n",
              "2    10930001    VeryGood  ...         False           0.000000\n",
              "3    42280001   NotsoGood  ...         False          33.125000\n",
              "4    36560004    VeryGood  ...          True           0.000000\n",
              "..        ...         ...  ...           ...                ...\n",
              "506   7840001   NotsoGood  ...         False          20.833333\n",
              "507  11850001    VeryGood  ...         False          16.544118\n",
              "508  14220001    VeryGood  ...         False          34.345000\n",
              "509  31160001   NotsoGood  ...         False           0.000000\n",
              "510  21200001    VeryGood  ...          True          49.342105\n",
              "\n",
              "[511 rows x 23 columns]"
            ]
          },
          "metadata": {},
          "execution_count": 69
        }
      ]
    },
    {
      "cell_type": "markdown",
      "source": [
        "# 2"
      ],
      "metadata": {
        "id": "9WSKOyXOb-3n"
      }
    },
    {
      "cell_type": "code",
      "source": [
        "data.future_hour_income.describe()"
      ],
      "metadata": {
        "colab": {
          "base_uri": "https://localhost:8080/"
        },
        "id": "oJ2KeplEA1GC",
        "outputId": "c3b9b7d1-152d-43e1-8957-248de02d0c0a"
      },
      "execution_count": 71,
      "outputs": [
        {
          "output_type": "execute_result",
          "data": {
            "text/plain": [
              "count    511.000000\n",
              "mean      39.505287\n",
              "std       56.012393\n",
              "min        0.000000\n",
              "25%        0.000000\n",
              "50%       25.693229\n",
              "75%       58.750000\n",
              "max      431.226852\n",
              "Name: future_hour_income, dtype: float64"
            ]
          },
          "metadata": {},
          "execution_count": 71
        }
      ]
    },
    {
      "cell_type": "code",
      "source": [
        "data.future_hour_income.hist(bins=100, figsize=(10,5))"
      ],
      "metadata": {
        "colab": {
          "base_uri": "https://localhost:8080/",
          "height": 337
        },
        "id": "XTmSru8iBF8a",
        "outputId": "edc2f5d3-b4aa-4e6d-ae56-02be61ac4385"
      },
      "execution_count": 75,
      "outputs": [
        {
          "output_type": "execute_result",
          "data": {
            "text/plain": [
              "<matplotlib.axes._subplots.AxesSubplot at 0x7f276417d950>"
            ]
          },
          "metadata": {},
          "execution_count": 75
        },
        {
          "output_type": "display_data",
          "data": {
            "image/png": "[encoded data removed]",
            "text/plain": [
              "<Figure size 720x360 with 1 Axes>"
            ]
          },
          "metadata": {
            "needs_background": "light"
          }
        }
      ]
    },
    {
      "cell_type": "markdown",
      "source": [
        "# 3"
      ],
      "metadata": {
        "id": "3tUO4AwbcBvE"
      }
    },
    {
      "cell_type": "code",
      "source": [
        "(data.future_hour_income==0).sum()/len(data.future_hour_income)"
      ],
      "metadata": {
        "colab": {
          "base_uri": "https://localhost:8080/"
        },
        "id": "B-ur1p8ZBK-3",
        "outputId": "3608bc5a-4bef-4e61-a265-0c91ee12fc39"
      },
      "execution_count": 78,
      "outputs": [
        {
          "output_type": "execute_result",
          "data": {
            "text/plain": [
              "0.44227005870841485"
            ]
          },
          "metadata": {},
          "execution_count": 78
        }
      ]
    },
    {
      "cell_type": "code",
      "source": [
        "data[data.future_hour_income==0]['mamadavoda'].value_counts(dropna=False)"
      ],
      "metadata": {
        "colab": {
          "base_uri": "https://localhost:8080/"
        },
        "id": "42tI2LzEDjRr",
        "outputId": "54bf9be0-1f53-4535-d52e-db06a7be9372"
      },
      "execution_count": 80,
      "outputs": [
        {
          "output_type": "execute_result",
          "data": {
            "text/plain": [
              "NaN             155\n",
              "Employed         58\n",
              "SelfEmployed     13\n",
              "Name: mamadavoda, dtype: int64"
            ]
          },
          "metadata": {},
          "execution_count": 80
        }
      ]
    },
    {
      "cell_type": "code",
      "source": [
        "data[data.future_hour_income==0]['hashavani'].value_counts(dropna=False)"
      ],
      "metadata": {
        "colab": {
          "base_uri": "https://localhost:8080/"
        },
        "id": "BcAntAVJEnrt",
        "outputId": "cf761a8b-92a9-40c5-82b4-a4d79cce273f"
      },
      "execution_count": 81,
      "outputs": [
        {
          "output_type": "execute_result",
          "data": {
            "text/plain": [
              "Never         114\n",
              "YesUsually     35\n",
              "Sometimes      34\n",
              "Rarely         32\n",
              "NaN            11\n",
              "Name: hashavani, dtype: int64"
            ]
          },
          "metadata": {},
          "execution_count": 81
        }
      ]
    },
    {
      "cell_type": "code",
      "source": [
        "# Insights:\n",
        "# 1) 44% of the population has 0 future income. I have assumed that these may be unemployed in 2016. \n",
        "# To varify that, I checked correlation to the mamadavoda column and it appears to contain not only NaN values (so i can't assume that they are unemployed. This needs further investigation)\n",
        "# I have also assumed that there may be high correlation to the hashavani column, but the most frequent value was \"Never\". \n",
        "# Conclusion: it's not very clear what are these NaNs and it needs further investigation.\n",
        "# 2) The hourly pay in 2016 was between 0 and 431 shekels/hour, and the median pay was 25.6."
      ],
      "metadata": {
        "id": "IxEORd_ODCrb"
      },
      "execution_count": null,
      "outputs": []
    },
    {
      "cell_type": "code",
      "source": [
        "data.gilGroup.nunique()"
      ],
      "metadata": {
        "colab": {
          "base_uri": "https://localhost:8080/"
        },
        "id": "AK5DQSDZGfAi",
        "outputId": "a28b8cee-42d7-4e58-9ab0-57618b59f194"
      },
      "execution_count": 82,
      "outputs": [
        {
          "output_type": "execute_result",
          "data": {
            "text/plain": [
              "13"
            ]
          },
          "metadata": {},
          "execution_count": 82
        }
      ]
    },
    {
      "cell_type": "code",
      "source": [
        "data.groupby('gilGroup')['incomeGroupUp'].mean().plot.bar(figsize=(10,5))\n",
        "plt.title('% incomeGroupUp by gilGroup', size=20)\n",
        "plt.xlabel('gilGroup', size=15, labelpad=10)\n",
        "plt.ylabel('% incomeGroupUp', size=15, labelpad=10)\n",
        "plt.show()"
      ],
      "metadata": {
        "colab": {
          "base_uri": "https://localhost:8080/",
          "height": 385
        },
        "id": "ynVurnnsGrm1",
        "outputId": "a2188e92-5b41-465c-d86a-083700755612"
      },
      "execution_count": 93,
      "outputs": [
        {
          "output_type": "display_data",
          "data": {
            "image/png": "[encoded data removed]",
            "text/plain": [
              "<Figure size 720x360 with 1 Axes>"
            ]
          },
          "metadata": {
            "needs_background": "light"
          }
        }
      ]
    },
    {
      "cell_type": "code",
      "source": [
        "# Insights:\n",
        "# There is a negative correlation between gilGroup and incomeGroupUp. (The higher the age, the lower the probability for incomeGroupUp)\n",
        "# 22-30 are the age groups with the highest percentage of incomeGroupUp (45%-50%)"
      ],
      "metadata": {
        "id": "CmdfrkleG7ii"
      },
      "execution_count": null,
      "outputs": []
    },
    {
      "cell_type": "code",
      "source": [
        "data.groupby('mamadavoda')['incomeGroupUp'].mean().plot.bar(figsize=(10,5))\n",
        "plt.title('% incomeGroupUp by mamadavoda', size=20)\n",
        "plt.xlabel('mamadavoda', size=15, labelpad=10)\n",
        "plt.ylabel('% incomeGroupUp', size=15, labelpad=10)\n",
        "plt.show()"
      ],
      "metadata": {
        "colab": {
          "base_uri": "https://localhost:8080/",
          "height": 457
        },
        "id": "_SWU3i5tI8TF",
        "outputId": "4e18a0e5-989b-4d3b-e1af-bd035e331d1a"
      },
      "execution_count": 95,
      "outputs": [
        {
          "output_type": "display_data",
          "data": {
            "image/png": "[encoded data removed]",
            "text/plain": [
              "<Figure size 720x360 with 1 Axes>"
            ]
          },
          "metadata": {
            "needs_background": "light"
          }
        }
      ]
    },
    {
      "cell_type": "code",
      "source": [
        "# Insights:\n",
        "# The self employed group has the slighly higher income group up percentage, although the values are relatively similar (it's not a great indicator for predicting IncomeGroupUp)"
      ],
      "metadata": {
        "id": "e66HvILNI_jO"
      },
      "execution_count": null,
      "outputs": []
    },
    {
      "cell_type": "code",
      "source": [
        "# Trying to find continuous varibales...\n",
        "data.nunique()"
      ],
      "metadata": {
        "colab": {
          "base_uri": "https://localhost:8080/"
        },
        "id": "uJNu5KihKApl",
        "outputId": "0a99dc4f-e610-4f64-f96f-229ec9d5cb6e"
      },
      "execution_count": 98,
      "outputs": [
        {
          "output_type": "execute_result",
          "data": {
            "text/plain": [
              "id                            511\n",
              "matzavbriut                     4\n",
              "k_gova                          8\n",
              "k_mishkal                      15\n",
              "k_safaikarit                    7\n",
              "labour_force_participation      2\n",
              "gilGroup                       13\n",
              "MeanIncomeGroup                 7\n",
              "hashavani                       4\n",
              "chipesshana                     2\n",
              "teudagvoha                      7\n",
              "k_shnlimklali                   6\n",
              "k_sug_mosad                     4\n",
              "m_eretz                         4\n",
              "mazav                           4\n",
              "mamadavoda                      3\n",
              "mekabelsachar                   3\n",
              "min                             2\n",
              "semelmishlach                   7\n",
              "safanosefetanglit               2\n",
              "k_semelmiktzlim                13\n",
              "incomeGroupUp                   2\n",
              "future_hour_income            216\n",
              "dtype: int64"
            ]
          },
          "metadata": {},
          "execution_count": 98
        }
      ]
    },
    {
      "cell_type": "code",
      "source": [
        "# Since there aren't any continuous variables in the data, I took the future_hour_income for this analysis."
      ],
      "metadata": {
        "id": "e_bC6cEdKEaL"
      },
      "execution_count": null,
      "outputs": []
    },
    {
      "cell_type": "code",
      "source": [
        "data.groupby('incomeGroupUp')['future_hour_income'].mean().plot.bar(figsize=(10,5))\n",
        "plt.title('Mean future_hour_income by incomeGroupUp', size=20)\n",
        "plt.xlabel('incomeGroupUp', size=15, labelpad=10)\n",
        "plt.ylabel('mean future_hour_income', size=15, labelpad=10)\n",
        "plt.show()"
      ],
      "metadata": {
        "colab": {
          "base_uri": "https://localhost:8080/",
          "height": 381
        },
        "id": "j-dEePFwKx6h",
        "outputId": "9d0cffb7-47e0-4573-d5c0-826aab4967e7"
      },
      "execution_count": 102,
      "outputs": [
        {
          "output_type": "display_data",
          "data": {
            "image/png": "[encoded data removed]",
            "text/plain": [
              "<Figure size 720x360 with 1 Axes>"
            ]
          },
          "metadata": {
            "needs_background": "light"
          }
        }
      ]
    },
    {
      "cell_type": "code",
      "source": [
        "# Insights:\n",
        "# The people with higher levels of income are more likely to be included in the income group up.\n",
        "# The average income per hour for the none income group up is around 30+, while for the income group up it's around 55."
      ],
      "metadata": {
        "id": "nwDEPSMxK6nh"
      },
      "execution_count": null,
      "outputs": []
    },
    {
      "cell_type": "markdown",
      "source": [
        "# Question 4:"
      ],
      "metadata": {
        "id": "K2-ta_wjNvBn"
      }
    },
    {
      "cell_type": "markdown",
      "source": [
        "Data preprocessing"
      ],
      "metadata": {
        "id": "ZmKU_w0GaEOo"
      }
    },
    {
      "cell_type": "code",
      "source": [
        "# for lack of time, the EDA was very brief and the preprocessing was minimal."
      ],
      "metadata": {
        "id": "EVjCIsgqaH-c"
      },
      "execution_count": null,
      "outputs": []
    },
    {
      "cell_type": "code",
      "source": [
        "from sklearn.ensemble import RandomForestClassifier, RandomForestRegressor\n",
        "from sklearn.model_selection import train_test_split\n",
        "from sklearn.preprocessing import OneHotEncoder\n",
        "from sklearn.metrics import mean_squared_error, confusion_matrix, classification_report"
      ],
      "metadata": {
        "id": "oQPv-D4YNkkM"
      },
      "execution_count": 165,
      "outputs": []
    },
    {
      "cell_type": "code",
      "source": [
        "data.info()"
      ],
      "metadata": {
        "colab": {
          "base_uri": "https://localhost:8080/"
        },
        "id": "ITHY1hlqNtg8",
        "outputId": "e46e1d78-ffa0-43cc-dad2-2a919e5d7f81"
      },
      "execution_count": 105,
      "outputs": [
        {
          "output_type": "stream",
          "name": "stdout",
          "text": [
            "<class 'pandas.core.frame.DataFrame'>\n",
            "RangeIndex: 511 entries, 0 to 510\n",
            "Data columns (total 23 columns):\n",
            " #   Column                      Non-Null Count  Dtype  \n",
            "---  ------                      --------------  -----  \n",
            " 0   id                          511 non-null    int64  \n",
            " 1   matzavbriut                 510 non-null    object \n",
            " 2   k_gova                      420 non-null    object \n",
            " 3   k_mishkal                   372 non-null    object \n",
            " 4   k_safaikarit                511 non-null    object \n",
            " 5   labour_force_participation  511 non-null    bool   \n",
            " 6   gilGroup                    507 non-null    object \n",
            " 7   MeanIncomeGroup             511 non-null    int64  \n",
            " 8   hashavani                   490 non-null    object \n",
            " 9   chipesshana                 150 non-null    object \n",
            " 10  teudagvoha                  495 non-null    object \n",
            " 11  k_shnlimklali               496 non-null    object \n",
            " 12  k_sug_mosad                 155 non-null    object \n",
            " 13  m_eretz                     506 non-null    object \n",
            " 14  mazav                       511 non-null    object \n",
            " 15  mamadavoda                  317 non-null    object \n",
            " 16  mekabelsachar               276 non-null    object \n",
            " 17  min                         511 non-null    object \n",
            " 18  semelmishlach               277 non-null    object \n",
            " 19  safanosefetanglit           511 non-null    object \n",
            " 20  k_semelmiktzlim             183 non-null    object \n",
            " 21  incomeGroupUp               511 non-null    bool   \n",
            " 22  future_hour_income          511 non-null    float64\n",
            "dtypes: bool(2), float64(1), int64(2), object(18)\n",
            "memory usage: 85.0+ KB\n"
          ]
        }
      ]
    },
    {
      "cell_type": "markdown",
      "source": [
        "# 4.1"
      ],
      "metadata": {
        "id": "AyjwQDvrOMck"
      }
    },
    {
      "cell_type": "code",
      "source": [
        "data.chipesshana.value_counts(dropna=False)"
      ],
      "metadata": {
        "colab": {
          "base_uri": "https://localhost:8080/"
        },
        "id": "x8nW953OOv7K",
        "outputId": "fd3ee8a4-41ed-467e-ab14-74b7935c0a41"
      },
      "execution_count": 106,
      "outputs": [
        {
          "output_type": "execute_result",
          "data": {
            "text/plain": [
              "NaN    361\n",
              "no     142\n",
              "yes      8\n",
              "Name: chipesshana, dtype: int64"
            ]
          },
          "metadata": {},
          "execution_count": 106
        }
      ]
    },
    {
      "cell_type": "code",
      "source": [
        "data.k_semelmiktzlim.value_counts(dropna=False)"
      ],
      "metadata": {
        "colab": {
          "base_uri": "https://localhost:8080/"
        },
        "id": "6b3AqZZEPGT2",
        "outputId": "80703abd-d9e6-4c30-dfa9-022be05651dc"
      },
      "execution_count": 107,
      "outputs": [
        {
          "output_type": "execute_result",
          "data": {
            "text/plain": [
              "NaN                                      328\n",
              "Socialsciences                            33\n",
              "Engineeringandarchitecture                32\n",
              "business                                  28\n",
              "other                                     20\n",
              "Teachertrainingandeducationscience        16\n",
              "law                                       13\n",
              "Generalprogrammes                         11\n",
              "Arts                                       9\n",
              "Litrature_languagesandregionalstudies      8\n",
              "Science_mathematicsandcomputing            8\n",
              "PhysicalSciences                           2\n",
              "Agriculture                                2\n",
              "BioligicalSciences                         1\n",
              "Name: k_semelmiktzlim, dtype: int64"
            ]
          },
          "metadata": {},
          "execution_count": 107
        }
      ]
    },
    {
      "cell_type": "code",
      "source": [
        "data.labour_force_participation  .value_counts(dropna=False)"
      ],
      "metadata": {
        "colab": {
          "base_uri": "https://localhost:8080/"
        },
        "id": "-EkoBjeIO9lJ",
        "outputId": "0cbd9e6b-9fac-462d-90f3-8d4ae0b87e86"
      },
      "execution_count": 108,
      "outputs": [
        {
          "output_type": "execute_result",
          "data": {
            "text/plain": [
              "True     303\n",
              "False    208\n",
              "Name: labour_force_participation, dtype: int64"
            ]
          },
          "metadata": {},
          "execution_count": 108
        }
      ]
    },
    {
      "cell_type": "code",
      "source": [
        "# Removing the irrelevant columns (id), target columns (incomegroupup and futurehour) and unreliable columns (chipesshana, k_semelmiktzlim)\n",
        "# The unreliable columns have high percentage of null values and I can't assume they belong to the same group (business wise)\n",
        "X = data.drop(['id','chipesshana', 'k_semelmiktzlim', 'incomeGroupUp', 'future_hour_income'], axis=1)\n",
        "y = data.future_hour_income"
      ],
      "metadata": {
        "id": "uDiVpYBnO1J4"
      },
      "execution_count": 151,
      "outputs": []
    },
    {
      "cell_type": "code",
      "source": [
        "X_train, X_test, y_train, y_test = train_test_split(X, y, test_size=0.3)"
      ],
      "metadata": {
        "id": "5gBw0M4EQXT_"
      },
      "execution_count": 167,
      "outputs": []
    },
    {
      "cell_type": "code",
      "source": [
        "# saving the most frequent value for each column (will be used for imputing nulls in train and test sets)\n",
        "most_freq = X_train.mode().T.squeeze(axis=1)"
      ],
      "metadata": {
        "id": "fLYVEuTyRaEz"
      },
      "execution_count": 168,
      "outputs": []
    },
    {
      "cell_type": "code",
      "source": [
        "for col in X_train.columns:\n",
        "    X_train[col] = X_train[col].fillna(most_freq.loc[col])"
      ],
      "metadata": {
        "id": "5ZxnquP0Q7GW"
      },
      "execution_count": 169,
      "outputs": []
    },
    {
      "cell_type": "code",
      "source": [
        "# we have only categorical columns so we apply one hot encoding (the are no columns with high cardinality)\n",
        "ohe = OneHotEncoder(sparse=False, handle_unknown='ignore')"
      ],
      "metadata": {
        "id": "_rFMIXN3TcAu"
      },
      "execution_count": 170,
      "outputs": []
    },
    {
      "cell_type": "code",
      "source": [
        "X_train = pd.DataFrame(ohe.fit_transform(X_train), index=X_train.index, columns=ohe.get_feature_names(X_train.columns))"
      ],
      "metadata": {
        "colab": {
          "base_uri": "https://localhost:8080/"
        },
        "id": "m417fwQZT7w-",
        "outputId": "351b964f-c089-4820-d41a-9a3f6655b49c"
      },
      "execution_count": 171,
      "outputs": [
        {
          "output_type": "stream",
          "name": "stderr",
          "text": [
            "/usr/local/lib/python3.7/dist-packages/sklearn/utils/deprecation.py:87: FutureWarning: Function get_feature_names is deprecated; get_feature_names is deprecated in 1.0 and will be removed in 1.2. Please use get_feature_names_out instead.\n",
            "  warnings.warn(msg, category=FutureWarning)\n"
          ]
        }
      ]
    },
    {
      "cell_type": "code",
      "source": [
        "rf_reg = RandomForestRegressor(max_depth=10, random_state=0).fit(X_train, np.log1p(y_train))"
      ],
      "metadata": {
        "id": "LZF6TDbcUKua"
      },
      "execution_count": 198,
      "outputs": []
    },
    {
      "cell_type": "code",
      "source": [
        "y_train_pred = np.expm1(rf_reg.predict(X_train))"
      ],
      "metadata": {
        "id": "e6sggfGNUPEA"
      },
      "execution_count": 199,
      "outputs": []
    },
    {
      "cell_type": "code",
      "source": [
        "RMSE = mean_squared_error(y_train, y_train_pred)\n",
        "RMSE"
      ],
      "metadata": {
        "colab": {
          "base_uri": "https://localhost:8080/"
        },
        "id": "9yT2WJlYU1cr",
        "outputId": "cd99dcf6-cc6a-4032-90e4-bd15d356ee0c"
      },
      "execution_count": 200,
      "outputs": [
        {
          "output_type": "execute_result",
          "data": {
            "text/plain": [
              "1315.8208813697875"
            ]
          },
          "metadata": {},
          "execution_count": 200
        }
      ]
    },
    {
      "cell_type": "code",
      "source": [
        "plt.plot(y_train, y_train)\n",
        "plt.scatter(y_train, y_train_pred)"
      ],
      "metadata": {
        "colab": {
          "base_uri": "https://localhost:8080/",
          "height": 282
        },
        "id": "aMRty6e-Vbho",
        "outputId": "215dad66-0ab3-4c03-9f33-92e1aa2c1d02"
      },
      "execution_count": 201,
      "outputs": [
        {
          "output_type": "execute_result",
          "data": {
            "text/plain": [
              "<matplotlib.collections.PathCollection at 0x7f2753117710>"
            ]
          },
          "metadata": {},
          "execution_count": 201
        },
        {
          "output_type": "display_data",
          "data": {
            "image/png": "[encoded data removed]",
            "text/plain": [
              "<Figure size 432x288 with 1 Axes>"
            ]
          },
          "metadata": {
            "needs_background": "light"
          }
        }
      ]
    },
    {
      "cell_type": "code",
      "source": [
        "y_train_clf = data.incomeGroupUp.loc[X_train.index]\n",
        "y_test_clf = data.incomeGroupUp.loc[X_test.index]"
      ],
      "metadata": {
        "id": "O1Y2MsrdWQO6"
      },
      "execution_count": 176,
      "outputs": []
    },
    {
      "cell_type": "code",
      "source": [
        "rf_clf = RandomForestClassifier(max_depth = 10, random_state=0).fit(X_train, y_train_clf)"
      ],
      "metadata": {
        "id": "xoY0HcUBVxEp"
      },
      "execution_count": 195,
      "outputs": []
    },
    {
      "cell_type": "code",
      "source": [
        "y_train_clf_pred = rf_clf.predict(X_train)"
      ],
      "metadata": {
        "id": "CGh2PFR8XTK7"
      },
      "execution_count": 196,
      "outputs": []
    },
    {
      "cell_type": "code",
      "source": [
        "confusion_matrix(y_train_clf, y_train_clf_pred)"
      ],
      "metadata": {
        "colab": {
          "base_uri": "https://localhost:8080/"
        },
        "id": "TMXZTqpMX11c",
        "outputId": "491b578e-f6b7-4749-93d8-550f823507c5"
      },
      "execution_count": 210,
      "outputs": [
        {
          "output_type": "execute_result",
          "data": {
            "text/plain": [
              "array([[272,   0],\n",
              "       [ 15,  70]])"
            ]
          },
          "metadata": {},
          "execution_count": 210
        }
      ]
    },
    {
      "cell_type": "code",
      "source": [
        "print(classification_report(y_train_clf, y_train_clf_pred))"
      ],
      "metadata": {
        "colab": {
          "base_uri": "https://localhost:8080/"
        },
        "id": "mdC7eeyiZr62",
        "outputId": "7ee8d3c4-aa35-4be5-83c5-0e36dbb5f1d8"
      },
      "execution_count": 211,
      "outputs": [
        {
          "output_type": "stream",
          "name": "stdout",
          "text": [
            "              precision    recall  f1-score   support\n",
            "\n",
            "       False       0.95      1.00      0.97       272\n",
            "        True       1.00      0.82      0.90        85\n",
            "\n",
            "    accuracy                           0.96       357\n",
            "   macro avg       0.97      0.91      0.94       357\n",
            "weighted avg       0.96      0.96      0.96       357\n",
            "\n"
          ]
        }
      ]
    },
    {
      "cell_type": "markdown",
      "source": [
        "Looks like the models are overfitted and there is more work to do regarding the preprocessing and model tuning."
      ],
      "metadata": {
        "id": "6o623etGa7ac"
      }
    },
    {
      "cell_type": "markdown",
      "source": [
        "# Question 5: model validation"
      ],
      "metadata": {
        "id": "ybHmqQR8YCHd"
      }
    },
    {
      "cell_type": "code",
      "source": [
        "# I have divided the data to train and test (30%), the model learned only from the train set and i want to see similar results for the chosen metric on both sets\n",
        "# for lack of time, i didn't use cross validation method."
      ],
      "metadata": {
        "id": "3NV0wGfzbOL_"
      },
      "execution_count": null,
      "outputs": []
    },
    {
      "cell_type": "code",
      "source": [
        "for col in X_test.columns:\n",
        "    X_test[col] = X_test[col].fillna(most_freq.loc[col])"
      ],
      "metadata": {
        "id": "mms-7bSMX79Y"
      },
      "execution_count": null,
      "outputs": []
    },
    {
      "cell_type": "code",
      "source": [
        "X_test = pd.DataFrame(ohe.transform(X_test), index=X_test.index, columns=ohe.get_feature_names(X_test.columns))"
      ],
      "metadata": {
        "id": "YTXhMG6bYQUj"
      },
      "execution_count": null,
      "outputs": []
    },
    {
      "cell_type": "code",
      "source": [
        "y_test_pred = np.expm1(rf_reg.predict(X_test))"
      ],
      "metadata": {
        "id": "-IYUXsnyYdNi"
      },
      "execution_count": 204,
      "outputs": []
    },
    {
      "cell_type": "code",
      "source": [
        "RMSE = mean_squared_error(y_test, y_test_pred)\n",
        "RMSE"
      ],
      "metadata": {
        "colab": {
          "base_uri": "https://localhost:8080/"
        },
        "id": "hiKHUq2CYlWw",
        "outputId": "f94c2620-3554-48da-e917-10e5d88ed4dd"
      },
      "execution_count": 205,
      "outputs": [
        {
          "output_type": "execute_result",
          "data": {
            "text/plain": [
              "2559.774485668979"
            ]
          },
          "metadata": {},
          "execution_count": 205
        }
      ]
    },
    {
      "cell_type": "code",
      "source": [
        "#\n",
        "plt.plot(y_train, y_train)\n",
        "plt.scatter(y_test, y_test_pred)"
      ],
      "metadata": {
        "colab": {
          "base_uri": "https://localhost:8080/",
          "height": 282
        },
        "id": "g_J76_R4YpgJ",
        "outputId": "56fd0422-5bc2-421c-85e1-3254611229e7"
      },
      "execution_count": 206,
      "outputs": [
        {
          "output_type": "execute_result",
          "data": {
            "text/plain": [
              "<matplotlib.collections.PathCollection at 0x7f27530ac490>"
            ]
          },
          "metadata": {},
          "execution_count": 206
        },
        {
          "output_type": "display_data",
          "data": {
            "image/png": "[encoded data removed]",
            "text/plain": [
              "<Figure size 432x288 with 1 Axes>"
            ]
          },
          "metadata": {
            "needs_background": "light"
          }
        }
      ]
    },
    {
      "cell_type": "markdown",
      "source": [
        "# CLF"
      ],
      "metadata": {
        "id": "yy4Ff3oWY0zW"
      }
    },
    {
      "cell_type": "code",
      "source": [
        "y_test_clf_pred = rf_clf.predict(X_test)"
      ],
      "metadata": {
        "id": "ByEQuPn6YtzP"
      },
      "execution_count": 208,
      "outputs": []
    },
    {
      "cell_type": "code",
      "source": [
        "confusion_matrix(y_test_clf, y_test_clf_pred)"
      ],
      "metadata": {
        "colab": {
          "base_uri": "https://localhost:8080/"
        },
        "id": "Q2ewJ0hNZck7",
        "outputId": "6a54ffae-5bc9-4e3b-9993-8d636f5d43b6"
      },
      "execution_count": 212,
      "outputs": [
        {
          "output_type": "execute_result",
          "data": {
            "text/plain": [
              "array([[107,   4],\n",
              "       [ 38,   5]])"
            ]
          },
          "metadata": {},
          "execution_count": 212
        }
      ]
    },
    {
      "cell_type": "code",
      "source": [
        "print(classification_report(y_test_clf, y_test_clf_pred))"
      ],
      "metadata": {
        "colab": {
          "base_uri": "https://localhost:8080/"
        },
        "id": "V0hYzuI6Z6YK",
        "outputId": "dba8a5ca-dac4-4ad9-f403-e7e0c874eb7e"
      },
      "execution_count": 213,
      "outputs": [
        {
          "output_type": "stream",
          "name": "stdout",
          "text": [
            "              precision    recall  f1-score   support\n",
            "\n",
            "       False       0.74      0.96      0.84       111\n",
            "        True       0.56      0.12      0.19        43\n",
            "\n",
            "    accuracy                           0.73       154\n",
            "   macro avg       0.65      0.54      0.51       154\n",
            "weighted avg       0.69      0.73      0.66       154\n",
            "\n"
          ]
        }
      ]
    },
    {
      "cell_type": "code",
      "source": [
        "# as i suspected, the models are not valid and more work needs to be done."
      ],
      "metadata": {
        "id": "yEFiN6L1bjRh"
      },
      "execution_count": null,
      "outputs": []
    }
  ]
}