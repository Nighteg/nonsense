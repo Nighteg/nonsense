{
  "cells": [
    {
      "cell_type": "markdown",
      "metadata": {
        "id": "7520b9d2"
      },
      "source": [
        "# Hello and welcome the MediaForce data science test\n",
        "- Completing the test should take approximatly 3-4 hours. If you see that it takes longer than that, you can write down your research plan and design in pseudo code or free speech.\n",
        "- If you have any questions regarding the test, please contact us at asafb@mediaforce.com or sshmuely@mediaforce.com\n",
        "- We will be using the following parameters in order to grade your test:\n",
        "1. A clear explanation of your process and your results\n",
        "2. Clean, reusable and \"easy to read\" code\n",
        "3. Level of data processing and machine learning methodology.\n",
        "4. Creativity and innovation.\n",
        "\n",
        "In this test you will be implementing a solution for a regression problem. We recommend that you read the full test before you begin.\n",
        "\n",
        " - the dataset in the csv file contains aggregated transactional data of assets in an RTB enviourment  \n",
        " \n",
        " ### variable definition:\n",
        " #### - categorical variables:  \n",
        "     - publisher_id - asset label\n",
        "     - tag_id - sub asset label\n",
        "     - domain - site url or app serial \n",
        "     - device_os - operating system \n",
        "     - device_type - device type \n",
        "     - creative_id - ad used\n",
        "     - creative_type - ad type\n",
        "     - hour_category - hour cluster\n",
        "     - day_category - midweek vs weekend\n",
        " \n",
        " #### - ordered variables:    \n",
        "     - price_bucket - each permutation (defined by a unique combination of the categorical variables) has one or more price_buckets. price buckets are clusters of historical bid prices that were used and the events they generated(i.e .1 - .2, 5 - 10, etc)\n",
        " \n",
        " #### - event counters:\n",
        "     - bids - a bid was made on an ad. \n",
        "     - impression - an ad was presented (we PAY for this event)\n",
        "     - click - ad was clicked on\n",
        "     - landing - user landed in a landing page\n",
        "     - conversion - a lead was created by the user (we get PAID for this event 1.5 USD)\n",
        "     - cost - total cost\n",
        "     \n",
        "------\n",
        "- Your task is to create a prediction engine that will predict the best price for each permutation which is defined by the combination of the variables:\n",
        " [publisher_id,tag_id,domain,device_os,device_type,creative_id,hour_category,day_category]\n",
        "\n",
        " #### important notes: \n",
        " - in the data file, each permutation can have more than 1 row (for each price bucket), while in the prediction a permutation must have one row only.\n",
        " "
      ],
      "id": "7520b9d2"
    },
    {
      "cell_type": "markdown",
      "metadata": {
        "id": "366dd84a"
      },
      "source": [
        "Before we begin, use the following cell to perform all your imports. You can use any package you choose to as long as it can be installed via pip install"
      ],
      "id": "366dd84a"
    },
    {
      "cell_type": "code",
      "execution_count": 24,
      "metadata": {
        "id": "aa7d31e4"
      },
      "outputs": [],
      "source": [
        "import warnings\n",
        "warnings.filterwarnings(\"ignore\")\n",
        "\n",
        "# write all your imports here:\n",
        "import pandas as pd\n",
        "import numpy as np\n",
        "import matplotlib.pyplot as plt\n",
        "import seaborn as sns\n",
        "from sklearn.ensemble import RandomForestRegressor\n",
        "from sklearn.model_selection import train_test_split\n",
        "from sklearn.preprocessing import LabelEncoder\n",
        "from sklearn.metrics import mean_absolute_error, mean_squared_error,r2_score\n",
        "from sklearn.model_selection import GridSearchCV"
      ],
      "id": "aa7d31e4"
    },
    {
      "cell_type": "markdown",
      "metadata": {
        "id": "ac33cc94"
      },
      "source": [
        "# Data exploration\n",
        "\n",
        " - Get to know your data. Use the following cell to show us how you get acquainted with new data and start a new project. you can feel free to add a few cells if needed.\n",
        " - please add a clear documentation to help understand your thought process. "
      ],
      "id": "ac33cc94"
    },
    {
      "cell_type": "code",
      "execution_count": 2,
      "metadata": {
        "id": "bc3ae3b5",
        "colab": {
          "base_uri": "https://localhost:8080/"
        },
        "outputId": "c8e2e756-35ab-4419-ec5f-f8bb853c5c1b"
      },
      "outputs": [
        {
          "output_type": "execute_result",
          "data": {
            "text/plain": [
              "(172898, 16)"
            ]
          },
          "metadata": {},
          "execution_count": 2
        }
      ],
      "source": [
        "df_00 = pd.read_csv('mediaforce_ds_test_data.csv')\n",
        "df_00.shape"
      ],
      "id": "bc3ae3b5"
    },
    {
      "cell_type": "code",
      "execution_count": 3,
      "metadata": {
        "colab": {
          "base_uri": "https://localhost:8080/"
        },
        "id": "BSXJLn-CZvGO",
        "outputId": "864cb3c1-e004-42f9-9918-fe4f0a823430"
      },
      "outputs": [
        {
          "output_type": "stream",
          "name": "stdout",
          "text": [
            "<class 'pandas.core.frame.DataFrame'>\n",
            "RangeIndex: 172898 entries, 0 to 172897\n",
            "Data columns (total 16 columns):\n",
            " #   Column         Non-Null Count   Dtype  \n",
            "---  ------         --------------   -----  \n",
            " 0   publisher_id   172898 non-null  int64  \n",
            " 1   tag_id         172898 non-null  object \n",
            " 2   domain         172252 non-null  object \n",
            " 3   device_os      154710 non-null  object \n",
            " 4   device_type    153360 non-null  float64\n",
            " 5   creative_id    172898 non-null  int64  \n",
            " 6   creative_type  172898 non-null  int64  \n",
            " 7   price_bucket   172898 non-null  float64\n",
            " 8   hour_category  172898 non-null  int64  \n",
            " 9   bids           172898 non-null  int64  \n",
            " 10  impression     172898 non-null  int64  \n",
            " 11  click          172898 non-null  int64  \n",
            " 12  landing        172898 non-null  int64  \n",
            " 13  conversion     172898 non-null  int64  \n",
            " 14  cost           172897 non-null  float64\n",
            " 15  day_category   172898 non-null  object \n",
            "dtypes: float64(3), int64(9), object(4)\n",
            "memory usage: 21.1+ MB\n"
          ]
        }
      ],
      "source": [
        "df_00.info()"
      ],
      "id": "BSXJLn-CZvGO"
    },
    {
      "cell_type": "code",
      "execution_count": 4,
      "metadata": {
        "colab": {
          "base_uri": "https://localhost:8080/",
          "height": 270
        },
        "id": "P2ggmvdY0Q4s",
        "outputId": "efe730e0-071d-4791-b2e8-5deaffca3307"
      },
      "outputs": [
        {
          "output_type": "execute_result",
          "data": {
            "text/html": [
              "\n",
              "  <div id=\"df-8ce45dfb-258f-4df0-93bd-3ee3151d96fb\">\n",
              "    <div class=\"colab-df-container\">\n",
              "      <div>\n",
              "<style scoped>\n",
              "    .dataframe tbody tr th:only-of-type {\n",
              "        vertical-align: middle;\n",
              "    }\n",
              "\n",
              "    .dataframe tbody tr th {\n",
              "        vertical-align: top;\n",
              "    }\n",
              "\n",
              "    .dataframe thead th {\n",
              "        text-align: right;\n",
              "    }\n",
              "</style>\n",
              "<table border=\"1\" class=\"dataframe\">\n",
              "  <thead>\n",
              "    <tr style=\"text-align: right;\">\n",
              "      <th></th>\n",
              "      <th>publisher_id</th>\n",
              "      <th>tag_id</th>\n",
              "      <th>domain</th>\n",
              "      <th>device_os</th>\n",
              "      <th>device_type</th>\n",
              "      <th>creative_id</th>\n",
              "      <th>creative_type</th>\n",
              "      <th>price_bucket</th>\n",
              "      <th>hour_category</th>\n",
              "      <th>bids</th>\n",
              "      <th>impression</th>\n",
              "      <th>click</th>\n",
              "      <th>landing</th>\n",
              "      <th>conversion</th>\n",
              "      <th>cost</th>\n",
              "      <th>day_category</th>\n",
              "    </tr>\n",
              "  </thead>\n",
              "  <tbody>\n",
              "    <tr>\n",
              "      <th>0</th>\n",
              "      <td>3666</td>\n",
              "      <td>69803</td>\n",
              "      <td>flipboard.com</td>\n",
              "      <td>ios</td>\n",
              "      <td>NaN</td>\n",
              "      <td>433211</td>\n",
              "      <td>1</td>\n",
              "      <td>32.0</td>\n",
              "      <td>1</td>\n",
              "      <td>11749600</td>\n",
              "      <td>4219</td>\n",
              "      <td>10243</td>\n",
              "      <td>9957</td>\n",
              "      <td>1176</td>\n",
              "      <td>109.656693</td>\n",
              "      <td>midweek</td>\n",
              "    </tr>\n",
              "    <tr>\n",
              "      <th>1</th>\n",
              "      <td>3666</td>\n",
              "      <td>69803</td>\n",
              "      <td>flipboard.com</td>\n",
              "      <td>ios</td>\n",
              "      <td>NaN</td>\n",
              "      <td>433211</td>\n",
              "      <td>1</td>\n",
              "      <td>32.0</td>\n",
              "      <td>1</td>\n",
              "      <td>8549173</td>\n",
              "      <td>2931</td>\n",
              "      <td>8692</td>\n",
              "      <td>8406</td>\n",
              "      <td>987</td>\n",
              "      <td>70.396943</td>\n",
              "      <td>weekend</td>\n",
              "    </tr>\n",
              "    <tr>\n",
              "      <th>2</th>\n",
              "      <td>3666</td>\n",
              "      <td>69803</td>\n",
              "      <td>flipboard.com</td>\n",
              "      <td>ios</td>\n",
              "      <td>NaN</td>\n",
              "      <td>433211</td>\n",
              "      <td>1</td>\n",
              "      <td>64.0</td>\n",
              "      <td>1</td>\n",
              "      <td>3643449</td>\n",
              "      <td>1270</td>\n",
              "      <td>7073</td>\n",
              "      <td>6835</td>\n",
              "      <td>787</td>\n",
              "      <td>47.943051</td>\n",
              "      <td>midweek</td>\n",
              "    </tr>\n",
              "    <tr>\n",
              "      <th>3</th>\n",
              "      <td>5885</td>\n",
              "      <td>hd_56010</td>\n",
              "      <td>support.weather.com</td>\n",
              "      <td>ios</td>\n",
              "      <td>NaN</td>\n",
              "      <td>152</td>\n",
              "      <td>2</td>\n",
              "      <td>2.0</td>\n",
              "      <td>1</td>\n",
              "      <td>7732867</td>\n",
              "      <td>501423</td>\n",
              "      <td>2987</td>\n",
              "      <td>2952</td>\n",
              "      <td>575</td>\n",
              "      <td>734.808053</td>\n",
              "      <td>midweek</td>\n",
              "    </tr>\n",
              "    <tr>\n",
              "      <th>4</th>\n",
              "      <td>3666</td>\n",
              "      <td>69803</td>\n",
              "      <td>flipboard.com</td>\n",
              "      <td>ios</td>\n",
              "      <td>NaN</td>\n",
              "      <td>433211</td>\n",
              "      <td>1</td>\n",
              "      <td>32.0</td>\n",
              "      <td>2</td>\n",
              "      <td>5197213</td>\n",
              "      <td>1583</td>\n",
              "      <td>5283</td>\n",
              "      <td>5115</td>\n",
              "      <td>568</td>\n",
              "      <td>42.480644</td>\n",
              "      <td>midweek</td>\n",
              "    </tr>\n",
              "  </tbody>\n",
              "</table>\n",
              "</div>\n",
              "      <button class=\"colab-df-convert\" onclick=\"convertToInteractive('df-8ce45dfb-258f-4df0-93bd-3ee3151d96fb')\"\n",
              "              title=\"Convert this dataframe to an interactive table.\"\n",
              "              style=\"display:none;\">\n",
              "        \n",
              "  <svg xmlns=\"http://www.w3.org/2000/svg\" height=\"24px\"viewBox=\"0 0 24 24\"\n",
              "       width=\"24px\">\n",
              "    <path d=\"M0 0h24v24H0V0z\" fill=\"none\"/>\n",
              "    <path d=\"M18.56 5.44l.94 2.06.94-2.06 2.06-.94-2.06-.94-.94-2.06-.94 2.06-2.06.94zm-11 1L8.5 8.5l.94-2.06 2.06-.94-2.06-.94L8.5 2.5l-.94 2.06-2.06.94zm10 10l.94 2.06.94-2.06 2.06-.94-2.06-.94-.94-2.06-.94 2.06-2.06.94z\"/><path d=\"M17.41 7.96l-1.37-1.37c-.4-.4-.92-.59-1.43-.59-.52 0-1.04.2-1.43.59L10.3 9.45l-7.72 7.72c-.78.78-.78 2.05 0 2.83L4 21.41c.39.39.9.59 1.41.59.51 0 1.02-.2 1.41-.59l7.78-7.78 2.81-2.81c.8-.78.8-2.07 0-2.86zM5.41 20L4 18.59l7.72-7.72 1.47 1.35L5.41 20z\"/>\n",
              "  </svg>\n",
              "      </button>\n",
              "      \n",
              "  <style>\n",
              "    .colab-df-container {\n",
              "      display:flex;\n",
              "      flex-wrap:wrap;\n",
              "      gap: 12px;\n",
              "    }\n",
              "\n",
              "    .colab-df-convert {\n",
              "      background-color: #E8F0FE;\n",
              "      border: none;\n",
              "      border-radius: 50%;\n",
              "      cursor: pointer;\n",
              "      display: none;\n",
              "      fill: #1967D2;\n",
              "      height: 32px;\n",
              "      padding: 0 0 0 0;\n",
              "      width: 32px;\n",
              "    }\n",
              "\n",
              "    .colab-df-convert:hover {\n",
              "      background-color: #E2EBFA;\n",
              "      box-shadow: 0px 1px 2px rgba(60, 64, 67, 0.3), 0px 1px 3px 1px rgba(60, 64, 67, 0.15);\n",
              "      fill: #174EA6;\n",
              "    }\n",
              "\n",
              "    [theme=dark] .colab-df-convert {\n",
              "      background-color: #3B4455;\n",
              "      fill: #D2E3FC;\n",
              "    }\n",
              "\n",
              "    [theme=dark] .colab-df-convert:hover {\n",
              "      background-color: #434B5C;\n",
              "      box-shadow: 0px 1px 3px 1px rgba(0, 0, 0, 0.15);\n",
              "      filter: drop-shadow(0px 1px 2px rgba(0, 0, 0, 0.3));\n",
              "      fill: #FFFFFF;\n",
              "    }\n",
              "  </style>\n",
              "\n",
              "      <script>\n",
              "        const buttonEl =\n",
              "          document.querySelector('#df-8ce45dfb-258f-4df0-93bd-3ee3151d96fb button.colab-df-convert');\n",
              "        buttonEl.style.display =\n",
              "          google.colab.kernel.accessAllowed ? 'block' : 'none';\n",
              "\n",
              "        async function convertToInteractive(key) {\n",
              "          const element = document.querySelector('#df-8ce45dfb-258f-4df0-93bd-3ee3151d96fb');\n",
              "          const dataTable =\n",
              "            await google.colab.kernel.invokeFunction('convertToInteractive',\n",
              "                                                     [key], {});\n",
              "          if (!dataTable) return;\n",
              "\n",
              "          const docLinkHtml = 'Like what you see? Visit the ' +\n",
              "            '<a target=\"_blank\" href=https://colab.research.google.com/notebooks/data_table.ipynb>data table notebook</a>'\n",
              "            + ' to learn more about interactive tables.';\n",
              "          element.innerHTML = '';\n",
              "          dataTable['output_type'] = 'display_data';\n",
              "          await google.colab.output.renderOutput(dataTable, element);\n",
              "          const docLink = document.createElement('div');\n",
              "          docLink.innerHTML = docLinkHtml;\n",
              "          element.appendChild(docLink);\n",
              "        }\n",
              "      </script>\n",
              "    </div>\n",
              "  </div>\n",
              "  "
            ],
            "text/plain": [
              "   publisher_id    tag_id  ...        cost day_category\n",
              "0          3666     69803  ...  109.656693      midweek\n",
              "1          3666     69803  ...   70.396943      weekend\n",
              "2          3666     69803  ...   47.943051      midweek\n",
              "3          5885  hd_56010  ...  734.808053      midweek\n",
              "4          3666     69803  ...   42.480644      midweek\n",
              "\n",
              "[5 rows x 16 columns]"
            ]
          },
          "metadata": {},
          "execution_count": 4
        }
      ],
      "source": [
        "df_00.head()"
      ],
      "id": "P2ggmvdY0Q4s"
    },
    {
      "cell_type": "code",
      "execution_count": 5,
      "metadata": {
        "colab": {
          "base_uri": "https://localhost:8080/"
        },
        "id": "va4Xd6yZ_NSd",
        "outputId": "96cc0fa7-5d1c-47f1-a09d-9c895a7a7307"
      },
      "outputs": [
        {
          "output_type": "execute_result",
          "data": {
            "text/plain": [
              "publisher_id      2316\n",
              "tag_id           18856\n",
              "domain            6487\n",
              "device_os           10\n",
              "device_type          5\n",
              "creative_id          4\n",
              "creative_type        2\n",
              "price_bucket        17\n",
              "hour_category        2\n",
              "bids              9477\n",
              "impression        3313\n",
              "click              190\n",
              "landing            185\n",
              "conversion          75\n",
              "cost             63967\n",
              "day_category         2\n",
              "dtype: int64"
            ]
          },
          "metadata": {},
          "execution_count": 5
        }
      ],
      "source": [
        "# Unique values in the dataframe\n",
        "df_00.nunique()"
      ],
      "id": "va4Xd6yZ_NSd"
    },
    {
      "cell_type": "code",
      "execution_count": 6,
      "metadata": {
        "colab": {
          "base_uri": "https://localhost:8080/"
        },
        "id": "XR2AU-V0AvUW",
        "outputId": "2189030e-d811-4dce-9f15-f1116756a4e0"
      },
      "outputs": [
        {
          "output_type": "stream",
          "name": "stdout",
          "text": [
            "publisher_id         0\n",
            "tag_id               0\n",
            "domain             646\n",
            "device_os        18188\n",
            "device_type      19538\n",
            "creative_id          0\n",
            "creative_type        0\n",
            "price_bucket         0\n",
            "hour_category        0\n",
            "bids                 0\n",
            "impression           0\n",
            "click                0\n",
            "landing              0\n",
            "conversion           0\n",
            "cost                 1\n",
            "day_category         0\n",
            "dtype: int64\n"
          ]
        }
      ],
      "source": [
        "# Null values in the dataframe\n",
        "print(df_00.isnull().sum())"
      ],
      "id": "XR2AU-V0AvUW"
    },
    {
      "cell_type": "code",
      "execution_count": 7,
      "metadata": {
        "colab": {
          "base_uri": "https://localhost:8080/"
        },
        "id": "QwJqi8M3DL02",
        "outputId": "47665e5a-054a-4391-910f-cfb059217b50"
      },
      "outputs": [
        {
          "output_type": "execute_result",
          "data": {
            "text/plain": [
              "publisher_id          0\n",
              "tag_id                0\n",
              "domain                0\n",
              "device_os             0\n",
              "device_type           0\n",
              "creative_id           0\n",
              "creative_type         0\n",
              "price_bucket          0\n",
              "hour_category         0\n",
              "bids                  0\n",
              "impression         1048\n",
              "click            161990\n",
              "landing          162589\n",
              "conversion       170824\n",
              "cost               1047\n",
              "day_category          0\n",
              "dtype: int64"
            ]
          },
          "metadata": {},
          "execution_count": 7
        }
      ],
      "source": [
        "# Zero values in the dataframe\n",
        "(df_00 == 0).astype(int).sum(axis=0)"
      ],
      "id": "QwJqi8M3DL02"
    },
    {
      "cell_type": "markdown",
      "metadata": {
        "id": "5b94b8ad"
      },
      "source": [
        "# Visualization \n",
        "- Now it is time to present your initial understanding of the data to the product team. Please write a class for data presentation. Make sure nothing is hard coded and this is a generic class that run on any data table (and target) you feed into it. Write a seperate method for each visualization"
      ],
      "id": "5b94b8ad"
    },
    {
      "cell_type": "markdown",
      "metadata": {
        "id": "328d3d41"
      },
      "source": [
        "- Use the next cell to run all the functions you have just created. If it is not self explainatory, please add an explanation."
      ],
      "id": "328d3d41"
    },
    {
      "cell_type": "code",
      "execution_count": null,
      "metadata": {
        "id": "Xj4uarg3HEcR"
      },
      "outputs": [],
      "source": [
        "class Viz():\n",
        "\n",
        "    def __init__(self, df):\n",
        "        self.df = df\n",
        "\n",
        "    def show_plot(self,plot_type, x_name, y_name, title):\n",
        "        #plot type: 'o' - scatter plot, '-' - line plot\n",
        "        plt.plot(self.df[x_name].values, self.df[y_name].values, plot_type)\n",
        "        plt.title(title)\n",
        "        plt.xlabel(x_name)\n",
        "        plt.ylabel(y_name)\n",
        "        plt.show()\n",
        "    \n",
        "    def show_hist(self, name,n_bins):\n",
        "        plt.hist(self.df[name].values, bins=n_bins)\n",
        "        plt.title(name)\n",
        "        plt.show()"
      ],
      "id": "Xj4uarg3HEcR"
    },
    {
      "cell_type": "code",
      "execution_count": null,
      "metadata": {
        "id": "U3t_TIxFZvGV",
        "outputId": "2258c418-ae19-4681-a2f4-22a482382329"
      },
      "outputs": [
        {
          "data": {
            "text/plain": [
              "Index(['publisher_id', 'tag_id', 'domain', 'device_os', 'device_type',\n",
              "       'creative_id', 'creative_type', 'price_bucket', 'hour_category', 'bids',\n",
              "       'impression', 'click', 'landing', 'conversion', 'cost', 'day_category'],\n",
              "      dtype='object')"
            ]
          },
          "execution_count": 10,
          "metadata": {},
          "output_type": "execute_result"
        }
      ],
      "source": [
        "df_00.columns"
      ],
      "id": "U3t_TIxFZvGV"
    },
    {
      "cell_type": "code",
      "execution_count": null,
      "metadata": {
        "id": "moLud14ZZvGV"
      },
      "outputs": [],
      "source": [
        "dt = Viz(df_00)"
      ],
      "id": "moLud14ZZvGV"
    },
    {
      "cell_type": "code",
      "execution_count": null,
      "metadata": {
        "id": "Nv05N_eJZvGV",
        "outputId": "22830384-1398-42a9-ad8c-f73cfbaa1228"
      },
      "outputs": [
        {
          "data": {
            "image/png": "[encoded data removed]",
            "text/plain": [
              "<Figure size 432x288 with 1 Axes>"
            ]
          },
          "metadata": {
            "needs_background": "light"
          },
          "output_type": "display_data"
        }
      ],
      "source": [
        "dt.show_plot('-','conversion','click','lineplot')"
      ],
      "id": "Nv05N_eJZvGV"
    },
    {
      "cell_type": "code",
      "execution_count": null,
      "metadata": {
        "id": "8U6CCeAXZvGW",
        "outputId": "b0268c15-46ff-45f3-8e9c-bf5de433b7a7"
      },
      "outputs": [
        {
          "data": {
            "image/png": "[encoded data removed]",
            "text/plain": [
              "<Figure size 432x288 with 1 Axes>"
            ]
          },
          "metadata": {
            "needs_background": "light"
          },
          "output_type": "display_data"
        }
      ],
      "source": [
        "dt.show_plot('o','conversion','click','scatterplot')"
      ],
      "id": "8U6CCeAXZvGW"
    },
    {
      "cell_type": "code",
      "execution_count": null,
      "metadata": {
        "id": "6Tk7Pia4ZvGW",
        "outputId": "c4d71731-3e3e-4981-c7bf-c27bbbe269d2"
      },
      "outputs": [
        {
          "data": {
            "image/png": "[encoded data removed]",
            "text/plain": [
              "<Figure size 432x288 with 1 Axes>"
            ]
          },
          "metadata": {
            "needs_background": "light"
          },
          "output_type": "display_data"
        }
      ],
      "source": [
        "dt.show_hist('price_bucket',100)"
      ],
      "id": "6Tk7Pia4ZvGW"
    },
    {
      "cell_type": "markdown",
      "metadata": {
        "id": "3fbee081"
      },
      "source": [
        "# Preprocessing\n",
        "- Please write a class or script that performs all the preprocessing needed before you start creating your predictive model. Normally, we would break this process into multiple classes/scripts, but as this is a limited task, you can write a single class/function that performs all the preprocessing. "
      ],
      "id": "3fbee081"
    },
    {
      "cell_type": "code",
      "execution_count": 8,
      "metadata": {
        "id": "ZP4oewSjZvGX"
      },
      "outputs": [],
      "source": [
        "def preprocessing_data(df):\n",
        "    features_list= ['publisher_id','tag_id','domain','device_os','device_type','creative_id','hour_category','day_category','price_bucket',\n",
        "                    'bids', 'impression', 'click', 'landing', 'conversion', 'cost']\n",
        "    df = df[features_list]\n",
        "    \n",
        "    # Filling out NaNs\n",
        "    df[['domain']] = df[['domain']].fillna(value='other')\n",
        "    df[['device_os']] = df[['device_os']].fillna(value='other')\n",
        "    df[['device_type']] = df[['device_type']].fillna(value=0)\n",
        "    df[['cost']] = df[['cost']].fillna(value=0)\n",
        "    \n",
        "    # Choosing the most common occurance per permutation when switching from \"long form\" to \"wide form\"\n",
        "    df = df.groupby(['tag_id']).agg(lambda x:x.value_counts().index[0]).reset_index()\n",
        "    \n",
        "    df =df.drop(['tag_id'],axis=1)\n",
        "    \n",
        "    # Grouping very small occurances\n",
        "    df.loc[df['price_bucket'] >= 8.0, 'price_bucket'] = 13\n",
        "    \n",
        "    df.loc[df.device_os == 'chrome os', 'device_os'] = 'other'\n",
        "    df.loc[df.device_os == 'gnu/linux', 'device_os'] = 'other'\n",
        "    df.loc[df.device_os == 'other mobile', 'device_os'] = 'other'\n",
        "    df.loc[df.device_os == 'gaming console', 'device_os'] = 'other'\n",
        "    df.loc[df.device_os == 'firefox os', 'device_os'] = 'other'\n",
        "    df.loc[df.device_os == 'apple ios', 'device_os'] = 'other'\n",
        "    \n",
        "    df.loc[df.device_type == 1.0, 'device_type'] = 0\n",
        "    df.loc[df.device_type == 3.0, 'device_type'] = 0\n",
        "    \n",
        "    # Transforming categorical features into numeric\n",
        "    object_cat_list = ['domain','device_os','day_category']\n",
        "    df[object_cat_list] = df[object_cat_list].apply(LabelEncoder().fit_transform)\n",
        "\n",
        "    \n",
        "    return df"
      ],
      "id": "ZP4oewSjZvGX"
    },
    {
      "cell_type": "code",
      "execution_count": 9,
      "metadata": {
        "id": "-uRw99YkZvGY"
      },
      "outputs": [],
      "source": [
        "df_00 = pd.read_csv('mediaforce_ds_test_data.csv')\n",
        "df_01 = preprocessing_data(df_00)"
      ],
      "id": "-uRw99YkZvGY"
    },
    {
      "cell_type": "code",
      "execution_count": 10,
      "metadata": {
        "colab": {
          "base_uri": "https://localhost:8080/"
        },
        "id": "vPWHAR1SZvGY",
        "outputId": "2d44e9a9-d3c4-45a2-aa18-5e51c4d75e64"
      },
      "outputs": [
        {
          "output_type": "stream",
          "name": "stdout",
          "text": [
            "<class 'pandas.core.frame.DataFrame'>\n",
            "RangeIndex: 18856 entries, 0 to 18855\n",
            "Data columns (total 14 columns):\n",
            " #   Column         Non-Null Count  Dtype  \n",
            "---  ------         --------------  -----  \n",
            " 0   publisher_id   18856 non-null  int64  \n",
            " 1   domain         18856 non-null  int64  \n",
            " 2   device_os      18856 non-null  int64  \n",
            " 3   device_type    18856 non-null  float64\n",
            " 4   creative_id    18856 non-null  int64  \n",
            " 5   hour_category  18856 non-null  int64  \n",
            " 6   day_category   18856 non-null  int64  \n",
            " 7   price_bucket   18856 non-null  float64\n",
            " 8   bids           18856 non-null  int64  \n",
            " 9   impression     18856 non-null  int64  \n",
            " 10  click          18856 non-null  int64  \n",
            " 11  landing        18856 non-null  int64  \n",
            " 12  conversion     18856 non-null  int64  \n",
            " 13  cost           18856 non-null  float64\n",
            "dtypes: float64(3), int64(11)\n",
            "memory usage: 2.0 MB\n"
          ]
        }
      ],
      "source": [
        "# The data is ready for modeling\n",
        "df_01.info()"
      ],
      "id": "vPWHAR1SZvGY"
    },
    {
      "cell_type": "markdown",
      "metadata": {
        "id": "435d7b88"
      },
      "source": [
        "# Modeling\n",
        "- Use the next cell to create your model."
      ],
      "id": "435d7b88"
    },
    {
      "cell_type": "code",
      "execution_count": 27,
      "metadata": {
        "id": "c0c9a50d",
        "colab": {
          "base_uri": "https://localhost:8080/"
        },
        "outputId": "d8fcd7e7-474c-4381-c1b5-321815e6175d"
      },
      "outputs": [
        {
          "output_type": "execute_result",
          "data": {
            "text/plain": [
              "((18856,), (18856, 13))"
            ]
          },
          "metadata": {},
          "execution_count": 27
        }
      ],
      "source": [
        "y = df_01['price_bucket']\n",
        "X = df_01.drop(['price_bucket'],axis=1)\n",
        "y.shape, X.shape"
      ],
      "id": "c0c9a50d"
    },
    {
      "cell_type": "code",
      "execution_count": 28,
      "metadata": {
        "colab": {
          "base_uri": "https://localhost:8080/"
        },
        "id": "_m5PuAz6ZvGZ",
        "outputId": "0e844b36-1a61-4186-8b88-2c151156f722"
      },
      "outputs": [
        {
          "output_type": "execute_result",
          "data": {
            "text/plain": [
              "((15084, 13), (3772, 13))"
            ]
          },
          "metadata": {},
          "execution_count": 28
        }
      ],
      "source": [
        "X_train, X_test, y_train, y_test = train_test_split(X, y, test_size=0.2, random_state=42)\n",
        "X_train.shape, X_test.shape"
      ],
      "id": "_m5PuAz6ZvGZ"
    },
    {
      "cell_type": "code",
      "execution_count": 29,
      "metadata": {
        "id": "qrT00g1QZvGZ"
      },
      "outputs": [],
      "source": [
        "model = RandomForestRegressor(random_state=0, max_depth=10).fit(X_train,y_train)"
      ],
      "id": "qrT00g1QZvGZ"
    },
    {
      "cell_type": "markdown",
      "metadata": {
        "id": "51554df6"
      },
      "source": [
        "# Present your results\n",
        "- Use the next cell to perform your analysis.\n",
        "- report the results and present them verbaly and graphically. \n",
        "\n",
        "note: here you should describe both the model validation score (how you know the model is good) and the prediction validation  score (how you know the prediction is good). "
      ],
      "id": "51554df6"
    },
    {
      "cell_type": "code",
      "execution_count": 14,
      "metadata": {
        "id": "9294029a"
      },
      "outputs": [],
      "source": [
        "def mape_vectorized_v2(y_true, prediction): \n",
        "    #solution to problem of division by 0\n",
        "    mask = y_true != 0\n",
        "    return (np.fabs(y_true - prediction)/y_true)[mask].mean()*100 "
      ],
      "id": "9294029a"
    },
    {
      "cell_type": "code",
      "execution_count": 15,
      "metadata": {
        "id": "eKr4edgfZvGa"
      },
      "outputs": [],
      "source": [
        "def show_regresion_error(predictions, true_values):\n",
        "    df_predict = pd.DataFrame(predictions, true_values)\n",
        "    df_predict = df_predict.reset_index(level=0, inplace=False)\n",
        "    df_predict.columns = ['true_value', 'predictions']\n",
        "    \n",
        "    print(\"Mean squared error (test): %.3f\" % mean_squared_error(true_values, predictions, squared=False))\n",
        "    print(\"Mean absolute error (test): %.3f\" %mean_absolute_error(true_values, predictions ))\n",
        "    print(\"Mean absolute percentage error: %.3f\" %mape_vectorized_v2(true_values, predictions))\n",
        "    print(\"R2_score: %.3f\" %r2_score(true_values, predictions))\n",
        "    \n",
        "    sns.scatterplot(data=df_predict, y='predictions', x='true_value')\n",
        "    sns.lineplot(data=df_predict, x='true_value', y='true_value', color='g')"
      ],
      "id": "eKr4edgfZvGa"
    },
    {
      "cell_type": "code",
      "execution_count": 30,
      "metadata": {
        "colab": {
          "base_uri": "https://localhost:8080/",
          "height": 353
        },
        "id": "850bnj56ZvGa",
        "outputId": "a8f416da-a9a4-4114-c79f-466bc8bedc6f"
      },
      "outputs": [
        {
          "output_type": "stream",
          "name": "stdout",
          "text": [
            "Mean squared error (test): 1.265\n",
            "Mean absolute error (test): 0.466\n",
            "Mean absolute percentage error: 95.801\n",
            "R2_score: 0.491\n"
          ]
        },
        {
          "output_type": "display_data",
          "data": {
            "image/png": "[encoded data removed]",
            "text/plain": [
              "<Figure size 432x288 with 1 Axes>"
            ]
          },
          "metadata": {
            "needs_background": "light"
          }
        }
      ],
      "source": [
        "predictions = model.predict(X_test)\n",
        "show_regresion_error(predictions, y_test)"
      ],
      "id": "850bnj56ZvGa"
    },
    {
      "cell_type": "code",
      "execution_count": 31,
      "metadata": {
        "colab": {
          "base_uri": "https://localhost:8080/",
          "height": 456
        },
        "id": "Bg-EL4siZvGa",
        "outputId": "80362f61-85a2-4ba7-c83d-627bdd60d22d"
      },
      "outputs": [
        {
          "output_type": "execute_result",
          "data": {
            "text/html": [
              "\n",
              "  <div id=\"df-1367f78f-3c0f-4b5a-8a4b-0cfc50728e6c\">\n",
              "    <div class=\"colab-df-container\">\n",
              "      <div>\n",
              "<style scoped>\n",
              "    .dataframe tbody tr th:only-of-type {\n",
              "        vertical-align: middle;\n",
              "    }\n",
              "\n",
              "    .dataframe tbody tr th {\n",
              "        vertical-align: top;\n",
              "    }\n",
              "\n",
              "    .dataframe thead th {\n",
              "        text-align: right;\n",
              "    }\n",
              "</style>\n",
              "<table border=\"1\" class=\"dataframe\">\n",
              "  <thead>\n",
              "    <tr style=\"text-align: right;\">\n",
              "      <th></th>\n",
              "      <th>coef</th>\n",
              "    </tr>\n",
              "  </thead>\n",
              "  <tbody>\n",
              "    <tr>\n",
              "      <th>cost</th>\n",
              "      <td>0.472304</td>\n",
              "    </tr>\n",
              "    <tr>\n",
              "      <th>bids</th>\n",
              "      <td>0.138032</td>\n",
              "    </tr>\n",
              "    <tr>\n",
              "      <th>impression</th>\n",
              "      <td>0.129771</td>\n",
              "    </tr>\n",
              "    <tr>\n",
              "      <th>domain</th>\n",
              "      <td>0.096289</td>\n",
              "    </tr>\n",
              "    <tr>\n",
              "      <th>publisher_id</th>\n",
              "      <td>0.088014</td>\n",
              "    </tr>\n",
              "    <tr>\n",
              "      <th>device_os</th>\n",
              "      <td>0.020483</td>\n",
              "    </tr>\n",
              "    <tr>\n",
              "      <th>device_type</th>\n",
              "      <td>0.016269</td>\n",
              "    </tr>\n",
              "    <tr>\n",
              "      <th>creative_id</th>\n",
              "      <td>0.008518</td>\n",
              "    </tr>\n",
              "    <tr>\n",
              "      <th>day_category</th>\n",
              "      <td>0.008288</td>\n",
              "    </tr>\n",
              "    <tr>\n",
              "      <th>click</th>\n",
              "      <td>0.007606</td>\n",
              "    </tr>\n",
              "    <tr>\n",
              "      <th>landing</th>\n",
              "      <td>0.007400</td>\n",
              "    </tr>\n",
              "    <tr>\n",
              "      <th>hour_category</th>\n",
              "      <td>0.006954</td>\n",
              "    </tr>\n",
              "    <tr>\n",
              "      <th>conversion</th>\n",
              "      <td>0.000070</td>\n",
              "    </tr>\n",
              "  </tbody>\n",
              "</table>\n",
              "</div>\n",
              "      <button class=\"colab-df-convert\" onclick=\"convertToInteractive('df-1367f78f-3c0f-4b5a-8a4b-0cfc50728e6c')\"\n",
              "              title=\"Convert this dataframe to an interactive table.\"\n",
              "              style=\"display:none;\">\n",
              "        \n",
              "  <svg xmlns=\"http://www.w3.org/2000/svg\" height=\"24px\"viewBox=\"0 0 24 24\"\n",
              "       width=\"24px\">\n",
              "    <path d=\"M0 0h24v24H0V0z\" fill=\"none\"/>\n",
              "    <path d=\"M18.56 5.44l.94 2.06.94-2.06 2.06-.94-2.06-.94-.94-2.06-.94 2.06-2.06.94zm-11 1L8.5 8.5l.94-2.06 2.06-.94-2.06-.94L8.5 2.5l-.94 2.06-2.06.94zm10 10l.94 2.06.94-2.06 2.06-.94-2.06-.94-.94-2.06-.94 2.06-2.06.94z\"/><path d=\"M17.41 7.96l-1.37-1.37c-.4-.4-.92-.59-1.43-.59-.52 0-1.04.2-1.43.59L10.3 9.45l-7.72 7.72c-.78.78-.78 2.05 0 2.83L4 21.41c.39.39.9.59 1.41.59.51 0 1.02-.2 1.41-.59l7.78-7.78 2.81-2.81c.8-.78.8-2.07 0-2.86zM5.41 20L4 18.59l7.72-7.72 1.47 1.35L5.41 20z\"/>\n",
              "  </svg>\n",
              "      </button>\n",
              "      \n",
              "  <style>\n",
              "    .colab-df-container {\n",
              "      display:flex;\n",
              "      flex-wrap:wrap;\n",
              "      gap: 12px;\n",
              "    }\n",
              "\n",
              "    .colab-df-convert {\n",
              "      background-color: #E8F0FE;\n",
              "      border: none;\n",
              "      border-radius: 50%;\n",
              "      cursor: pointer;\n",
              "      display: none;\n",
              "      fill: #1967D2;\n",
              "      height: 32px;\n",
              "      padding: 0 0 0 0;\n",
              "      width: 32px;\n",
              "    }\n",
              "\n",
              "    .colab-df-convert:hover {\n",
              "      background-color: #E2EBFA;\n",
              "      box-shadow: 0px 1px 2px rgba(60, 64, 67, 0.3), 0px 1px 3px 1px rgba(60, 64, 67, 0.15);\n",
              "      fill: #174EA6;\n",
              "    }\n",
              "\n",
              "    [theme=dark] .colab-df-convert {\n",
              "      background-color: #3B4455;\n",
              "      fill: #D2E3FC;\n",
              "    }\n",
              "\n",
              "    [theme=dark] .colab-df-convert:hover {\n",
              "      background-color: #434B5C;\n",
              "      box-shadow: 0px 1px 3px 1px rgba(0, 0, 0, 0.15);\n",
              "      filter: drop-shadow(0px 1px 2px rgba(0, 0, 0, 0.3));\n",
              "      fill: #FFFFFF;\n",
              "    }\n",
              "  </style>\n",
              "\n",
              "      <script>\n",
              "        const buttonEl =\n",
              "          document.querySelector('#df-1367f78f-3c0f-4b5a-8a4b-0cfc50728e6c button.colab-df-convert');\n",
              "        buttonEl.style.display =\n",
              "          google.colab.kernel.accessAllowed ? 'block' : 'none';\n",
              "\n",
              "        async function convertToInteractive(key) {\n",
              "          const element = document.querySelector('#df-1367f78f-3c0f-4b5a-8a4b-0cfc50728e6c');\n",
              "          const dataTable =\n",
              "            await google.colab.kernel.invokeFunction('convertToInteractive',\n",
              "                                                     [key], {});\n",
              "          if (!dataTable) return;\n",
              "\n",
              "          const docLinkHtml = 'Like what you see? Visit the ' +\n",
              "            '<a target=\"_blank\" href=https://colab.research.google.com/notebooks/data_table.ipynb>data table notebook</a>'\n",
              "            + ' to learn more about interactive tables.';\n",
              "          element.innerHTML = '';\n",
              "          dataTable['output_type'] = 'display_data';\n",
              "          await google.colab.output.renderOutput(dataTable, element);\n",
              "          const docLink = document.createElement('div');\n",
              "          docLink.innerHTML = docLinkHtml;\n",
              "          element.appendChild(docLink);\n",
              "        }\n",
              "      </script>\n",
              "    </div>\n",
              "  </div>\n",
              "  "
            ],
            "text/plain": [
              "                   coef\n",
              "cost           0.472304\n",
              "bids           0.138032\n",
              "impression     0.129771\n",
              "domain         0.096289\n",
              "publisher_id   0.088014\n",
              "device_os      0.020483\n",
              "device_type    0.016269\n",
              "creative_id    0.008518\n",
              "day_category   0.008288\n",
              "click          0.007606\n",
              "landing        0.007400\n",
              "hour_category  0.006954\n",
              "conversion     0.000070"
            ]
          },
          "metadata": {},
          "execution_count": 31
        }
      ],
      "source": [
        "#random forest\n",
        "feature_importance = pd.DataFrame(model.feature_importances_, \n",
        "                             columns=['coef'], index=X.columns.tolist()) \n",
        "feature_importance = feature_importance.sort_values(by='coef', ascending=False)\n",
        "feature_importance.iloc[:,:]"
      ],
      "id": "Bg-EL4siZvGa"
    },
    {
      "cell_type": "code",
      "source": [
        "# testing Grid Search:\n",
        "param_grid = {\"criterion\": [\"mse\", \"mae\"],\n",
        "              \"min_samples_split\": [10, 20, 40],\n",
        "              \"max_depth\": [2, 6, 8],\n",
        "              \"min_samples_leaf\": [20, 40, 100],\n",
        "              \"max_leaf_nodes\": [5, 20, 100],\n",
        "              }"
      ],
      "metadata": {
        "id": "b1nxz_P-ffgF"
      },
      "id": "b1nxz_P-ffgF",
      "execution_count": 23,
      "outputs": []
    },
    {
      "cell_type": "code",
      "source": [
        "# Manually stopped after 30 minutes of runtime.\n",
        "grid_cv = GridSearchCV(model, param_grid, cv=5)\n",
        "grid_cv.fit(X_train,y_train)\n",
        "print(\"Best Hyperparameters::\\n{}\".format(grid_cv.best_params_))"
      ],
      "metadata": {
        "id": "rRCmHPJPflka"
      },
      "id": "rRCmHPJPflka",
      "execution_count": 25,
      "outputs": []
    },
    {
      "cell_type": "code",
      "execution_count": 18,
      "metadata": {
        "colab": {
          "base_uri": "https://localhost:8080/"
        },
        "id": "gAJDaOtAZvGb",
        "outputId": "8e50b3be-ae68-4a28-fda5-11183a425d6b"
      },
      "outputs": [
        {
          "output_type": "stream",
          "name": "stdout",
          "text": [
            "['cost', 'bids', 'impression', 'domain', 'publisher_id']\n"
          ]
        }
      ],
      "source": [
        "feature_importance_list = feature_importance[feature_importance['coef'] >= 0.1].index.tolist()\n",
        "print(feature_importance_list)"
      ],
      "id": "gAJDaOtAZvGb"
    },
    {
      "cell_type": "code",
      "execution_count": 19,
      "metadata": {
        "colab": {
          "base_uri": "https://localhost:8080/",
          "height": 353
        },
        "id": "2v-z-aCcZvGb",
        "outputId": "ba86f8e5-8a91-4833-e53f-ea1e373346d5"
      },
      "outputs": [
        {
          "output_type": "stream",
          "name": "stdout",
          "text": [
            "Mean squared error (test): 1.251\n",
            "Mean absolute error (test): 0.459\n",
            "Mean absolute percentage error: 90.923\n",
            "R2_score: 0.503\n"
          ]
        },
        {
          "output_type": "display_data",
          "data": {
            "image/png": "[encoded data removed]",
            "text/plain": [
              "<Figure size 432x288 with 1 Axes>"
            ]
          },
          "metadata": {
            "needs_background": "light"
          }
        }
      ],
      "source": [
        "# Testing model #2, with the most influential features:\n",
        "model_2 = RandomForestRegressor(random_state=0).fit(X_train[feature_importance_list],y_train)\n",
        "predictions = model_2.predict(X_test[feature_importance_list])\n",
        "show_regresion_error(predictions, y_test)"
      ],
      "id": "2v-z-aCcZvGb"
    },
    {
      "cell_type": "code",
      "execution_count": 20,
      "metadata": {
        "colab": {
          "base_uri": "https://localhost:8080/"
        },
        "id": "wKSzlpkIZvGb",
        "outputId": "1a680cc1-aa51-48a4-9b51-205bc63476b0"
      },
      "outputs": [
        {
          "output_type": "execute_result",
          "data": {
            "text/plain": [
              "Index(['publisher_id', 'domain', 'device_os', 'device_type', 'creative_id',\n",
              "       'hour_category', 'day_category', 'bids', 'impression', 'click',\n",
              "       'landing', 'conversion', 'cost'],\n",
              "      dtype='object')"
            ]
          },
          "metadata": {},
          "execution_count": 20
        }
      ],
      "source": [
        "X_train.columns"
      ],
      "id": "wKSzlpkIZvGb"
    },
    {
      "cell_type": "code",
      "execution_count": 21,
      "metadata": {
        "id": "T18o6_LSZvGb"
      },
      "outputs": [],
      "source": [
        "feature_list = ['bids', 'impression', 'click',\n",
        "       'landing', 'conversion', 'cost']"
      ],
      "id": "T18o6_LSZvGb"
    },
    {
      "cell_type": "code",
      "execution_count": 22,
      "metadata": {
        "colab": {
          "base_uri": "https://localhost:8080/",
          "height": 353
        },
        "id": "XelqllxNZvGc",
        "outputId": "edd721d6-2232-4132-a162-cb42f968ba58"
      },
      "outputs": [
        {
          "output_type": "stream",
          "name": "stdout",
          "text": [
            "Mean squared error (test): 1.359\n",
            "Mean absolute error (test): 0.499\n",
            "Mean absolute percentage error: 98.873\n",
            "R2_score: 0.413\n"
          ]
        },
        {
          "output_type": "display_data",
          "data": {
            "image/png": "[encoded data removed]",
            "text/plain": [
              "<Figure size 432x288 with 1 Axes>"
            ]
          },
          "metadata": {
            "needs_background": "light"
          }
        }
      ],
      "source": [
        "# Test #3, only numeric features:\n",
        "model_3 = RandomForestRegressor(random_state=0).fit(X_train[feature_list],y_train)\n",
        "predictions = model_3.predict(X_test[feature_list])\n",
        "show_regresion_error(predictions, y_test)"
      ],
      "id": "XelqllxNZvGc"
    },
    {
      "cell_type": "markdown",
      "metadata": {
        "id": "d2a49d1b"
      },
      "source": [
        "# Best of luck - The MediaForce Data Science team"
      ],
      "id": "d2a49d1b"
    },
    {
      "cell_type": "markdown",
      "source": [
        "The results weren't very good, but I'm guessing that wasn't the point of this exercize. \n",
        "\n",
        "* I have divided the data to train and test (20%), the model learned only from the train set and i want to see similar results for the chosen metric on both sets.\n",
        "\n",
        "\n",
        "I could have significally improved the prediction validation score (MSE), with:\n",
        "\n",
        "1) More extensive EDA\n",
        "\n",
        "2) Feature engineering\n",
        "\n",
        "3) Testing Grid Search (manually stopped after 30 minutes of runtime)\n",
        "\n",
        "4) Testing out other models (XGBoost, LGBM and others)\n",
        "\n",
        "5) Cross Validation\n",
        "\n",
        "6) Testing out other encoders for cat. features\n",
        "\n",
        "But for lack of time, I skipped those. \n",
        "\n",
        "\n",
        "More data (the train data [one line for each permutation] was very small) could have also significally improve the results."
      ],
      "metadata": {
        "id": "-DGCkIr1ny8r"
      },
      "id": "-DGCkIr1ny8r"
    }
  ],
  "metadata": {
    "colab": {
      "collapsed_sections": [],
      "name": "media_force_ds_assignment .ipynb",
      "provenance": []
    },
    "kernelspec": {
      "display_name": "Python 3",
      "language": "python",
      "name": "python3"
    },
    "language_info": {
      "codemirror_mode": {
        "name": "ipython",
        "version": 3
      },
      "file_extension": ".py",
      "mimetype": "text/x-python",
      "name": "python",
      "nbconvert_exporter": "python",
      "pygments_lexer": "ipython3",
      "version": "3.8.3"
    },
    "toc": {
      "base_numbering": 1,
      "nav_menu": {},
      "number_sections": true,
      "sideBar": true,
      "skip_h1_title": false,
      "title_cell": "Table of Contents",
      "title_sidebar": "Contents",
      "toc_cell": false,
      "toc_position": {},
      "toc_section_display": true,
      "toc_window_display": false
    }
  },
  "nbformat": 4,
  "nbformat_minor": 5
}